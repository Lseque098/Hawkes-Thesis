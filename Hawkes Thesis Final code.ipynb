{
 "cells": [
  {
   "cell_type": "code",
   "execution_count": 10,
   "metadata": {},
   "outputs": [],
   "source": [
    "#Definición de los paquetes\n",
    "import numpy as np\n",
    "from numba import njit, prange\n",
    "import numpy.random as rnd\n",
    "from scipy.optimize import fsolve, minimize\n",
    "import pandas as pd\n",
    "from tqdm import tqdm\n",
    "from numba import njit, prange\n",
    "from scipy.stats import norm\n",
    "import hawkesbook as hb\n",
    "from statsmodels.graphics.gofplots import qqplot\n",
    "import scipy.stats as stats\n",
    "import matplotlib.pyplot as plt"
   ]
  },
  {
   "cell_type": "code",
   "execution_count": 2,
   "metadata": {},
   "outputs": [],
   "source": [
    "import numpy as np\n",
    "from numba import njit, prange\n",
    "\n",
    "@njit(nogil=True, parallel=True)\n",
    "def em_responsibilities(𝐭, 𝛉):\n",
    "    λ, α, β = 𝛉\n",
    "\n",
    "    N = len(𝐭)\n",
    "    resp = np.empty((N,N), dtype=np.float64)\n",
    "\n",
    "    for i in prange(0,N):\n",
    "        if i == 0:\n",
    "            resp[i, 0] = 1.0\n",
    "            for j in range(1, N):\n",
    "                resp[i, j] = 0.0\n",
    "        else:\n",
    "            resp[i, 0] = λ\n",
    "            rowSum = λ\n",
    "\n",
    "            for j in range(1, i+1):\n",
    "                resp[i, j] = α*np.exp(-β*(𝐭[i] - 𝐭[j-1]))\n",
    "                rowSum += resp[i, j]\n",
    "\n",
    "            for j in range(0, i+1):\n",
    "                resp[i, j] /= rowSum\n",
    "\n",
    "            for j in range(i+1, N):\n",
    "                resp[i, j] = 0.0\n",
    "    return resp\n"
   ]
  },
  {
   "cell_type": "code",
   "execution_count": 3,
   "metadata": {},
   "outputs": [],
   "source": [
    "@njit()\n",
    "def exp_log_likelihood(tiempos, T, 𝛉):\n",
    "    λ, α, β = 𝛉\n",
    "    𝐭 = tiempos\n",
    "    N_T = len(𝐭)\n",
    "\n",
    "    A = np.empty(N_T, dtype=np.float64)\n",
    "    A[0] = 0\n",
    "    #funcion recursiva para calcular A[i] prara cada llegada\n",
    "    \n",
    "    for i in range(1, N_T):\n",
    "        A[i] = np.exp(-β*(𝐭[i] - 𝐭[i-1])) * (1 + A[i-1])\n",
    "\n",
    "    ℓ = -λ*T\n",
    "    for i, t_i in enumerate(tiempos):\n",
    "        ℓ += np.log(λ + α * A[i]) - (α/β) * (1 - np.exp(-β*(T-t_i)))\n",
    "    return ℓ"
   ]
  },
  {
   "cell_type": "code",
   "execution_count": null,
   "metadata": {},
   "outputs": [],
   "source": []
  },
  {
   "cell_type": "code",
   "execution_count": 8,
   "metadata": {},
   "outputs": [
    {
     "data": {
      "text/plain": [
       "DatetimeIndex(['2015-01-01 05:01:10', '2015-01-01 06:56:58',\n",
       "               '2015-01-01 12:04:49', '2015-01-01 13:57:14',\n",
       "               '2015-01-01 16:14:08', '2015-01-02 01:51:44',\n",
       "               '2015-01-03 18:51:13', '2015-01-03 21:08:41',\n",
       "               '2015-01-03 22:22:57', '2015-01-04 01:15:37',\n",
       "               ...\n",
       "               '2019-12-29 18:17:50', '2019-12-30 00:32:52',\n",
       "               '2019-12-30 04:11:10', '2019-12-30 04:32:31',\n",
       "               '2019-12-30 06:22:42', '2019-12-30 14:36:56',\n",
       "               '2019-12-30 18:43:36', '2019-12-31 17:10:14',\n",
       "               '2019-12-31 17:41:12', '2019-12-31 19:02:55'],\n",
       "              dtype='datetime64[ns]', length=6054, freq=None)"
      ]
     },
     "execution_count": 8,
     "metadata": {},
     "output_type": "execute_result"
    }
   ],
   "source": [
    "quakes.index"
   ]
  },
  {
   "cell_type": "code",
   "execution_count": 13,
   "metadata": {},
   "outputs": [
    {
     "data": {
      "text/plain": [
       "array([2.09143519e-01, 2.89560185e-01, 5.03344907e-01, ...,\n",
       "       1.82571544e+03, 1.82573694e+03, 1.82579369e+03])"
      ]
     },
     "execution_count": 13,
     "metadata": {},
     "output_type": "execute_result"
    }
   ],
   "source": [
    "ts"
   ]
  },
  {
   "cell_type": "code",
   "execution_count": 16,
   "metadata": {},
   "outputs": [
    {
     "data": {
      "text/html": [
       "<div>\n",
       "<style scoped>\n",
       "    .dataframe tbody tr th:only-of-type {\n",
       "        vertical-align: middle;\n",
       "    }\n",
       "\n",
       "    .dataframe tbody tr th {\n",
       "        vertical-align: top;\n",
       "    }\n",
       "\n",
       "    .dataframe thead th {\n",
       "        text-align: right;\n",
       "    }\n",
       "</style>\n",
       "<table border=\"1\" class=\"dataframe\">\n",
       "  <thead>\n",
       "    <tr style=\"text-align: right;\">\n",
       "      <th></th>\n",
       "      <th>0</th>\n",
       "      <th>1</th>\n",
       "      <th>2</th>\n",
       "      <th>3</th>\n",
       "      <th>4</th>\n",
       "      <th>5</th>\n",
       "      <th>6</th>\n",
       "      <th>7</th>\n",
       "      <th>8</th>\n",
       "      <th>9</th>\n",
       "      <th>...</th>\n",
       "      <th>6044</th>\n",
       "      <th>6045</th>\n",
       "      <th>6046</th>\n",
       "      <th>6047</th>\n",
       "      <th>6048</th>\n",
       "      <th>6049</th>\n",
       "      <th>6050</th>\n",
       "      <th>6051</th>\n",
       "      <th>6052</th>\n",
       "      <th>6053</th>\n",
       "    </tr>\n",
       "  </thead>\n",
       "  <tbody>\n",
       "    <tr>\n",
       "      <th>0</th>\n",
       "      <td>1.000000</td>\n",
       "      <td>0.000000</td>\n",
       "      <td>0.000000</td>\n",
       "      <td>0.000000</td>\n",
       "      <td>0.000000</td>\n",
       "      <td>0.0</td>\n",
       "      <td>0.0</td>\n",
       "      <td>0.0</td>\n",
       "      <td>0.0</td>\n",
       "      <td>0.0</td>\n",
       "      <td>...</td>\n",
       "      <td>0.000000</td>\n",
       "      <td>0.000000</td>\n",
       "      <td>0.000000</td>\n",
       "      <td>0.000000</td>\n",
       "      <td>0.000000</td>\n",
       "      <td>0.000000</td>\n",
       "      <td>0.000000</td>\n",
       "      <td>0.000000</td>\n",
       "      <td>0.000000</td>\n",
       "      <td>0.000000</td>\n",
       "    </tr>\n",
       "    <tr>\n",
       "      <th>1</th>\n",
       "      <td>0.388910</td>\n",
       "      <td>0.611090</td>\n",
       "      <td>0.000000</td>\n",
       "      <td>0.000000</td>\n",
       "      <td>0.000000</td>\n",
       "      <td>0.0</td>\n",
       "      <td>0.0</td>\n",
       "      <td>0.0</td>\n",
       "      <td>0.0</td>\n",
       "      <td>0.0</td>\n",
       "      <td>...</td>\n",
       "      <td>0.000000</td>\n",
       "      <td>0.000000</td>\n",
       "      <td>0.000000</td>\n",
       "      <td>0.000000</td>\n",
       "      <td>0.000000</td>\n",
       "      <td>0.000000</td>\n",
       "      <td>0.000000</td>\n",
       "      <td>0.000000</td>\n",
       "      <td>0.000000</td>\n",
       "      <td>0.000000</td>\n",
       "    </tr>\n",
       "    <tr>\n",
       "      <th>2</th>\n",
       "      <td>0.347154</td>\n",
       "      <td>0.287238</td>\n",
       "      <td>0.365608</td>\n",
       "      <td>0.000000</td>\n",
       "      <td>0.000000</td>\n",
       "      <td>0.0</td>\n",
       "      <td>0.0</td>\n",
       "      <td>0.0</td>\n",
       "      <td>0.0</td>\n",
       "      <td>0.0</td>\n",
       "      <td>...</td>\n",
       "      <td>0.000000</td>\n",
       "      <td>0.000000</td>\n",
       "      <td>0.000000</td>\n",
       "      <td>0.000000</td>\n",
       "      <td>0.000000</td>\n",
       "      <td>0.000000</td>\n",
       "      <td>0.000000</td>\n",
       "      <td>0.000000</td>\n",
       "      <td>0.000000</td>\n",
       "      <td>0.000000</td>\n",
       "    </tr>\n",
       "    <tr>\n",
       "      <th>3</th>\n",
       "      <td>0.245681</td>\n",
       "      <td>0.160835</td>\n",
       "      <td>0.204717</td>\n",
       "      <td>0.388767</td>\n",
       "      <td>0.000000</td>\n",
       "      <td>0.0</td>\n",
       "      <td>0.0</td>\n",
       "      <td>0.0</td>\n",
       "      <td>0.0</td>\n",
       "      <td>0.0</td>\n",
       "      <td>...</td>\n",
       "      <td>0.000000</td>\n",
       "      <td>0.000000</td>\n",
       "      <td>0.000000</td>\n",
       "      <td>0.000000</td>\n",
       "      <td>0.000000</td>\n",
       "      <td>0.000000</td>\n",
       "      <td>0.000000</td>\n",
       "      <td>0.000000</td>\n",
       "      <td>0.000000</td>\n",
       "      <td>0.000000</td>\n",
       "    </tr>\n",
       "    <tr>\n",
       "      <th>4</th>\n",
       "      <td>0.207807</td>\n",
       "      <td>0.102283</td>\n",
       "      <td>0.130190</td>\n",
       "      <td>0.247237</td>\n",
       "      <td>0.312483</td>\n",
       "      <td>0.0</td>\n",
       "      <td>0.0</td>\n",
       "      <td>0.0</td>\n",
       "      <td>0.0</td>\n",
       "      <td>0.0</td>\n",
       "      <td>...</td>\n",
       "      <td>0.000000</td>\n",
       "      <td>0.000000</td>\n",
       "      <td>0.000000</td>\n",
       "      <td>0.000000</td>\n",
       "      <td>0.000000</td>\n",
       "      <td>0.000000</td>\n",
       "      <td>0.000000</td>\n",
       "      <td>0.000000</td>\n",
       "      <td>0.000000</td>\n",
       "      <td>0.000000</td>\n",
       "    </tr>\n",
       "    <tr>\n",
       "      <th>...</th>\n",
       "      <td>...</td>\n",
       "      <td>...</td>\n",
       "      <td>...</td>\n",
       "      <td>...</td>\n",
       "      <td>...</td>\n",
       "      <td>...</td>\n",
       "      <td>...</td>\n",
       "      <td>...</td>\n",
       "      <td>...</td>\n",
       "      <td>...</td>\n",
       "      <td>...</td>\n",
       "      <td>...</td>\n",
       "      <td>...</td>\n",
       "      <td>...</td>\n",
       "      <td>...</td>\n",
       "      <td>...</td>\n",
       "      <td>...</td>\n",
       "      <td>...</td>\n",
       "      <td>...</td>\n",
       "      <td>...</td>\n",
       "      <td>...</td>\n",
       "    </tr>\n",
       "    <tr>\n",
       "      <th>6049</th>\n",
       "      <td>0.288096</td>\n",
       "      <td>0.000000</td>\n",
       "      <td>0.000000</td>\n",
       "      <td>0.000000</td>\n",
       "      <td>0.000000</td>\n",
       "      <td>0.0</td>\n",
       "      <td>0.0</td>\n",
       "      <td>0.0</td>\n",
       "      <td>0.0</td>\n",
       "      <td>0.0</td>\n",
       "      <td>...</td>\n",
       "      <td>0.028838</td>\n",
       "      <td>0.045452</td>\n",
       "      <td>0.099282</td>\n",
       "      <td>0.156454</td>\n",
       "      <td>0.163570</td>\n",
       "      <td>0.205776</td>\n",
       "      <td>0.000000</td>\n",
       "      <td>0.000000</td>\n",
       "      <td>0.000000</td>\n",
       "      <td>0.000000</td>\n",
       "    </tr>\n",
       "    <tr>\n",
       "      <th>6050</th>\n",
       "      <td>0.272151</td>\n",
       "      <td>0.000000</td>\n",
       "      <td>0.000000</td>\n",
       "      <td>0.000000</td>\n",
       "      <td>0.000000</td>\n",
       "      <td>0.0</td>\n",
       "      <td>0.0</td>\n",
       "      <td>0.0</td>\n",
       "      <td>0.0</td>\n",
       "      <td>0.0</td>\n",
       "      <td>...</td>\n",
       "      <td>0.016295</td>\n",
       "      <td>0.025683</td>\n",
       "      <td>0.056100</td>\n",
       "      <td>0.088405</td>\n",
       "      <td>0.092426</td>\n",
       "      <td>0.116275</td>\n",
       "      <td>0.325582</td>\n",
       "      <td>0.000000</td>\n",
       "      <td>0.000000</td>\n",
       "      <td>0.000000</td>\n",
       "    </tr>\n",
       "    <tr>\n",
       "      <th>6051</th>\n",
       "      <td>0.779607</td>\n",
       "      <td>0.000000</td>\n",
       "      <td>0.000000</td>\n",
       "      <td>0.000000</td>\n",
       "      <td>0.000000</td>\n",
       "      <td>0.0</td>\n",
       "      <td>0.0</td>\n",
       "      <td>0.0</td>\n",
       "      <td>0.0</td>\n",
       "      <td>0.0</td>\n",
       "      <td>...</td>\n",
       "      <td>0.002823</td>\n",
       "      <td>0.004449</td>\n",
       "      <td>0.009719</td>\n",
       "      <td>0.015316</td>\n",
       "      <td>0.016012</td>\n",
       "      <td>0.020144</td>\n",
       "      <td>0.056405</td>\n",
       "      <td>0.094297</td>\n",
       "      <td>0.000000</td>\n",
       "      <td>0.000000</td>\n",
       "    </tr>\n",
       "    <tr>\n",
       "      <th>6052</th>\n",
       "      <td>0.318463</td>\n",
       "      <td>0.000000</td>\n",
       "      <td>0.000000</td>\n",
       "      <td>0.000000</td>\n",
       "      <td>0.000000</td>\n",
       "      <td>0.0</td>\n",
       "      <td>0.0</td>\n",
       "      <td>0.0</td>\n",
       "      <td>0.0</td>\n",
       "      <td>0.0</td>\n",
       "      <td>...</td>\n",
       "      <td>0.001081</td>\n",
       "      <td>0.001704</td>\n",
       "      <td>0.003722</td>\n",
       "      <td>0.005865</td>\n",
       "      <td>0.006132</td>\n",
       "      <td>0.007715</td>\n",
       "      <td>0.021602</td>\n",
       "      <td>0.036113</td>\n",
       "      <td>0.597133</td>\n",
       "      <td>0.000000</td>\n",
       "    </tr>\n",
       "    <tr>\n",
       "      <th>6053</th>\n",
       "      <td>0.222618</td>\n",
       "      <td>0.000000</td>\n",
       "      <td>0.000000</td>\n",
       "      <td>0.000000</td>\n",
       "      <td>0.000000</td>\n",
       "      <td>0.0</td>\n",
       "      <td>0.0</td>\n",
       "      <td>0.0</td>\n",
       "      <td>0.0</td>\n",
       "      <td>0.0</td>\n",
       "      <td>...</td>\n",
       "      <td>0.000637</td>\n",
       "      <td>0.001005</td>\n",
       "      <td>0.002195</td>\n",
       "      <td>0.003458</td>\n",
       "      <td>0.003616</td>\n",
       "      <td>0.004549</td>\n",
       "      <td>0.012737</td>\n",
       "      <td>0.021293</td>\n",
       "      <td>0.352077</td>\n",
       "      <td>0.375539</td>\n",
       "    </tr>\n",
       "  </tbody>\n",
       "</table>\n",
       "<p>6054 rows × 6054 columns</p>\n",
       "</div>"
      ],
      "text/plain": [
       "          0         1         2         3         4     5     6     7     \\\n",
       "0     1.000000  0.000000  0.000000  0.000000  0.000000   0.0   0.0   0.0   \n",
       "1     0.388910  0.611090  0.000000  0.000000  0.000000   0.0   0.0   0.0   \n",
       "2     0.347154  0.287238  0.365608  0.000000  0.000000   0.0   0.0   0.0   \n",
       "3     0.245681  0.160835  0.204717  0.388767  0.000000   0.0   0.0   0.0   \n",
       "4     0.207807  0.102283  0.130190  0.247237  0.312483   0.0   0.0   0.0   \n",
       "...        ...       ...       ...       ...       ...   ...   ...   ...   \n",
       "6049  0.288096  0.000000  0.000000  0.000000  0.000000   0.0   0.0   0.0   \n",
       "6050  0.272151  0.000000  0.000000  0.000000  0.000000   0.0   0.0   0.0   \n",
       "6051  0.779607  0.000000  0.000000  0.000000  0.000000   0.0   0.0   0.0   \n",
       "6052  0.318463  0.000000  0.000000  0.000000  0.000000   0.0   0.0   0.0   \n",
       "6053  0.222618  0.000000  0.000000  0.000000  0.000000   0.0   0.0   0.0   \n",
       "\n",
       "      8     9     ...      6044      6045      6046      6047      6048  \\\n",
       "0      0.0   0.0  ...  0.000000  0.000000  0.000000  0.000000  0.000000   \n",
       "1      0.0   0.0  ...  0.000000  0.000000  0.000000  0.000000  0.000000   \n",
       "2      0.0   0.0  ...  0.000000  0.000000  0.000000  0.000000  0.000000   \n",
       "3      0.0   0.0  ...  0.000000  0.000000  0.000000  0.000000  0.000000   \n",
       "4      0.0   0.0  ...  0.000000  0.000000  0.000000  0.000000  0.000000   \n",
       "...    ...   ...  ...       ...       ...       ...       ...       ...   \n",
       "6049   0.0   0.0  ...  0.028838  0.045452  0.099282  0.156454  0.163570   \n",
       "6050   0.0   0.0  ...  0.016295  0.025683  0.056100  0.088405  0.092426   \n",
       "6051   0.0   0.0  ...  0.002823  0.004449  0.009719  0.015316  0.016012   \n",
       "6052   0.0   0.0  ...  0.001081  0.001704  0.003722  0.005865  0.006132   \n",
       "6053   0.0   0.0  ...  0.000637  0.001005  0.002195  0.003458  0.003616   \n",
       "\n",
       "          6049      6050      6051      6052      6053  \n",
       "0     0.000000  0.000000  0.000000  0.000000  0.000000  \n",
       "1     0.000000  0.000000  0.000000  0.000000  0.000000  \n",
       "2     0.000000  0.000000  0.000000  0.000000  0.000000  \n",
       "3     0.000000  0.000000  0.000000  0.000000  0.000000  \n",
       "4     0.000000  0.000000  0.000000  0.000000  0.000000  \n",
       "...        ...       ...       ...       ...       ...  \n",
       "6049  0.205776  0.000000  0.000000  0.000000  0.000000  \n",
       "6050  0.116275  0.325582  0.000000  0.000000  0.000000  \n",
       "6051  0.020144  0.056405  0.094297  0.000000  0.000000  \n",
       "6052  0.007715  0.021602  0.036113  0.597133  0.000000  \n",
       "6053  0.004549  0.012737  0.021293  0.352077  0.375539  \n",
       "\n",
       "[6054 rows x 6054 columns]"
      ]
     },
     "execution_count": 16,
     "metadata": {},
     "output_type": "execute_result"
    }
   ],
   "source": [
    "pd.DataFrame(em_responsibilities(ts,np.array([1,2,3])))"
   ]
  },
  {
   "cell_type": "code",
   "execution_count": 50,
   "metadata": {},
   "outputs": [
    {
     "data": {
      "text/plain": [
       "1825.7936921296296"
      ]
     },
     "execution_count": 50,
     "metadata": {},
     "output_type": "execute_result"
    }
   ],
   "source": [
    "T=max(ts)\n",
    "T"
   ]
  },
  {
   "cell_type": "code",
   "execution_count": 56,
   "metadata": {},
   "outputs": [
    {
     "data": {
      "text/plain": [
       "(array([1.21787561, 1.89898344, 2.73420643]),\n",
       " 0.0,\n",
       " 2016.8331566703707,\n",
       " 1400.7474826206912)"
      ]
     },
     "execution_count": 56,
     "metadata": {},
     "output_type": "execute_result"
    }
   ],
   "source": [
    "exp_em_iter(𝐭s, T, np.array([1.0,2.0,3.0]),calcLikelihoods=False)"
   ]
  },
  {
   "cell_type": "code",
   "execution_count": 39,
   "metadata": {},
   "outputs": [],
   "source": [
    "theta=np.array([1,2,3])"
   ]
  },
  {
   "cell_type": "code",
   "execution_count": 53,
   "metadata": {},
   "outputs": [],
   "source": [
    "lambda_=theta[0]\n",
    "alpha=theta[1]\n",
    "beta_=theta[2]\n",
    "\n",
    "t=ts"
   ]
  },
  {
   "cell_type": "code",
   "execution_count": 41,
   "metadata": {},
   "outputs": [
    {
     "data": {
      "text/plain": [
       "2028.9531764890653"
      ]
     },
     "execution_count": 41,
     "metadata": {},
     "output_type": "execute_result"
    }
   ],
   "source": [
    "np.sum(1 - np.exp(-beta_*(T - 𝐭)))/beta_ - np.sum((T - 𝐭)*np.exp(-beta_*(T - 𝐭)))"
   ]
  },
  {
   "cell_type": "code",
   "execution_count": 33,
   "metadata": {},
   "outputs": [
    {
     "data": {
      "text/plain": [
       "6024.29782397864"
      ]
     },
     "execution_count": 33,
     "metadata": {},
     "output_type": "execute_result"
    }
   ],
   "source": [
    "np.sum(1 - np.exp(-beta_*(T - 𝐭)))"
   ]
  },
  {
   "cell_type": "code",
   "execution_count": 35,
   "metadata": {},
   "outputs": [
    {
     "data": {
      "text/plain": [
       "17457359.996006984"
      ]
     },
     "execution_count": 35,
     "metadata": {},
     "output_type": "execute_result"
    }
   ],
   "source": [
    "sum(beta_*(T - 𝐭))"
   ]
  },
  {
   "cell_type": "code",
   "execution_count": 42,
   "metadata": {},
   "outputs": [
    {
     "data": {
      "text/plain": [
       "2008.0992746595466"
      ]
     },
     "execution_count": 42,
     "metadata": {},
     "output_type": "execute_result"
    }
   ],
   "source": [
    "np.sum(1 - np.exp(-beta_*(T - 𝐭)))/beta_"
   ]
  },
  {
   "cell_type": "code",
   "execution_count": 51,
   "metadata": {},
   "outputs": [
    {
     "data": {
      "text/plain": [
       "0.2515112653104172"
      ]
     },
     "execution_count": 51,
     "metadata": {},
     "output_type": "execute_result"
    }
   ],
   "source": [
    "np.sum((T - 𝐭)*np.exp(-beta_*(T - 𝐭)))"
   ]
  },
  {
   "cell_type": "code",
   "execution_count": 46,
   "metadata": {},
   "outputs": [
    {
     "data": {
      "text/plain": [
       "-20.853901829518577"
      ]
     },
     "execution_count": 46,
     "metadata": {},
     "output_type": "execute_result"
    }
   ],
   "source": [
    "np.sum((T - t)*np.exp(-beta_*(T - t)))"
   ]
  },
  {
   "cell_type": "code",
   "execution_count": 28,
   "metadata": {},
   "outputs": [],
   "source": [
    "ts\n",
    "T=max(ts)\n",
    "𝛉=np.array([1,2,3])"
   ]
  },
  {
   "cell_type": "code",
   "execution_count": 31,
   "metadata": {},
   "outputs": [
    {
     "data": {
      "text/plain": [
       "array([[1.        , 0.        , 0.        , ..., 0.        , 0.        ,\n",
       "        0.        ],\n",
       "       [0.54012188, 0.45987812, 0.        , ..., 0.        , 0.        ,\n",
       "        0.        ],\n",
       "       [0.45304105, 0.25153445, 0.2954245 , ..., 0.        , 0.        ,\n",
       "        0.        ],\n",
       "       ...,\n",
       "       [0.6696502 , 0.        , 0.        , ..., 0.1031755 , 0.        ,\n",
       "        0.        ],\n",
       "       [0.41144609, 0.        , 0.        , ..., 0.06072434, 0.39412524,\n",
       "        0.        ],\n",
       "       [0.31548878, 0.        , 0.        , ..., 0.04156649, 0.26978315,\n",
       "        0.28163946]])"
      ]
     },
     "execution_count": 31,
     "metadata": {},
     "output_type": "execute_result"
    }
   ],
   "source": [
    "em_responsibilities(𝐭, 𝛉)"
   ]
  },
  {
   "cell_type": "code",
   "execution_count": 1,
   "metadata": {},
   "outputs": [
    {
     "ename": "NameError",
     "evalue": "name 'np' is not defined",
     "output_type": "error",
     "traceback": [
      "\u001b[1;31m---------------------------------------------------------------------------\u001b[0m",
      "\u001b[1;31mNameError\u001b[0m                                 Traceback (most recent call last)",
      "\u001b[1;32m<ipython-input-1-68b9cfd066b4>\u001b[0m in \u001b[0;36m<module>\u001b[1;34m\u001b[0m\n\u001b[1;32m----> 1\u001b[1;33m \u001b[0m𝛉\u001b[0m\u001b[1;33m=\u001b[0m\u001b[0mnp\u001b[0m\u001b[1;33m.\u001b[0m\u001b[0marray\u001b[0m\u001b[1;33m(\u001b[0m\u001b[1;33m[\u001b[0m\u001b[1;36m1\u001b[0m\u001b[1;33m,\u001b[0m\u001b[1;36m2\u001b[0m\u001b[1;33m,\u001b[0m\u001b[1;36m3\u001b[0m\u001b[1;33m]\u001b[0m\u001b[1;33m)\u001b[0m\u001b[1;33m\u001b[0m\u001b[1;33m\u001b[0m\u001b[0m\n\u001b[0m",
      "\u001b[1;31mNameError\u001b[0m: name 'np' is not defined"
     ]
    }
   ],
   "source": []
  },
  {
   "cell_type": "code",
   "execution_count": 15,
   "metadata": {},
   "outputs": [],
   "source": [
    "from scipy.optimize import fsolve\n",
    "import matplotlib.pyplot as plt"
   ]
  },
  {
   "cell_type": "code",
   "execution_count": 11,
   "metadata": {},
   "outputs": [],
   "source": [
    "quakes = pd.read_csv(\"D:/Hawkes Process/sismos japon.csv\")\n",
    "quakes.index = pd.to_datetime(quakes.Day.astype(str) + \"/\" + quakes.Month.astype(str) + \"/\" + quakes.Year.astype(str) + \" \" + quakes.Time, dayfirst=True)\n",
    "quakes.sort_index(inplace=True)\n",
    "\n",
    "# Calculate each arrival as a (fractional) number of days since the\n",
    "# beginning of the observation period\n",
    "timeToQuake = quakes.index - pd.Timestamp(\"1/1/2015\")\n",
    "ts = np.array(timeToQuake.total_seconds() / 60 / 60 / 24)\n",
    "\n",
    "# Calculate the length of the observation period\n",
    "obsPeriod = pd.Timestamp(\"31/12/2019\") - pd.Timestamp(\"1/1/2015\")\n",
    "T = obsPeriod.days\n",
    "𝛉=np.array([1,2,3])"
   ]
  },
  {
   "cell_type": "code",
   "execution_count": 169,
   "metadata": {},
   "outputs": [],
   "source": [
    "import numpy as np\n",
    "from numba import njit, prange\n",
    "import numpy.random as rnd\n",
    "from scipy.optimize import fsolve, minimize\n",
    "\n",
    "t=ts # tiempos de arribo \n",
    "\n",
    "λ_hist=[]\n",
    "α_hist=[]\n",
    "β_hist=[]\n",
    "\n",
    "𝛉=np.array([1 ,2 ,3]) \n",
    "\n",
    "for i in range (0,100):#numero de iteraciones\n",
    "    λ, α, β = 𝛉\n",
    "    N = len(𝐭)\n",
    "    \n",
    "    λ_hist.append(λ)\n",
    "    α_hist.append(α)\n",
    "    β_hist.append(β)\n",
    "\n",
    "    # Paso E\n",
    "    resp = em_responsibilities(𝐭, 𝛉)\n",
    "\n",
    "    # Paso M \n",
    "    λ = np.sum(resp[:,0])/T #calcula lambda\n",
    "\n",
    "    numer = np.sum(resp[:,1:])\n",
    "    denom = np.sum(1 - np.exp(-β*(T - 𝐭)))\n",
    "    denom2 = 0\n",
    "    for j in prange(1, N):\n",
    "        denom2 += np.sum((𝐭[j] - 𝐭[:j])*resp[j,1:j+1])\n",
    "\n",
    "    func = lambda β : β*numer/denom*(np.sum(1 - np.exp(-β*(T - 𝐭)))/β - np.sum((T - 𝐭)*np.exp(-β*(T - 𝐭))))/denom2- β\n",
    "\n",
    "    beta_initial_guess = 5\n",
    "    beta_solution = fsolve(func,beta_initial_guess)\n",
    "    \n",
    "    α=beta_solution[0]*numer/denom #se calcula una vez que se ha calculado beta\n",
    "    𝛉=np.array([λ,α,beta_solution[0]])"
   ]
  },
  {
   "cell_type": "code",
   "execution_count": 170,
   "metadata": {},
   "outputs": [
    {
     "data": {
      "text/plain": [
       "array([2.06894193, 1.27888911, 3.37717583])"
      ]
     },
     "execution_count": 170,
     "metadata": {},
     "output_type": "execute_result"
    }
   ],
   "source": [
    "𝛉"
   ]
  },
  {
   "cell_type": "code",
   "execution_count": 161,
   "metadata": {},
   "outputs": [
    {
     "data": {
      "text/plain": [
       "329.09288204826294"
      ]
     },
     "execution_count": 161,
     "metadata": {},
     "output_type": "execute_result"
    }
   ],
   "source": [
    "denom2"
   ]
  },
  {
   "cell_type": "code",
   "execution_count": 171,
   "metadata": {},
   "outputs": [
    {
     "data": {
      "text/plain": [
       "-1.872475063890988e-09"
      ]
     },
     "execution_count": 171,
     "metadata": {},
     "output_type": "execute_result"
    }
   ],
   "source": [
    "β=3.37717583\n",
    "func(β)"
   ]
  },
  {
   "cell_type": "code",
   "execution_count": 130,
   "metadata": {},
   "outputs": [
    {
     "ename": "KeyboardInterrupt",
     "evalue": "",
     "output_type": "error",
     "traceback": [
      "\u001b[1;31m---------------------------------------------------------------------------\u001b[0m",
      "\u001b[1;31mKeyboardInterrupt\u001b[0m                         Traceback (most recent call last)",
      "\u001b[1;32m<ipython-input-130-4bc2b2f11c7f>\u001b[0m in \u001b[0;36m<module>\u001b[1;34m\u001b[0m\n\u001b[1;32m----> 1\u001b[1;33m \u001b[0mpd\u001b[0m\u001b[1;33m.\u001b[0m\u001b[0mDataFrame\u001b[0m\u001b[1;33m(\u001b[0m\u001b[0mem_responsibilities\u001b[0m\u001b[1;33m(\u001b[0m\u001b[0m𝐭\u001b[0m\u001b[1;33m,\u001b[0m \u001b[0m𝛉\u001b[0m\u001b[1;33m)\u001b[0m\u001b[1;33m)\u001b[0m\u001b[1;33m.\u001b[0m\u001b[0mto_csv\u001b[0m\u001b[1;33m(\u001b[0m\u001b[1;34m\"D:/Hawkes Process/prueba.csv\"\u001b[0m\u001b[1;33m)\u001b[0m\u001b[1;33m\u001b[0m\u001b[1;33m\u001b[0m\u001b[0m\n\u001b[0m",
      "\u001b[1;32mD:\\CENTRO COVID\\Anaconda\\lib\\site-packages\\pandas\\core\\generic.py\u001b[0m in \u001b[0;36mto_csv\u001b[1;34m(self, path_or_buf, sep, na_rep, float_format, columns, header, index, index_label, mode, encoding, compression, quoting, quotechar, line_terminator, chunksize, date_format, doublequote, escapechar, decimal, errors, storage_options)\u001b[0m\n\u001b[0;32m   3461\u001b[0m         )\n\u001b[0;32m   3462\u001b[0m \u001b[1;33m\u001b[0m\u001b[0m\n\u001b[1;32m-> 3463\u001b[1;33m         return DataFrameRenderer(formatter).to_csv(\n\u001b[0m\u001b[0;32m   3464\u001b[0m             \u001b[0mpath_or_buf\u001b[0m\u001b[1;33m,\u001b[0m\u001b[1;33m\u001b[0m\u001b[1;33m\u001b[0m\u001b[0m\n\u001b[0;32m   3465\u001b[0m             \u001b[0mline_terminator\u001b[0m\u001b[1;33m=\u001b[0m\u001b[0mline_terminator\u001b[0m\u001b[1;33m,\u001b[0m\u001b[1;33m\u001b[0m\u001b[1;33m\u001b[0m\u001b[0m\n",
      "\u001b[1;32mD:\\CENTRO COVID\\Anaconda\\lib\\site-packages\\pandas\\io\\formats\\format.py\u001b[0m in \u001b[0;36mto_csv\u001b[1;34m(self, path_or_buf, encoding, sep, columns, index_label, mode, compression, quoting, quotechar, line_terminator, chunksize, date_format, doublequote, escapechar, errors, storage_options)\u001b[0m\n\u001b[0;32m   1103\u001b[0m             \u001b[0mformatter\u001b[0m\u001b[1;33m=\u001b[0m\u001b[0mself\u001b[0m\u001b[1;33m.\u001b[0m\u001b[0mfmt\u001b[0m\u001b[1;33m,\u001b[0m\u001b[1;33m\u001b[0m\u001b[1;33m\u001b[0m\u001b[0m\n\u001b[0;32m   1104\u001b[0m         )\n\u001b[1;32m-> 1105\u001b[1;33m         \u001b[0mcsv_formatter\u001b[0m\u001b[1;33m.\u001b[0m\u001b[0msave\u001b[0m\u001b[1;33m(\u001b[0m\u001b[1;33m)\u001b[0m\u001b[1;33m\u001b[0m\u001b[1;33m\u001b[0m\u001b[0m\n\u001b[0m\u001b[0;32m   1106\u001b[0m \u001b[1;33m\u001b[0m\u001b[0m\n\u001b[0;32m   1107\u001b[0m         \u001b[1;32mif\u001b[0m \u001b[0mcreated_buffer\u001b[0m\u001b[1;33m:\u001b[0m\u001b[1;33m\u001b[0m\u001b[1;33m\u001b[0m\u001b[0m\n",
      "\u001b[1;32mD:\\CENTRO COVID\\Anaconda\\lib\\site-packages\\pandas\\io\\formats\\csvs.py\u001b[0m in \u001b[0;36msave\u001b[1;34m(self)\u001b[0m\n\u001b[0;32m    255\u001b[0m             )\n\u001b[0;32m    256\u001b[0m \u001b[1;33m\u001b[0m\u001b[0m\n\u001b[1;32m--> 257\u001b[1;33m             \u001b[0mself\u001b[0m\u001b[1;33m.\u001b[0m\u001b[0m_save\u001b[0m\u001b[1;33m(\u001b[0m\u001b[1;33m)\u001b[0m\u001b[1;33m\u001b[0m\u001b[1;33m\u001b[0m\u001b[0m\n\u001b[0m\u001b[0;32m    258\u001b[0m \u001b[1;33m\u001b[0m\u001b[0m\n\u001b[0;32m    259\u001b[0m     \u001b[1;32mdef\u001b[0m \u001b[0m_save\u001b[0m\u001b[1;33m(\u001b[0m\u001b[0mself\u001b[0m\u001b[1;33m)\u001b[0m \u001b[1;33m->\u001b[0m \u001b[1;32mNone\u001b[0m\u001b[1;33m:\u001b[0m\u001b[1;33m\u001b[0m\u001b[1;33m\u001b[0m\u001b[0m\n",
      "\u001b[1;32mD:\\CENTRO COVID\\Anaconda\\lib\\site-packages\\pandas\\io\\formats\\csvs.py\u001b[0m in \u001b[0;36m_save\u001b[1;34m(self)\u001b[0m\n\u001b[0;32m    260\u001b[0m         \u001b[1;32mif\u001b[0m \u001b[0mself\u001b[0m\u001b[1;33m.\u001b[0m\u001b[0m_need_to_save_header\u001b[0m\u001b[1;33m:\u001b[0m\u001b[1;33m\u001b[0m\u001b[1;33m\u001b[0m\u001b[0m\n\u001b[0;32m    261\u001b[0m             \u001b[0mself\u001b[0m\u001b[1;33m.\u001b[0m\u001b[0m_save_header\u001b[0m\u001b[1;33m(\u001b[0m\u001b[1;33m)\u001b[0m\u001b[1;33m\u001b[0m\u001b[1;33m\u001b[0m\u001b[0m\n\u001b[1;32m--> 262\u001b[1;33m         \u001b[0mself\u001b[0m\u001b[1;33m.\u001b[0m\u001b[0m_save_body\u001b[0m\u001b[1;33m(\u001b[0m\u001b[1;33m)\u001b[0m\u001b[1;33m\u001b[0m\u001b[1;33m\u001b[0m\u001b[0m\n\u001b[0m\u001b[0;32m    263\u001b[0m \u001b[1;33m\u001b[0m\u001b[0m\n\u001b[0;32m    264\u001b[0m     \u001b[1;32mdef\u001b[0m \u001b[0m_save_header\u001b[0m\u001b[1;33m(\u001b[0m\u001b[0mself\u001b[0m\u001b[1;33m)\u001b[0m \u001b[1;33m->\u001b[0m \u001b[1;32mNone\u001b[0m\u001b[1;33m:\u001b[0m\u001b[1;33m\u001b[0m\u001b[1;33m\u001b[0m\u001b[0m\n",
      "\u001b[1;32mD:\\CENTRO COVID\\Anaconda\\lib\\site-packages\\pandas\\io\\formats\\csvs.py\u001b[0m in \u001b[0;36m_save_body\u001b[1;34m(self)\u001b[0m\n\u001b[0;32m    298\u001b[0m             \u001b[1;32mif\u001b[0m \u001b[0mstart_i\u001b[0m \u001b[1;33m>=\u001b[0m \u001b[0mend_i\u001b[0m\u001b[1;33m:\u001b[0m\u001b[1;33m\u001b[0m\u001b[1;33m\u001b[0m\u001b[0m\n\u001b[0;32m    299\u001b[0m                 \u001b[1;32mbreak\u001b[0m\u001b[1;33m\u001b[0m\u001b[1;33m\u001b[0m\u001b[0m\n\u001b[1;32m--> 300\u001b[1;33m             \u001b[0mself\u001b[0m\u001b[1;33m.\u001b[0m\u001b[0m_save_chunk\u001b[0m\u001b[1;33m(\u001b[0m\u001b[0mstart_i\u001b[0m\u001b[1;33m,\u001b[0m \u001b[0mend_i\u001b[0m\u001b[1;33m)\u001b[0m\u001b[1;33m\u001b[0m\u001b[1;33m\u001b[0m\u001b[0m\n\u001b[0m\u001b[0;32m    301\u001b[0m \u001b[1;33m\u001b[0m\u001b[0m\n\u001b[0;32m    302\u001b[0m     \u001b[1;32mdef\u001b[0m \u001b[0m_save_chunk\u001b[0m\u001b[1;33m(\u001b[0m\u001b[0mself\u001b[0m\u001b[1;33m,\u001b[0m \u001b[0mstart_i\u001b[0m\u001b[1;33m:\u001b[0m \u001b[0mint\u001b[0m\u001b[1;33m,\u001b[0m \u001b[0mend_i\u001b[0m\u001b[1;33m:\u001b[0m \u001b[0mint\u001b[0m\u001b[1;33m)\u001b[0m \u001b[1;33m->\u001b[0m \u001b[1;32mNone\u001b[0m\u001b[1;33m:\u001b[0m\u001b[1;33m\u001b[0m\u001b[1;33m\u001b[0m\u001b[0m\n",
      "\u001b[1;32mD:\\CENTRO COVID\\Anaconda\\lib\\site-packages\\pandas\\io\\formats\\csvs.py\u001b[0m in \u001b[0;36m_save_chunk\u001b[1;34m(self, start_i, end_i)\u001b[0m\n\u001b[0;32m    305\u001b[0m         \u001b[0mdf\u001b[0m \u001b[1;33m=\u001b[0m \u001b[0mself\u001b[0m\u001b[1;33m.\u001b[0m\u001b[0mobj\u001b[0m\u001b[1;33m.\u001b[0m\u001b[0miloc\u001b[0m\u001b[1;33m[\u001b[0m\u001b[0mslicer\u001b[0m\u001b[1;33m]\u001b[0m\u001b[1;33m\u001b[0m\u001b[1;33m\u001b[0m\u001b[0m\n\u001b[0;32m    306\u001b[0m \u001b[1;33m\u001b[0m\u001b[0m\n\u001b[1;32m--> 307\u001b[1;33m         \u001b[0mres\u001b[0m \u001b[1;33m=\u001b[0m \u001b[0mdf\u001b[0m\u001b[1;33m.\u001b[0m\u001b[0m_mgr\u001b[0m\u001b[1;33m.\u001b[0m\u001b[0mto_native_types\u001b[0m\u001b[1;33m(\u001b[0m\u001b[1;33m**\u001b[0m\u001b[0mself\u001b[0m\u001b[1;33m.\u001b[0m\u001b[0m_number_format\u001b[0m\u001b[1;33m)\u001b[0m\u001b[1;33m\u001b[0m\u001b[1;33m\u001b[0m\u001b[0m\n\u001b[0m\u001b[0;32m    308\u001b[0m         \u001b[0mdata\u001b[0m \u001b[1;33m=\u001b[0m \u001b[1;33m[\u001b[0m\u001b[0mres\u001b[0m\u001b[1;33m.\u001b[0m\u001b[0miget_values\u001b[0m\u001b[1;33m(\u001b[0m\u001b[0mi\u001b[0m\u001b[1;33m)\u001b[0m \u001b[1;32mfor\u001b[0m \u001b[0mi\u001b[0m \u001b[1;32min\u001b[0m \u001b[0mrange\u001b[0m\u001b[1;33m(\u001b[0m\u001b[0mlen\u001b[0m\u001b[1;33m(\u001b[0m\u001b[0mres\u001b[0m\u001b[1;33m.\u001b[0m\u001b[0mitems\u001b[0m\u001b[1;33m)\u001b[0m\u001b[1;33m)\u001b[0m\u001b[1;33m]\u001b[0m\u001b[1;33m\u001b[0m\u001b[1;33m\u001b[0m\u001b[0m\n\u001b[0;32m    309\u001b[0m \u001b[1;33m\u001b[0m\u001b[0m\n",
      "\u001b[1;32mD:\\CENTRO COVID\\Anaconda\\lib\\site-packages\\pandas\\core\\internals\\managers.py\u001b[0m in \u001b[0;36mto_native_types\u001b[1;34m(self, **kwargs)\u001b[0m\n\u001b[0;32m    460\u001b[0m         \u001b[1;32min\u001b[0m \u001b[0mformatting\u001b[0m \u001b[1;33m(\u001b[0m\u001b[0mrepr\u001b[0m \u001b[1;33m/\u001b[0m \u001b[0mcsv\u001b[0m\u001b[1;33m)\u001b[0m\u001b[1;33m.\u001b[0m\u001b[1;33m\u001b[0m\u001b[1;33m\u001b[0m\u001b[0m\n\u001b[0;32m    461\u001b[0m         \"\"\"\n\u001b[1;32m--> 462\u001b[1;33m         \u001b[1;32mreturn\u001b[0m \u001b[0mself\u001b[0m\u001b[1;33m.\u001b[0m\u001b[0mapply\u001b[0m\u001b[1;33m(\u001b[0m\u001b[1;34m\"to_native_types\"\u001b[0m\u001b[1;33m,\u001b[0m \u001b[1;33m**\u001b[0m\u001b[0mkwargs\u001b[0m\u001b[1;33m)\u001b[0m\u001b[1;33m\u001b[0m\u001b[1;33m\u001b[0m\u001b[0m\n\u001b[0m\u001b[0;32m    463\u001b[0m \u001b[1;33m\u001b[0m\u001b[0m\n\u001b[0;32m    464\u001b[0m     \u001b[1;32mdef\u001b[0m \u001b[0mis_consolidated\u001b[0m\u001b[1;33m(\u001b[0m\u001b[0mself\u001b[0m\u001b[1;33m)\u001b[0m \u001b[1;33m->\u001b[0m \u001b[0mbool\u001b[0m\u001b[1;33m:\u001b[0m\u001b[1;33m\u001b[0m\u001b[1;33m\u001b[0m\u001b[0m\n",
      "\u001b[1;32mD:\\CENTRO COVID\\Anaconda\\lib\\site-packages\\pandas\\core\\internals\\managers.py\u001b[0m in \u001b[0;36mapply\u001b[1;34m(self, f, align_keys, ignore_failures, **kwargs)\u001b[0m\n\u001b[0;32m    325\u001b[0m                     \u001b[0mapplied\u001b[0m \u001b[1;33m=\u001b[0m \u001b[0mb\u001b[0m\u001b[1;33m.\u001b[0m\u001b[0mapply\u001b[0m\u001b[1;33m(\u001b[0m\u001b[0mf\u001b[0m\u001b[1;33m,\u001b[0m \u001b[1;33m**\u001b[0m\u001b[0mkwargs\u001b[0m\u001b[1;33m)\u001b[0m\u001b[1;33m\u001b[0m\u001b[1;33m\u001b[0m\u001b[0m\n\u001b[0;32m    326\u001b[0m                 \u001b[1;32melse\u001b[0m\u001b[1;33m:\u001b[0m\u001b[1;33m\u001b[0m\u001b[1;33m\u001b[0m\u001b[0m\n\u001b[1;32m--> 327\u001b[1;33m                     \u001b[0mapplied\u001b[0m \u001b[1;33m=\u001b[0m \u001b[0mgetattr\u001b[0m\u001b[1;33m(\u001b[0m\u001b[0mb\u001b[0m\u001b[1;33m,\u001b[0m \u001b[0mf\u001b[0m\u001b[1;33m)\u001b[0m\u001b[1;33m(\u001b[0m\u001b[1;33m**\u001b[0m\u001b[0mkwargs\u001b[0m\u001b[1;33m)\u001b[0m\u001b[1;33m\u001b[0m\u001b[1;33m\u001b[0m\u001b[0m\n\u001b[0m\u001b[0;32m    328\u001b[0m             \u001b[1;32mexcept\u001b[0m \u001b[1;33m(\u001b[0m\u001b[0mTypeError\u001b[0m\u001b[1;33m,\u001b[0m \u001b[0mNotImplementedError\u001b[0m\u001b[1;33m)\u001b[0m\u001b[1;33m:\u001b[0m\u001b[1;33m\u001b[0m\u001b[1;33m\u001b[0m\u001b[0m\n\u001b[0;32m    329\u001b[0m                 \u001b[1;32mif\u001b[0m \u001b[1;32mnot\u001b[0m \u001b[0mignore_failures\u001b[0m\u001b[1;33m:\u001b[0m\u001b[1;33m\u001b[0m\u001b[1;33m\u001b[0m\u001b[0m\n",
      "\u001b[1;32mD:\\CENTRO COVID\\Anaconda\\lib\\site-packages\\pandas\\core\\internals\\blocks.py\u001b[0m in \u001b[0;36mto_native_types\u001b[1;34m(self, na_rep, quoting, **kwargs)\u001b[0m\n\u001b[0;32m    640\u001b[0m     \u001b[1;32mdef\u001b[0m \u001b[0mto_native_types\u001b[0m\u001b[1;33m(\u001b[0m\u001b[0mself\u001b[0m\u001b[1;33m,\u001b[0m \u001b[0mna_rep\u001b[0m\u001b[1;33m=\u001b[0m\u001b[1;34m\"nan\"\u001b[0m\u001b[1;33m,\u001b[0m \u001b[0mquoting\u001b[0m\u001b[1;33m=\u001b[0m\u001b[1;32mNone\u001b[0m\u001b[1;33m,\u001b[0m \u001b[1;33m**\u001b[0m\u001b[0mkwargs\u001b[0m\u001b[1;33m)\u001b[0m\u001b[1;33m:\u001b[0m\u001b[1;33m\u001b[0m\u001b[1;33m\u001b[0m\u001b[0m\n\u001b[0;32m    641\u001b[0m         \u001b[1;34m\"\"\"convert to our native types format\"\"\"\u001b[0m\u001b[1;33m\u001b[0m\u001b[1;33m\u001b[0m\u001b[0m\n\u001b[1;32m--> 642\u001b[1;33m         \u001b[0mresult\u001b[0m \u001b[1;33m=\u001b[0m \u001b[0mto_native_types\u001b[0m\u001b[1;33m(\u001b[0m\u001b[0mself\u001b[0m\u001b[1;33m.\u001b[0m\u001b[0mvalues\u001b[0m\u001b[1;33m,\u001b[0m \u001b[0mna_rep\u001b[0m\u001b[1;33m=\u001b[0m\u001b[0mna_rep\u001b[0m\u001b[1;33m,\u001b[0m \u001b[0mquoting\u001b[0m\u001b[1;33m=\u001b[0m\u001b[0mquoting\u001b[0m\u001b[1;33m,\u001b[0m \u001b[1;33m**\u001b[0m\u001b[0mkwargs\u001b[0m\u001b[1;33m)\u001b[0m\u001b[1;33m\u001b[0m\u001b[1;33m\u001b[0m\u001b[0m\n\u001b[0m\u001b[0;32m    643\u001b[0m         \u001b[1;32mreturn\u001b[0m \u001b[0mself\u001b[0m\u001b[1;33m.\u001b[0m\u001b[0mmake_block\u001b[0m\u001b[1;33m(\u001b[0m\u001b[0mresult\u001b[0m\u001b[1;33m)\u001b[0m\u001b[1;33m\u001b[0m\u001b[1;33m\u001b[0m\u001b[0m\n\u001b[0;32m    644\u001b[0m \u001b[1;33m\u001b[0m\u001b[0m\n",
      "\u001b[1;32mD:\\CENTRO COVID\\Anaconda\\lib\\site-packages\\pandas\\core\\internals\\blocks.py\u001b[0m in \u001b[0;36mto_native_types\u001b[1;34m(values, na_rep, quoting, float_format, decimal, **kwargs)\u001b[0m\n\u001b[0;32m   2061\u001b[0m                 \u001b[0mvalues\u001b[0m \u001b[1;33m=\u001b[0m \u001b[0mnp\u001b[0m\u001b[1;33m.\u001b[0m\u001b[0marray\u001b[0m\u001b[1;33m(\u001b[0m\u001b[0mvalues\u001b[0m\u001b[1;33m,\u001b[0m \u001b[0mdtype\u001b[0m\u001b[1;33m=\u001b[0m\u001b[1;34m\"object\"\u001b[0m\u001b[1;33m)\u001b[0m\u001b[1;33m\u001b[0m\u001b[1;33m\u001b[0m\u001b[0m\n\u001b[0;32m   2062\u001b[0m \u001b[1;33m\u001b[0m\u001b[0m\n\u001b[1;32m-> 2063\u001b[1;33m             \u001b[0mvalues\u001b[0m\u001b[1;33m[\u001b[0m\u001b[0mmask\u001b[0m\u001b[1;33m]\u001b[0m \u001b[1;33m=\u001b[0m \u001b[0mna_rep\u001b[0m\u001b[1;33m\u001b[0m\u001b[1;33m\u001b[0m\u001b[0m\n\u001b[0m\u001b[0;32m   2064\u001b[0m             \u001b[0mvalues\u001b[0m \u001b[1;33m=\u001b[0m \u001b[0mvalues\u001b[0m\u001b[1;33m.\u001b[0m\u001b[0mastype\u001b[0m\u001b[1;33m(\u001b[0m\u001b[0mobject\u001b[0m\u001b[1;33m,\u001b[0m \u001b[0mcopy\u001b[0m\u001b[1;33m=\u001b[0m\u001b[1;32mFalse\u001b[0m\u001b[1;33m)\u001b[0m\u001b[1;33m\u001b[0m\u001b[1;33m\u001b[0m\u001b[0m\n\u001b[0;32m   2065\u001b[0m             \u001b[1;32mreturn\u001b[0m \u001b[0mvalues\u001b[0m\u001b[1;33m\u001b[0m\u001b[1;33m\u001b[0m\u001b[0m\n",
      "\u001b[1;31mKeyboardInterrupt\u001b[0m: "
     ]
    }
   ],
   "source": [
    "pd.DataFrame(em_responsibilities(𝐭, 𝛉)).to_csv(\"D:/Hawkes Process/prueba.csv\")"
   ]
  },
  {
   "cell_type": "code",
   "execution_count": 133,
   "metadata": {},
   "outputs": [
    {
     "data": {
      "text/plain": [
       "0        4928.517551\n",
       "1           1.437322\n",
       "2           1.316825\n",
       "3           1.127591\n",
       "4           1.021587\n",
       "            ...     \n",
       "21217       0.353668\n",
       "21218       0.263167\n",
       "21219       0.193762\n",
       "21220       0.108871\n",
       "21221       0.118723\n",
       "Length: 21222, dtype: float64"
      ]
     },
     "execution_count": 133,
     "metadata": {},
     "output_type": "execute_result"
    }
   ],
   "source": [
    "pd.DataFrame(em_responsibilities(𝐭, 𝛉)).sum(axis=0)"
   ]
  },
  {
   "cell_type": "code",
   "execution_count": 139,
   "metadata": {},
   "outputs": [
    {
     "data": {
      "image/png": "[encoded data removed]",
      "text/plain": [
       "<Figure size 432x288 with 1 Axes>"
      ]
     },
     "metadata": {
      "needs_background": "light"
     },
     "output_type": "display_data"
    }
   ],
   "source": [
    "plt.plot(β, func(β))\n",
    "plt.xlabel(\"beta\")\n",
    "plt.ylabel(\"expression value\")\n",
    "plt.axis([0, 10, 1, 15])\n",
    "plt.grid()\n",
    "plt.show()"
   ]
  },
  {
   "cell_type": "code",
   "execution_count": 30,
   "metadata": {},
   "outputs": [
    {
     "data": {
      "text/plain": [
       "array([1, 1, 2])"
      ]
     },
     "execution_count": 30,
     "metadata": {},
     "output_type": "execute_result"
    }
   ],
   "source": [
    "𝛉"
   ]
  },
  {
   "cell_type": "code",
   "execution_count": 140,
   "metadata": {},
   "outputs": [],
   "source": [
    "func = lambda x : x+2"
   ]
  },
  {
   "cell_type": "code",
   "execution_count": 150,
   "metadata": {},
   "outputs": [
    {
     "data": {
      "image/png": "[encoded data removed]",
      "text/plain": [
       "<Figure size 432x288 with 1 Axes>"
      ]
     },
     "metadata": {
      "needs_background": "light"
     },
     "output_type": "display_data"
    }
   ],
   "source": [
    "import warnings\n",
    "β = np.linspace(-5,5,6054)\n",
    "\n",
    "# the function, which is y = x^2 here\n",
    "\n",
    "\n",
    "# setting the axes at the centre\n",
    "fig = plt.figure()\n",
    "ax = fig.add_subplot(1, 1, 1)\n",
    "ax.spines['left'].set_position('center')\n",
    "ax.spines['bottom'].set_position('zero')\n",
    "ax.spines['right'].set_color('none')\n",
    "ax.spines['top'].set_color('none')\n",
    "ax.xaxis.set_ticks_position('bottom')\n",
    "ax.yaxis.set_ticks_position('left')\n",
    "\n",
    "# plot the function\n",
    "plt.plot(β,y, 'r')\n",
    "\n",
    "# show the plot\n",
    "plt.show()"
   ]
  },
  {
   "cell_type": "code",
   "execution_count": 163,
   "metadata": {},
   "outputs": [],
   "source": [
    "warnings.filterwarnings('ignore')\n",
    "\n",
    "y = np.exp(β)"
   ]
  },
  {
   "cell_type": "code",
   "execution_count": 164,
   "metadata": {},
   "outputs": [
    {
     "data": {
      "text/plain": [
       "array([6.73794700e-03, 6.74908778e-03, 6.76024699e-03, ...,\n",
       "       1.47923590e+02, 1.48168172e+02, 1.48413159e+02])"
      ]
     },
     "execution_count": 164,
     "metadata": {},
     "output_type": "execute_result"
    }
   ],
   "source": [
    "y"
   ]
  },
  {
   "cell_type": "code",
   "execution_count": 165,
   "metadata": {},
   "outputs": [
    {
     "data": {
      "text/plain": [
       "[<matplotlib.lines.Line2D at 0x2720006d610>]"
      ]
     },
     "execution_count": 165,
     "metadata": {},
     "output_type": "execute_result"
    },
    {
     "data": {
      "image/png": "[encoded data removed]",
      "text/plain": [
       "<Figure size 432x288 with 1 Axes>"
      ]
     },
     "metadata": {
      "needs_background": "light"
     },
     "output_type": "display_data"
    }
   ],
   "source": [
    "plt.plot(y)"
   ]
  },
  {
   "cell_type": "code",
   "execution_count": 160,
   "metadata": {},
   "outputs": [
    {
     "data": {
      "text/plain": [
       "array([ nan,  nan,  nan, ..., -inf, -inf, -inf])"
      ]
     },
     "execution_count": 160,
     "metadata": {},
     "output_type": "execute_result"
    }
   ],
   "source": [
    "β*numer/denom*(np.sum(1 - np.exp(-β*(T - 𝐭)))/β - np.sum((T - 𝐭)*np.exp(-β*(T - 𝐭))))/denom2- β"
   ]
  },
  {
   "cell_type": "markdown",
   "metadata": {},
   "source": [
    "# Aplicación Sismos México"
   ]
  },
  {
   "cell_type": "code",
   "execution_count": 4,
   "metadata": {},
   "outputs": [],
   "source": [
    "terremotos = pd.read_csv(\"D:/Hawkes Process/Base de datos Sismos 2020 2 S.csv\")\n",
    "\n",
    "#terremotos = pd.read_csv(\"D:/Hawkes Process/Sismos base de datos final sismos mayores a 3.9.csv\")\n",
    "terremotos.index = pd.to_datetime(terremotos.D.astype(str) + \"/\" + terremotos.M.astype(str) + \"/\" + terremotos.A.astype(str) + \" \" + terremotos.Hora, dayfirst=True)"
   ]
  },
  {
   "cell_type": "code",
   "execution_count": 5,
   "metadata": {},
   "outputs": [],
   "source": [
    "terremotos.sort_index(inplace=True)\n",
    "\n",
    "# Calculate each arrival as a (fractional) number of days since the\n",
    "# beginning of the observation period\n",
    "tiempo_inter_terremoto = terremotos.index - pd.Timestamp(\"7/01/2020\")\n",
    "ts = np.array(tiempo_inter_terremoto.total_seconds() / 60 / 60 / 24)\n",
    "\n",
    "# Calculate the length of the observation period\n",
    "T = max(ts)"
   ]
  },
  {
   "cell_type": "code",
   "execution_count": 123,
   "metadata": {},
   "outputs": [
    {
     "data": {
      "text/plain": [
       "Timestamp('2020-07-01 00:00:00')"
      ]
     },
     "execution_count": 123,
     "metadata": {},
     "output_type": "execute_result"
    }
   ],
   "source": [
    "pd.Timestamp(\"7/01/2020\")"
   ]
  },
  {
   "cell_type": "code",
   "execution_count": 124,
   "metadata": {},
   "outputs": [
    {
     "data": {
      "text/plain": [
       "array([1.65393519e-02, 3.71180556e-02, 3.97800926e-02, ...,\n",
       "       1.83981620e+02, 1.83981817e+02, 1.83999780e+02])"
      ]
     },
     "execution_count": 124,
     "metadata": {},
     "output_type": "execute_result"
    }
   ],
   "source": [
    "ts"
   ]
  },
  {
   "cell_type": "code",
   "execution_count": 125,
   "metadata": {},
   "outputs": [
    {
     "data": {
      "text/html": [
       "<div>\n",
       "<style scoped>\n",
       "    .dataframe tbody tr th:only-of-type {\n",
       "        vertical-align: middle;\n",
       "    }\n",
       "\n",
       "    .dataframe tbody tr th {\n",
       "        vertical-align: top;\n",
       "    }\n",
       "\n",
       "    .dataframe thead th {\n",
       "        text-align: right;\n",
       "    }\n",
       "</style>\n",
       "<table border=\"1\" class=\"dataframe\">\n",
       "  <thead>\n",
       "    <tr style=\"text-align: right;\">\n",
       "      <th></th>\n",
       "      <th>Fecha</th>\n",
       "      <th>Fecha_formato_R</th>\n",
       "      <th>Hora</th>\n",
       "      <th>Magnitud</th>\n",
       "      <th>Latitud</th>\n",
       "      <th>Longitud</th>\n",
       "      <th>Profundidad</th>\n",
       "      <th>Referencia de localizacion</th>\n",
       "      <th>Fecha UTC</th>\n",
       "      <th>Hora UTC</th>\n",
       "      <th>Estatus</th>\n",
       "      <th>Estado</th>\n",
       "      <th>D</th>\n",
       "      <th>M</th>\n",
       "      <th>A</th>\n",
       "    </tr>\n",
       "  </thead>\n",
       "  <tbody>\n",
       "    <tr>\n",
       "      <th>2020-07-01 00:23:49</th>\n",
       "      <td>01/07/2020</td>\n",
       "      <td>2020-07-01</td>\n",
       "      <td>00:23:49</td>\n",
       "      <td>3.2</td>\n",
       "      <td>19.0503</td>\n",
       "      <td>-103.3690</td>\n",
       "      <td>40.7</td>\n",
       "      <td>37 km al NOROESTE de COALCOMAN, MICH</td>\n",
       "      <td>01/07/2020</td>\n",
       "      <td>05:23:49</td>\n",
       "      <td>revisado</td>\n",
       "      <td>MICH</td>\n",
       "      <td>1</td>\n",
       "      <td>7</td>\n",
       "      <td>2020</td>\n",
       "    </tr>\n",
       "    <tr>\n",
       "      <th>2020-07-01 00:53:27</th>\n",
       "      <td>01/07/2020</td>\n",
       "      <td>2020-07-01</td>\n",
       "      <td>00:53:27</td>\n",
       "      <td>3.5</td>\n",
       "      <td>16.8433</td>\n",
       "      <td>-99.5525</td>\n",
       "      <td>13.3</td>\n",
       "      <td>18 km al NOROESTE de SAN MARCOS, GRO</td>\n",
       "      <td>01/07/2020</td>\n",
       "      <td>05:53:27</td>\n",
       "      <td>revisado</td>\n",
       "      <td>GRO</td>\n",
       "      <td>1</td>\n",
       "      <td>7</td>\n",
       "      <td>2020</td>\n",
       "    </tr>\n",
       "    <tr>\n",
       "      <th>2020-07-01 00:57:17</th>\n",
       "      <td>01/07/2020</td>\n",
       "      <td>2020-07-01</td>\n",
       "      <td>00:57:17</td>\n",
       "      <td>3.9</td>\n",
       "      <td>16.2298</td>\n",
       "      <td>-96.0767</td>\n",
       "      <td>64.3</td>\n",
       "      <td>51 km al NORTE de CRUCECITA, OAX</td>\n",
       "      <td>01/07/2020</td>\n",
       "      <td>05:57:17</td>\n",
       "      <td>revisado</td>\n",
       "      <td>OAX</td>\n",
       "      <td>1</td>\n",
       "      <td>7</td>\n",
       "      <td>2020</td>\n",
       "    </tr>\n",
       "    <tr>\n",
       "      <th>2020-07-01 01:03:44</th>\n",
       "      <td>01/07/2020</td>\n",
       "      <td>2020-07-01</td>\n",
       "      <td>01:03:44</td>\n",
       "      <td>1.9</td>\n",
       "      <td>19.3512</td>\n",
       "      <td>-99.1605</td>\n",
       "      <td>7</td>\n",
       "      <td>menos de 1 km al NORESTE de COYOACAN, CDMX</td>\n",
       "      <td>01/07/2020</td>\n",
       "      <td>06:03:44</td>\n",
       "      <td>revisado</td>\n",
       "      <td>CDMX</td>\n",
       "      <td>1</td>\n",
       "      <td>7</td>\n",
       "      <td>2020</td>\n",
       "    </tr>\n",
       "    <tr>\n",
       "      <th>2020-07-01 01:18:00</th>\n",
       "      <td>01/07/2020</td>\n",
       "      <td>2020-07-01</td>\n",
       "      <td>01:18:00</td>\n",
       "      <td>3.3</td>\n",
       "      <td>16.7543</td>\n",
       "      <td>-99.4112</td>\n",
       "      <td>29.3</td>\n",
       "      <td>5 km al SUROESTE de SAN MARCOS, GRO</td>\n",
       "      <td>01/07/2020</td>\n",
       "      <td>06:18:00</td>\n",
       "      <td>revisado</td>\n",
       "      <td>GRO</td>\n",
       "      <td>1</td>\n",
       "      <td>7</td>\n",
       "      <td>2020</td>\n",
       "    </tr>\n",
       "  </tbody>\n",
       "</table>\n",
       "</div>"
      ],
      "text/plain": [
       "                          Fecha Fecha_formato_R      Hora  Magnitud  Latitud  \\\n",
       "2020-07-01 00:23:49  01/07/2020      2020-07-01  00:23:49       3.2  19.0503   \n",
       "2020-07-01 00:53:27  01/07/2020      2020-07-01  00:53:27       3.5  16.8433   \n",
       "2020-07-01 00:57:17  01/07/2020      2020-07-01  00:57:17       3.9  16.2298   \n",
       "2020-07-01 01:03:44  01/07/2020      2020-07-01  01:03:44       1.9  19.3512   \n",
       "2020-07-01 01:18:00  01/07/2020      2020-07-01  01:18:00       3.3  16.7543   \n",
       "\n",
       "                     Longitud Profundidad  \\\n",
       "2020-07-01 00:23:49 -103.3690        40.7   \n",
       "2020-07-01 00:53:27  -99.5525        13.3   \n",
       "2020-07-01 00:57:17  -96.0767        64.3   \n",
       "2020-07-01 01:03:44  -99.1605           7   \n",
       "2020-07-01 01:18:00  -99.4112        29.3   \n",
       "\n",
       "                                     Referencia de localizacion   Fecha UTC  \\\n",
       "2020-07-01 00:23:49        37 km al NOROESTE de COALCOMAN, MICH  01/07/2020   \n",
       "2020-07-01 00:53:27        18 km al NOROESTE de SAN MARCOS, GRO  01/07/2020   \n",
       "2020-07-01 00:57:17            51 km al NORTE de CRUCECITA, OAX  01/07/2020   \n",
       "2020-07-01 01:03:44  menos de 1 km al NORESTE de COYOACAN, CDMX  01/07/2020   \n",
       "2020-07-01 01:18:00         5 km al SUROESTE de SAN MARCOS, GRO  01/07/2020   \n",
       "\n",
       "                     Hora UTC   Estatus Estado  D  M     A  \n",
       "2020-07-01 00:23:49  05:23:49  revisado   MICH  1  7  2020  \n",
       "2020-07-01 00:53:27  05:53:27  revisado    GRO  1  7  2020  \n",
       "2020-07-01 00:57:17  05:57:17  revisado    OAX  1  7  2020  \n",
       "2020-07-01 01:03:44  06:03:44  revisado   CDMX  1  7  2020  \n",
       "2020-07-01 01:18:00  06:18:00  revisado    GRO  1  7  2020  "
      ]
     },
     "execution_count": 125,
     "metadata": {},
     "output_type": "execute_result"
    }
   ],
   "source": [
    "terremotos.head()"
   ]
  },
  {
   "cell_type": "code",
   "execution_count": 126,
   "metadata": {},
   "outputs": [
    {
     "data": {
      "text/plain": [
       "11172"
      ]
     },
     "execution_count": 126,
     "metadata": {},
     "output_type": "execute_result"
    }
   ],
   "source": [
    "len(ts)"
   ]
  },
  {
   "cell_type": "code",
   "execution_count": 6,
   "metadata": {},
   "outputs": [],
   "source": [
    "t=ts\n",
    "\n",
    "λ_hist=[]\n",
    "α_hist=[]\n",
    "β_hist=[]\n",
    "\n",
    "𝛉=np.array([100,200,300]) # Parametros iniciales\n",
    "\n",
    "λ_hist.append(𝛉[0])\n",
    "α_hist.append(𝛉[1])\n",
    "β_hist.append(𝛉[2])\n",
    "\n",
    "for i in range (0,1500):\n",
    "    λ, α, β = 𝛉\n",
    "    N = len(𝐭)\n",
    "\n",
    "    # E step\n",
    "    resp = em_responsibilities(𝐭, 𝛉)\n",
    "\n",
    "    # M step: Update λ\n",
    "    λ = np.sum(resp[:,0])/T\n",
    "\n",
    "    numer = np.sum(resp[:,1:])\n",
    "    denom = np.sum(1 - np.exp(-β*(T - 𝐭)))\n",
    "    denom2 = 0\n",
    "    for j in prange(1, N):\n",
    "        denom2 += np.sum((𝐭[j] - 𝐭[:j])*resp[j,1:j+1])\n",
    "\n",
    "    func = lambda β : β*numer/denom*(np.sum(1 - np.exp(-β*(T - 𝐭)))/β - np.sum((T - 𝐭)*np.exp(-β*(T - 𝐭))))/denom2- β\n",
    "\n",
    "    beta_initial_guess = β\n",
    "    beta_solution = fsolve(func,beta_initial_guess)\n",
    "    \n",
    "    α=beta_solution[0]*numer/denom\n",
    "    𝛉=np.array([λ,α,beta_solution[0]])\n",
    "    λ_hist.append(λ)\n",
    "    α_hist.append(α)\n",
    "    β_hist.append(β)\n",
    "    "
   ]
  },
  {
   "cell_type": "code",
   "execution_count": 7,
   "metadata": {},
   "outputs": [],
   "source": [
    "#second and posterior runs \n",
    "v1=𝛉[0]\n",
    "v2=𝛉[1]\n",
    "v3=𝛉[2]\n",
    "\n",
    "𝛉=np.array([v1 ,v2 ,v3])\n",
    "for i in range (0,500):\n",
    "    λ, α, β = 𝛉\n",
    "    N = len(𝐭)\n",
    "\n",
    "    # E step\n",
    "    resp = em_responsibilities(𝐭, 𝛉)\n",
    "\n",
    "    # M step: Update λ\n",
    "    λ = np.sum(resp[:,0])/T\n",
    "\n",
    "    numer = np.sum(resp[:,1:])\n",
    "    denom = np.sum(1 - np.exp(-β*(T - 𝐭)))\n",
    "    denom2 = 0\n",
    "    for j in prange(1, N):\n",
    "        denom2 += np.sum((𝐭[j] - 𝐭[:j])*resp[j,1:j+1])\n",
    "\n",
    "    func = lambda β : β*numer/denom*(np.sum(1 - np.exp(-β*(T - 𝐭)))/β - np.sum((T - 𝐭)*np.exp(-β*(T - 𝐭))))/denom2- β\n",
    "\n",
    "    beta_initial_guess = β\n",
    "    beta_solution = fsolve(func,beta_initial_guess)\n",
    "    \n",
    "    α=beta_solution[0]*numer/denom\n",
    "    𝛉=np.array([λ,α,beta_solution[0]])\n",
    "    λ_hist.append(λ)\n",
    "    α_hist.append(α)\n",
    "    β_hist.append(β)\n"
   ]
  },
  {
   "cell_type": "code",
   "execution_count": 130,
   "metadata": {},
   "outputs": [
    {
     "data": {
      "text/html": [
       "<div>\n",
       "<style scoped>\n",
       "    .dataframe tbody tr th:only-of-type {\n",
       "        vertical-align: middle;\n",
       "    }\n",
       "\n",
       "    .dataframe tbody tr th {\n",
       "        vertical-align: top;\n",
       "    }\n",
       "\n",
       "    .dataframe thead th {\n",
       "        text-align: right;\n",
       "    }\n",
       "</style>\n",
       "<table border=\"1\" class=\"dataframe\">\n",
       "  <thead>\n",
       "    <tr style=\"text-align: right;\">\n",
       "      <th></th>\n",
       "      <th>0</th>\n",
       "      <th>1</th>\n",
       "      <th>2</th>\n",
       "      <th>3</th>\n",
       "      <th>4</th>\n",
       "      <th>5</th>\n",
       "      <th>6</th>\n",
       "      <th>7</th>\n",
       "      <th>8</th>\n",
       "      <th>9</th>\n",
       "      <th>...</th>\n",
       "      <th>11162</th>\n",
       "      <th>11163</th>\n",
       "      <th>11164</th>\n",
       "      <th>11165</th>\n",
       "      <th>11166</th>\n",
       "      <th>11167</th>\n",
       "      <th>11168</th>\n",
       "      <th>11169</th>\n",
       "      <th>11170</th>\n",
       "      <th>11171</th>\n",
       "    </tr>\n",
       "  </thead>\n",
       "  <tbody>\n",
       "    <tr>\n",
       "      <th>11167</th>\n",
       "      <td>0.617880</td>\n",
       "      <td>0.0</td>\n",
       "      <td>0.0</td>\n",
       "      <td>0.0</td>\n",
       "      <td>0.0</td>\n",
       "      <td>0.0</td>\n",
       "      <td>0.0</td>\n",
       "      <td>0.0</td>\n",
       "      <td>0.0</td>\n",
       "      <td>0.0</td>\n",
       "      <td>...</td>\n",
       "      <td>0.025455</td>\n",
       "      <td>0.026187</td>\n",
       "      <td>0.030748</td>\n",
       "      <td>0.035352</td>\n",
       "      <td>0.041644</td>\n",
       "      <td>0.048812</td>\n",
       "      <td>0.000000</td>\n",
       "      <td>0.000000</td>\n",
       "      <td>0.000000</td>\n",
       "      <td>0.00000</td>\n",
       "    </tr>\n",
       "    <tr>\n",
       "      <th>11168</th>\n",
       "      <td>0.681792</td>\n",
       "      <td>0.0</td>\n",
       "      <td>0.0</td>\n",
       "      <td>0.0</td>\n",
       "      <td>0.0</td>\n",
       "      <td>0.0</td>\n",
       "      <td>0.0</td>\n",
       "      <td>0.0</td>\n",
       "      <td>0.0</td>\n",
       "      <td>0.0</td>\n",
       "      <td>...</td>\n",
       "      <td>0.018398</td>\n",
       "      <td>0.018928</td>\n",
       "      <td>0.022225</td>\n",
       "      <td>0.025552</td>\n",
       "      <td>0.030100</td>\n",
       "      <td>0.035281</td>\n",
       "      <td>0.042012</td>\n",
       "      <td>0.000000</td>\n",
       "      <td>0.000000</td>\n",
       "      <td>0.00000</td>\n",
       "    </tr>\n",
       "    <tr>\n",
       "      <th>11169</th>\n",
       "      <td>0.655234</td>\n",
       "      <td>0.0</td>\n",
       "      <td>0.0</td>\n",
       "      <td>0.0</td>\n",
       "      <td>0.0</td>\n",
       "      <td>0.0</td>\n",
       "      <td>0.0</td>\n",
       "      <td>0.0</td>\n",
       "      <td>0.0</td>\n",
       "      <td>0.0</td>\n",
       "      <td>...</td>\n",
       "      <td>0.016590</td>\n",
       "      <td>0.017068</td>\n",
       "      <td>0.020040</td>\n",
       "      <td>0.023041</td>\n",
       "      <td>0.027142</td>\n",
       "      <td>0.031813</td>\n",
       "      <td>0.037883</td>\n",
       "      <td>0.057833</td>\n",
       "      <td>0.000000</td>\n",
       "      <td>0.00000</td>\n",
       "    </tr>\n",
       "    <tr>\n",
       "      <th>11170</th>\n",
       "      <td>0.617691</td>\n",
       "      <td>0.0</td>\n",
       "      <td>0.0</td>\n",
       "      <td>0.0</td>\n",
       "      <td>0.0</td>\n",
       "      <td>0.0</td>\n",
       "      <td>0.0</td>\n",
       "      <td>0.0</td>\n",
       "      <td>0.0</td>\n",
       "      <td>0.0</td>\n",
       "      <td>...</td>\n",
       "      <td>0.015607</td>\n",
       "      <td>0.016056</td>\n",
       "      <td>0.018852</td>\n",
       "      <td>0.021675</td>\n",
       "      <td>0.025532</td>\n",
       "      <td>0.029927</td>\n",
       "      <td>0.035637</td>\n",
       "      <td>0.054404</td>\n",
       "      <td>0.057984</td>\n",
       "      <td>0.00000</td>\n",
       "    </tr>\n",
       "    <tr>\n",
       "      <th>11171</th>\n",
       "      <td>0.629819</td>\n",
       "      <td>0.0</td>\n",
       "      <td>0.0</td>\n",
       "      <td>0.0</td>\n",
       "      <td>0.0</td>\n",
       "      <td>0.0</td>\n",
       "      <td>0.0</td>\n",
       "      <td>0.0</td>\n",
       "      <td>0.0</td>\n",
       "      <td>0.0</td>\n",
       "      <td>...</td>\n",
       "      <td>0.013118</td>\n",
       "      <td>0.013495</td>\n",
       "      <td>0.015846</td>\n",
       "      <td>0.018218</td>\n",
       "      <td>0.021461</td>\n",
       "      <td>0.025155</td>\n",
       "      <td>0.029954</td>\n",
       "      <td>0.045728</td>\n",
       "      <td>0.048737</td>\n",
       "      <td>0.04884</td>\n",
       "    </tr>\n",
       "  </tbody>\n",
       "</table>\n",
       "<p>5 rows × 11172 columns</p>\n",
       "</div>"
      ],
      "text/plain": [
       "          0      1      2      3      4      5      6      7      8      \\\n",
       "11167  0.617880    0.0    0.0    0.0    0.0    0.0    0.0    0.0    0.0   \n",
       "11168  0.681792    0.0    0.0    0.0    0.0    0.0    0.0    0.0    0.0   \n",
       "11169  0.655234    0.0    0.0    0.0    0.0    0.0    0.0    0.0    0.0   \n",
       "11170  0.617691    0.0    0.0    0.0    0.0    0.0    0.0    0.0    0.0   \n",
       "11171  0.629819    0.0    0.0    0.0    0.0    0.0    0.0    0.0    0.0   \n",
       "\n",
       "       9      ...     11162     11163     11164     11165     11166     11167  \\\n",
       "11167    0.0  ...  0.025455  0.026187  0.030748  0.035352  0.041644  0.048812   \n",
       "11168    0.0  ...  0.018398  0.018928  0.022225  0.025552  0.030100  0.035281   \n",
       "11169    0.0  ...  0.016590  0.017068  0.020040  0.023041  0.027142  0.031813   \n",
       "11170    0.0  ...  0.015607  0.016056  0.018852  0.021675  0.025532  0.029927   \n",
       "11171    0.0  ...  0.013118  0.013495  0.015846  0.018218  0.021461  0.025155   \n",
       "\n",
       "          11168     11169     11170    11171  \n",
       "11167  0.000000  0.000000  0.000000  0.00000  \n",
       "11168  0.042012  0.000000  0.000000  0.00000  \n",
       "11169  0.037883  0.057833  0.000000  0.00000  \n",
       "11170  0.035637  0.054404  0.057984  0.00000  \n",
       "11171  0.029954  0.045728  0.048737  0.04884  \n",
       "\n",
       "[5 rows x 11172 columns]"
      ]
     },
     "execution_count": 130,
     "metadata": {},
     "output_type": "execute_result"
    }
   ],
   "source": [
    "pd.DataFrame(em_responsibilities(𝐭, 𝛉)).tail()"
   ]
  },
  {
   "cell_type": "code",
   "execution_count": 8,
   "metadata": {},
   "outputs": [
    {
     "data": {
      "text/plain": [
       "array([39.66394642,  3.73123481, 10.75374396])"
      ]
     },
     "execution_count": 8,
     "metadata": {},
     "output_type": "execute_result"
    }
   ],
   "source": [
    "𝛉"
   ]
  },
  {
   "cell_type": "code",
   "execution_count": 9,
   "metadata": {},
   "outputs": [
    {
     "data": {
      "text/plain": [
       "[100,\n",
       " 48.4621513187779,\n",
       " 50.77645677936972,\n",
       " 52.08484033938306,\n",
       " 52.920977947557574,\n",
       " 53.49512311483903,\n",
       " 53.9077502858019,\n",
       " 54.21324549959274,\n",
       " 54.443746614247445,\n",
       " 54.619527589082935,\n",
       " 54.75404390491251,\n",
       " 54.85659598228197,\n",
       " 54.933830061382785,\n",
       " 54.99062988930058,\n",
       " 55.03067015889295,\n",
       " 55.05677288552593,\n",
       " 55.071144213930495,\n",
       " 55.0755361033605,\n",
       " 55.07135936968704,\n",
       " 55.05976438628585,\n",
       " 55.04169977450441,\n",
       " 55.017955800236564,\n",
       " 54.98919694414814,\n",
       " 54.95598667867319,\n",
       " 54.91880654946623,\n",
       " 54.87807103659801,\n",
       " 54.834139249033434,\n",
       " 54.787324215345194,\n",
       " 54.73790033032008,\n",
       " 54.68610937287353,\n",
       " 54.63216540700975,\n",
       " 54.57625880214207,\n",
       " 54.51855955360513,\n",
       " 54.459220042949404,\n",
       " 54.39837734665571,\n",
       " 54.33615517846439,\n",
       " 54.272665532608634,\n",
       " 54.20801008145562,\n",
       " 54.14228137036649,\n",
       " 54.075563844234246,\n",
       " 54.007934733590886,\n",
       " 53.93946482297993,\n",
       " 53.87021912015518,\n",
       " 53.800257441357296,\n",
       " 53.72963492525901,\n",
       " 53.65840248601666,\n",
       " 53.58660721411917,\n",
       " 53.51429273229867,\n",
       " 53.44149951260011,\n",
       " 53.36826515974493,\n",
       " 53.29462466513232,\n",
       " 53.22061063516176,\n",
       " 53.14625349701612,\n",
       " 53.07158168458686,\n",
       " 52.996621806841105,\n",
       " 52.92139880061059,\n",
       " 52.845936069510245,\n",
       " 52.7702556104691,\n",
       " 52.69437812915862,\n",
       " 52.618323145443426,\n",
       " 52.5421090898362,\n",
       " 52.46575339182062,\n",
       " 52.389272560802816,\n",
       " 52.31268226036386,\n",
       " 52.235997376410424,\n",
       " 52.15923207975419,\n",
       " 52.082399883594654,\n",
       " 52.005513696329814,\n",
       " 51.928585870076965,\n",
       " 51.851628245247454,\n",
       " 51.774652191486865,\n",
       " 51.69766864526263,\n",
       " 51.62068814435637,\n",
       " 51.54372085949444,\n",
       " 51.46677662333102,\n",
       " 51.38986495698013,\n",
       " 51.31299509427708,\n",
       " 51.236176003934986,\n",
       " 51.15941640975018,\n",
       " 51.08272480899773,\n",
       " 51.00610948914958,\n",
       " 50.9295785430358,\n",
       " 50.853139882563674,\n",
       " 50.776801251099286,\n",
       " 50.70057023461044,\n",
       " 50.62445427166288,\n",
       " 50.548460662355176,\n",
       " 50.472596576272906,\n",
       " 50.396869059537245,\n",
       " 50.32128504101806,\n",
       " 50.24585133777753,\n",
       " 50.170574659806334,\n",
       " 50.095461614109794,\n",
       " 50.020518708198956,\n",
       " 49.945752353036994,\n",
       " 49.871168865488976,\n",
       " 49.796774470319896,\n",
       " 49.72257530178296,\n",
       " 49.64857740483705,\n",
       " 49.57478673603107,\n",
       " 49.501209164089,\n",
       " 49.427850470228066,\n",
       " 49.35471634824065,\n",
       " 49.28181240436764,\n",
       " 49.209144156989744,\n",
       " 49.13671703616128,\n",
       " 49.06453638300909,\n",
       " 48.992607449018124,\n",
       " 48.92093539522323,\n",
       " 48.849525291324866,\n",
       " 48.77838211474656,\n",
       " 48.70751074964872,\n",
       " 48.63691598591398,\n",
       " 48.56660251811625,\n",
       " 48.49657494448646,\n",
       " 48.42683776588539,\n",
       " 48.35739538479367,\n",
       " 48.288252104327924,\n",
       " 48.219412127292024,\n",
       " 48.150879555269334,\n",
       " 48.08265838776363,\n",
       " 48.01475252139418,\n",
       " 47.94716574914969,\n",
       " 47.87990175970639,\n",
       " 47.812964136812894,\n",
       " 47.74635635874633,\n",
       " 47.68008179784141,\n",
       " 47.614143720095136,\n",
       " 47.548545284848764,\n",
       " 47.483289544548235,\n",
       " 47.418379444583934,\n",
       " 47.35381782321047,\n",
       " 47.28960741154592,\n",
       " 47.22575083365138,\n",
       " 47.16225060668937,\n",
       " 47.099109141160866,\n",
       " 47.0363287412198,\n",
       " 46.97391160506379,\n",
       " 46.91185982539942,\n",
       " 46.850175389980706,\n",
       " 46.78886018221915,\n",
       " 46.72791598186261,\n",
       " 46.66734446574194,\n",
       " 46.60714720858217,\n",
       " 46.54732568387728,\n",
       " 46.48788126482417,\n",
       " 46.42881522531549,\n",
       " 46.37012874098753,\n",
       " 46.311822890321146,\n",
       " 46.25389865579235,\n",
       " 46.1963569250716,\n",
       " 46.13919849226712,\n",
       " 46.08242405921122,\n",
       " 46.026034236785954,\n",
       " 45.97002954628635,\n",
       " 45.91441042081784,\n",
       " 45.85917720672566,\n",
       " 45.80433016505401,\n",
       " 45.74986947303187,\n",
       " 45.69579522558318,\n",
       " 45.642107436859284,\n",
       " 45.588806041791045,\n",
       " 45.53589089765812,\n",
       " 45.483361785673424,\n",
       " 45.43121841258072,\n",
       " 45.379460412262574,\n",
       " 45.32808734735756,\n",
       " 45.27709871088337,\n",
       " 45.22649392786571,\n",
       " 45.17627235696918,\n",
       " 45.12643329212987,\n",
       " 45.07697596418693,\n",
       " 45.027899542512245,\n",
       " 44.979203136635846,\n",
       " 44.93088579786615,\n",
       " 44.882946520903545,\n",
       " 44.835384245445255,\n",
       " 44.788197857781284,\n",
       " 44.741386192379004,\n",
       " 44.69494803345657,\n",
       " 44.64888211654232,\n",
       " 44.60318713002101,\n",
       " 44.55786171666436,\n",
       " 44.51290447514612,\n",
       " 44.46831396153964,\n",
       " 44.42408869079836,\n",
       " 44.38022713821774,\n",
       " 44.33672774087838,\n",
       " 44.29358889906877,\n",
       " 44.25080897768854,\n",
       " 44.20838630763047,\n",
       " 44.16631918714134,\n",
       " 44.12460588316114,\n",
       " 44.08324463264017,\n",
       " 44.04223364383368,\n",
       " 44.00157109757398,\n",
       " 43.961255148519506,\n",
       " 43.921283926380255,\n",
       " 43.88165553712069,\n",
       " 43.84236806413865,\n",
       " 43.803419569420555,\n",
       " 43.76480809467352,\n",
       " 43.72653166243297,\n",
       " 43.68858827714719,\n",
       " 43.65097592623764,\n",
       " 43.61369258113619,\n",
       " 43.57673619829814,\n",
       " 43.54010472019207,\n",
       " 43.50379607626617,\n",
       " 43.46780818389134,\n",
       " 43.43213894928124,\n",
       " 43.39678626838909,\n",
       " 43.361748027782255,\n",
       " 43.32702210549351,\n",
       " 43.29260637185086,\n",
       " 43.25849869028453,\n",
       " 43.224696918112365,\n",
       " 43.1911989073036,\n",
       " 43.15800250522159,\n",
       " 43.12510555534482,\n",
       " 43.09250589796781,\n",
       " 43.06020137088119,\n",
       " 43.028189810031705,\n",
       " 42.99646905016229,\n",
       " 42.96503692543262,\n",
       " 42.933891270020794,\n",
       " 42.90302991870509,\n",
       " 42.87245070742854,\n",
       " 42.84215147384413,\n",
       " 42.8121300578425,\n",
       " 42.782384302062276,\n",
       " 42.75291205238269,\n",
       " 42.72371115839961,\n",
       " 42.69477947388499,\n",
       " 42.66611485722997,\n",
       " 42.63771517187204,\n",
       " 42.60957828670685,\n",
       " 42.58170207648445,\n",
       " 42.55408442219116,\n",
       " 42.52672321141614,\n",
       " 42.499616338704605,\n",
       " 42.47276170589629,\n",
       " 42.44615722245093,\n",
       " 42.41980080576019,\n",
       " 42.39369038144653,\n",
       " 42.367823883650026,\n",
       " 42.342199255301935,\n",
       " 42.31681444838734,\n",
       " 42.291667424195175,\n",
       " 42.26675615355729,\n",
       " 42.24207861707617,\n",
       " 42.217632805342106,\n",
       " 42.19341671913976,\n",
       " 42.16942836964413,\n",
       " 42.14566577860712,\n",
       " 42.12212697853384,\n",
       " 42.098810012850066,\n",
       " 42.0757129360598,\n",
       " 42.05283381389459,\n",
       " 42.03017072345391,\n",
       " 42.00772175333705,\n",
       " 41.98548500376699,\n",
       " 41.96345858670654,\n",
       " 41.941640625966286,\n",
       " 41.9200292573056,\n",
       " 41.89862262852611,\n",
       " 41.87741889955824,\n",
       " 41.85641624254123,\n",
       " 41.83561284189614,\n",
       " 41.81500689439275,\n",
       " 41.7945966092103,\n",
       " 41.774380207992316,\n",
       " 41.75435592489548,\n",
       " 41.734522006633064,\n",
       " 41.714876712513004,\n",
       " 41.69541831447061,\n",
       " 41.67614509709647,\n",
       " 41.65705535765917,\n",
       " 41.6381474061237,\n",
       " 41.619419565165195,\n",
       " 41.60087017017795,\n",
       " 41.582497569280925,\n",
       " 41.5643001233186,\n",
       " 41.54627620585823,\n",
       " 41.52842420318297,\n",
       " 41.510742514281965,\n",
       " 41.49322955083641,\n",
       " 41.47588373720264,\n",
       " 41.45870351039153,\n",
       " 41.44168732004544,\n",
       " 41.424833628411555,\n",
       " 41.40814091031279,\n",
       " 41.3916076531156,\n",
       " 41.375232356695626,\n",
       " 41.35901353340041,\n",
       " 41.34294970800978,\n",
       " 41.32703941769414,\n",
       " 41.31128121197037,\n",
       " 41.295673652655445,\n",
       " 41.28021531381848,\n",
       " 41.26490478173055,\n",
       " 41.24974065481261,\n",
       " 41.23472154358189,\n",
       " 41.21984607059644,\n",
       " 41.20511287039831,\n",
       " 41.19052058945498,\n",
       " 41.1760678860994,\n",
       " 41.161753430468714,\n",
       " 41.147575904441965,\n",
       " 41.133534001576194,\n",
       " 41.1196264270416,\n",
       " 41.10585189755521,\n",
       " 41.09220914131452,\n",
       " 41.07869689792902,\n",
       " 41.06531391835152,\n",
       " 41.05205896480854,\n",
       " 41.038930810729745,\n",
       " 41.025928240676585,\n",
       " 41.01305005027067,\n",
       " 41.00029504612112,\n",
       " 40.98766204575144,\n",
       " 40.975149877525915,\n",
       " 40.96275738057544,\n",
       " 40.950483404722924,\n",
       " 40.93832681040831,\n",
       " 40.926286468613284,\n",
       " 40.91436126078547,\n",
       " 40.90255007876266,\n",
       " 40.89085182469625,\n",
       " 40.87926541097519,\n",
       " 40.86778976014903,\n",
       " 40.85642380485119,\n",
       " 40.84516648772225,\n",
       " 40.83401676133284,\n",
       " 40.82297358810641,\n",
       " 40.81203594024255,\n",
       " 40.80120279963933,\n",
       " 40.7904731578166,\n",
       " 40.77984601583884,\n",
       " 40.769320384238284,\n",
       " 40.75889528293783,\n",
       " 40.74856974117439,\n",
       " 40.738342797422185,\n",
       " 40.728213499316254,\n",
       " 40.71818090357613,\n",
       " 40.70824407592971,\n",
       " 40.69840209103728,\n",
       " 40.688654032415805,\n",
       " 40.67899899236345,\n",
       " 40.66943607188443,\n",
       " 40.65996438061384,\n",
       " 40.65058303674322,\n",
       " 40.64129116694608,\n",
       " 40.63208790630372,\n",
       " 40.62297239823169,\n",
       " 40.61394379440617,\n",
       " 40.60500125469109,\n",
       " 40.59614394706517,\n",
       " 40.58737104754971,\n",
       " 40.57868174013653,\n",
       " 40.570075216716404,\n",
       " 40.56155067700794,\n",
       " 40.55310732848638,\n",
       " 40.54474438631359,\n",
       " 40.53646107326774,\n",
       " 40.528256619674124,\n",
       " 40.52013026333542,\n",
       " 40.512081249463336,\n",
       " 40.50410883061026,\n",
       " 40.496212266601354,\n",
       " 40.48839082446696,\n",
       " 40.480643778375814,\n",
       " 40.47297040956859,\n",
       " 40.4653700062916,\n",
       " 40.457841863731325,\n",
       " 40.45038528394927,\n",
       " 40.44299957581717,\n",
       " 40.435684054952944,\n",
       " 40.42843804365694,\n",
       " 40.42126087084828,\n",
       " 40.41415187200266,\n",
       " 40.407110389089645,\n",
       " 40.40013577051093,\n",
       " 40.393227371038776,\n",
       " 40.386384551755405,\n",
       " 40.379606679992555,\n",
       " 40.372893129271255,\n",
       " 40.36624327924265,\n",
       " 40.359656515628984,\n",
       " 40.353132230164846,\n",
       " 40.34666982053969,\n",
       " 40.340268690339585,\n",
       " 40.33392824899084,\n",
       " 40.327647911703004,\n",
       " 40.32142709941264,\n",
       " 40.315265238728266,\n",
       " 40.30916176187462,\n",
       " 40.30311610663832,\n",
       " 40.29712771631337,\n",
       " 40.29119603964785,\n",
       " 40.28532053079002,\n",
       " 40.27950064923624,\n",
       " 40.27373585977808,\n",
       " 40.26802563245054,\n",
       " 40.262369442480846,\n",
       " 40.25676677023734,\n",
       " 40.25121710117909,\n",
       " 40.24571992580568,\n",
       " 40.240274739607784,\n",
       " 40.23488104301805,\n",
       " 40.22953834136216,\n",
       " 40.224246144810756,\n",
       " 40.21900396833189,\n",
       " 40.2138113316434,\n",
       " 40.2086677591659,\n",
       " 40.20357277997644,\n",
       " 40.198525927762724,\n",
       " 40.19352674077701,\n",
       " 40.18857476179128,\n",
       " 40.183669538052186,\n",
       " 40.17881062123715,\n",
       " 40.173997567410034,\n",
       " 40.16922993697787,\n",
       " 40.16450729464767,\n",
       " 40.15982920938385,\n",
       " 40.15519525436589,\n",
       " 40.150605006946456,\n",
       " 40.14605804861017,\n",
       " 40.1415539649323,\n",
       " 40.137092345538,\n",
       " 40.13267278406259,\n",
       " 40.12829487811108,\n",
       " 40.12395822921899,\n",
       " 40.11966244281322,\n",
       " 40.11540712817325,\n",
       " 40.11119189839298,\n",
       " 40.107016370342585,\n",
       " 40.1028801646309,\n",
       " 40.09878290556827,\n",
       " 40.09472422112977,\n",
       " 40.09070374291875,\n",
       " 40.08672110613045,\n",
       " 40.08277594951638,\n",
       " 40.07886791534898,\n",
       " 40.074996649386364,\n",
       " 40.07116180083774,\n",
       " 40.06736302232888,\n",
       " 40.06359996986832,\n",
       " 40.05987230281355,\n",
       " 40.05617968383759,\n",
       " 40.05252177889588,\n",
       " 40.048898257193926,\n",
       " 40.04530879115462,\n",
       " 40.04175305638629,\n",
       " 40.03823073165089,\n",
       " 40.034741498832844,\n",
       " 40.03128504290768,\n",
       " 40.02786105191142,\n",
       " 40.024469216909836,\n",
       " 40.02110923196884,\n",
       " 40.01778079412398,\n",
       " 40.014483603351366,\n",
       " 40.01121736253817,\n",
       " 40.00798177745365,\n",
       " 40.0047765567206,\n",
       " 40.001601411786936,\n",
       " 39.99845605689744,\n",
       " 39.995340209066214,\n",
       " 39.99225358804893,\n",
       " 39.98919591631566,\n",
       " 39.98616691902393,\n",
       " 39.98316632399193,\n",
       " 39.98019386167218,\n",
       " 39.977249265125344,\n",
       " 39.97433226999405,\n",
       " 39.97144261447783,\n",
       " 39.96858003930717,\n",
       " 39.965744287718735,\n",
       " 39.96293510543033,\n",
       " 39.960152240616424,\n",
       " 39.95739544388368,\n",
       " 39.95466446824683,\n",
       " 39.95195906910498,\n",
       " 39.94927900421769,\n",
       " 39.94662403368186,\n",
       " 39.943993919908344,\n",
       " 39.941388427599286,\n",
       " 39.938807323725214,\n",
       " 39.93625037750275,\n",
       " 39.9337173603722,\n",
       " 39.93120804597587,\n",
       " 39.9287222101359,\n",
       " 39.92625963083291,\n",
       " 39.92382008818481,\n",
       " 39.92140336442543,\n",
       " 39.91900924388368,\n",
       " 39.91663751296307,\n",
       " 39.91428796012087,\n",
       " 39.91196037584811,\n",
       " 39.90965455264945,\n",
       " 39.90737028502333,\n",
       " 39.9051073694423,\n",
       " 39.90286560433332,\n",
       " 39.90064479005909,\n",
       " 39.8984447288984,\n",
       " 39.89626522502738,\n",
       " 39.89410608450117,\n",
       " 39.89196711523498,\n",
       " 39.889848126986074,\n",
       " 39.88774893133555,\n",
       " 39.885669341670464,\n",
       " 39.88360917316583,\n",
       " 39.88156824276741,\n",
       " 39.87954636917414,\n",
       " 39.877543372820966,\n",
       " 39.87555907586164,\n",
       " 39.87359330215218,\n",
       " 39.871645877233796,\n",
       " 39.869716628316574,\n",
       " 39.86780538426318,\n",
       " 39.86591197557235,\n",
       " 39.86403623436326,\n",
       " 39.86217799435937,\n",
       " 39.86033709087294,\n",
       " 39.85851336078922,\n",
       " 39.85670664255103,\n",
       " 39.85491677614398,\n",
       " 39.85314360308105,\n",
       " 39.85138696638743,\n",
       " 39.84964671058621,\n",
       " 39.84792268168349,\n",
       " 39.846214727154035,\n",
       " 39.84452269592662,\n",
       " 39.84284643837023,\n",
       " 39.84118580628001,\n",
       " 39.83954065286292,\n",
       " 39.837910832724255,\n",
       " 39.83629620185418,\n",
       " 39.83469661761393,\n",
       " 39.83311193872269,\n",
       " 39.83154202524416,\n",
       " 39.82998673857359,\n",
       " 39.82844594142492,\n",
       " 39.82691949781767,\n",
       " 39.8254072730646,\n",
       " 39.823909133758825,\n",
       " 39.82242494776153,\n",
       " 39.82095458418965,\n",
       " 39.81949791340359,\n",
       " 39.81805480699526,\n",
       " 39.81662513777611,\n",
       " 39.815208779765186,\n",
       " 39.81380560817749,\n",
       " 39.81241549941238,\n",
       " 39.81103833104218,\n",
       " 39.80967398180074,\n",
       " 39.80832233157194,\n",
       " 39.806983261379095,\n",
       " 39.8056566533734,\n",
       " 39.80434239082329,\n",
       " 39.80304035810366,\n",
       " 39.80175044068479,\n",
       " 39.80047252512243,\n",
       " 39.79920649904668,\n",
       " 39.79795225115184,\n",
       " 39.79670967118622,\n",
       " 39.795478649941785,\n",
       " 39.79425907924424,\n",
       " 39.793050851943036,\n",
       " 39.791853861901295,\n",
       " 39.79066800398624,\n",
       " 39.78949317405945,\n",
       " 39.788329268967246,\n",
       " 39.78717618653138,\n",
       " 39.786033825539334,\n",
       " 39.78490208573524,\n",
       " 39.78378086781057,\n",
       " 39.782670073395,\n",
       " 39.78156960504756,\n",
       " 39.78047936624755,\n",
       " 39.779399261385564,\n",
       " 39.7783291957549,\n",
       " 39.77726907554306,\n",
       " 39.77621880782285,\n",
       " 39.775178300543814,\n",
       " 39.774147462524205,\n",
       " 39.77312620344225,\n",
       " 39.77211443382823,\n",
       " 39.77111206505609,\n",
       " 39.770119009335225,\n",
       " 39.76913517970282,\n",
       " 39.76816049001564,\n",
       " 39.767194854942474,\n",
       " 39.766238189955835,\n",
       " 39.765290411324756,\n",
       " 39.7643514361071,\n",
       " 39.7634211821416,\n",
       " 39.76249956804084,\n",
       " 39.761586513183666,\n",
       " 39.76068193770792,\n",
       " 39.75978576250298,\n",
       " 39.75889790920291,\n",
       " 39.75801830017903,\n",
       " 39.75714685853309,\n",
       " 39.75628350809014,\n",
       " 39.755428173391685,\n",
       " 39.754580779688816,\n",
       " 39.753741252935534,\n",
       " 39.75290951978191,\n",
       " 39.75208550756748,\n",
       " 39.75126914431475,\n",
       " 39.75046035872261,\n",
       " 39.74965908015993,\n",
       " 39.74886523865893,\n",
       " 39.748078764909295,\n",
       " 39.74729959025162,\n",
       " 39.74652764667123,\n",
       " 39.745762866792035,\n",
       " 39.74500518387072,\n",
       " 39.744254531790105,\n",
       " 39.74351084505392,\n",
       " 39.74277405878047,\n",
       " 39.74204410869678,\n",
       " 39.741320931132904,\n",
       " 39.74060446301641,\n",
       " 39.73989464186607,\n",
       " 39.73919140578707,\n",
       " 39.73849469346469,\n",
       " 39.73780444415933,\n",
       " 39.73712059770067,\n",
       " 39.73644309448254,\n",
       " 39.735771875457424,\n",
       " 39.7351068821312,\n",
       " 39.734448056557866,\n",
       " 39.73379534133427,\n",
       " 39.73314867959524,\n",
       " 39.73250801500808,\n",
       " 39.73187329176782,\n",
       " 39.731244454592066,\n",
       " 39.73062144871607,\n",
       " 39.730004219887945,\n",
       " 39.7293927143637,\n",
       " 39.72878687890235,\n",
       " 39.728186660761395,\n",
       " 39.72759200769179,\n",
       " 39.72700286793361,\n",
       " 39.72641919021103,\n",
       " 39.725840923728164,\n",
       " 39.72526801816421,\n",
       " 39.72470042366907,\n",
       " 39.724138090858936,\n",
       " 39.72358097081183,\n",
       " 39.72302901506319,\n",
       " 39.72248217560163,\n",
       " 39.721940404864604,\n",
       " 39.72140365573435,\n",
       " 39.72087188153341,\n",
       " 39.720345036020525,\n",
       " 39.719823073386735,\n",
       " 39.719305948250984,\n",
       " 39.7187936156563,\n",
       " 39.71828603106591,\n",
       " 39.71778315035877,\n",
       " 39.717284929826306,\n",
       " 39.716791326168085,\n",
       " 39.71630229648782,\n",
       " 39.71581779829009,\n",
       " 39.71533778947627,\n",
       " 39.71486222834072,\n",
       " 39.71439107356709,\n",
       " 39.71392428422491,\n",
       " 39.71346181976554,\n",
       " 39.713003640018925,\n",
       " 39.712549705189986,\n",
       " 39.712099975854926,\n",
       " 39.71165441295779,\n",
       " 39.71121297780698,\n",
       " 39.710775632071986,\n",
       " 39.710342337779814,\n",
       " 39.70991305731167,\n",
       " 39.709487753399664,\n",
       " 39.709066389123485,\n",
       " 39.70864892790721,\n",
       " 39.70823533351575,\n",
       " 39.707825570051995,\n",
       " 39.70741960195369,\n",
       " 39.70701739398989,\n",
       " 39.70661891125822,\n",
       " 39.70622411918155,\n",
       " 39.70583298350503,\n",
       " 39.70544547029316,\n",
       " 39.70506154592658,\n",
       " 39.7046811770993,\n",
       " 39.70430433081564,\n",
       " 39.70393097438731,\n",
       " 39.70356107543064,\n",
       " 39.70319460186356,\n",
       " 39.702831521902844,\n",
       " 39.70247180406141,\n",
       " 39.7021154171454,\n",
       " 39.70176233025141,\n",
       " 39.70141251276389,\n",
       " 39.701065934352336,\n",
       " 39.700722564968736,\n",
       " 39.700382374844814,\n",
       " 39.700045334489346,\n",
       " 39.69971141468581,\n",
       " 39.699380586489546,\n",
       " 39.699052821225465,\n",
       " 39.69872809048514,\n",
       " 39.698406366124736,\n",
       " 39.69808762026222,\n",
       " 39.697771825275176,\n",
       " 39.69745895379802,\n",
       " 39.69714897872002,\n",
       " 39.696841873182606,\n",
       " 39.696537610576975,\n",
       " 39.69623616454201,\n",
       " 39.69593750896177,\n",
       " 39.69564161796323,\n",
       " 39.69534846591406,\n",
       " 39.69505802742033,\n",
       " 39.69477027732427,\n",
       " 39.69448519070193,\n",
       " 39.694202742861435,\n",
       " 39.69392290934043,\n",
       " 39.69364566590385,\n",
       " 39.693370988541965,\n",
       " 39.693098853468506,\n",
       " 39.69282923711818,\n",
       " 39.6925621161448,\n",
       " 39.69229746741908,\n",
       " 39.69203526802699,\n",
       " 39.69177549526715,\n",
       " 39.69151812664955,\n",
       " 39.691263139892854,\n",
       " 39.69101051292306,\n",
       " 39.69076022387114,\n",
       " 39.69051225107135,\n",
       " 39.69026657305916,\n",
       " 39.690023168569645,\n",
       " 39.68978201653528,\n",
       " 39.68954309608452,\n",
       " 39.6893063865395,\n",
       " 39.68907186741451,\n",
       " 39.68883951841414,\n",
       " 39.68860931943152,\n",
       " 39.68838125054644,\n",
       " 39.688155292023936,\n",
       " 39.687931424312126,\n",
       " 39.6877096280409,\n",
       " 39.6874898840197,\n",
       " 39.68727217323665,\n",
       " 39.68705647685601,\n",
       " 39.68684277621713,\n",
       " 39.686631052832546,\n",
       " 39.68642128838665,\n",
       " 39.68621346473365,\n",
       " 39.68600756389635,\n",
       " 39.68580356806428,\n",
       " 39.68560145959257,\n",
       " 39.68540122099992,\n",
       " 39.68520283496738,\n",
       " 39.68500628433685,\n",
       " 39.68481155210939,\n",
       " 39.68461862144373,\n",
       " 39.684427475655184,\n",
       " 39.68423809821371,\n",
       " 39.68405047274263,\n",
       " 39.68386458301745,\n",
       " 39.68368041296402,\n",
       " 39.683497946657454,\n",
       " 39.6833171683206,\n",
       " 39.68313806232274,\n",
       " 39.68296061317814,\n",
       " 39.6827848055448,\n",
       " 39.68261062422292,\n",
       " 39.68243805415381,\n",
       " 39.68226708041856,\n",
       " 39.68209768823636,\n",
       " 39.681929862963926,\n",
       " 39.68176359009355,\n",
       " 39.68159885525218,\n",
       " 39.68143564419996,\n",
       " 39.68127394282927,\n",
       " 39.68111373716326,\n",
       " 39.680955013354684,\n",
       " 39.680797757684644,\n",
       " 39.680641956561686,\n",
       " 39.680487596520194,\n",
       " 39.68033466421958,\n",
       " 39.680183146442864,\n",
       " 39.680033030095636,\n",
       " 39.67988430220492,\n",
       " 39.67973694991801,\n",
       " 39.679590960501436,\n",
       " 39.67944632133959,\n",
       " 39.679303019934096,\n",
       " 39.679161043902276,\n",
       " 39.67902038097631,\n",
       " 39.67888101900209,\n",
       " 39.67874294593818,\n",
       " 39.678606149854694,\n",
       " 39.67847061893265,\n",
       " 39.678336341462135,\n",
       " 39.67820330584211,\n",
       " 39.67807150057902,\n",
       " 39.677940914285806,\n",
       " 39.67781153568092,\n",
       " 39.67768335358725,\n",
       " 39.67755635693159,\n",
       " 39.677430534743145,\n",
       " 39.67730587615283,\n",
       " 39.67718237039228,\n",
       " 39.677060006792935,\n",
       " 39.67693877478515,\n",
       " 39.676818663897166,\n",
       " 39.67669966375422,\n",
       " 39.67658176407765,\n",
       " 39.67646495468422,\n",
       " 39.67634922548491,\n",
       " 39.67623456648421,\n",
       " 39.67612096777917,\n",
       " 39.67600841955869,\n",
       " 39.6758969121025,\n",
       " 39.675786435780324,\n",
       " 39.67567698105126,\n",
       " 39.675568538462755,\n",
       " 39.67546109864971,\n",
       " 39.67535465233398,\n",
       " 39.67524919032317,\n",
       " 39.67514470350993,\n",
       " 39.67504118287166,\n",
       " 39.67493861946913,\n",
       " 39.67483700444582,\n",
       " 39.67473632902736,\n",
       " 39.674636584520584,\n",
       " 39.67453776231305,\n",
       " 39.674439853871746,\n",
       " 39.6743428507429,\n",
       " 39.67424674455095,\n",
       " 39.67415152699809,\n",
       " 39.67405718986308,\n",
       " 39.67396372500108,\n",
       " 39.673871124342526,\n",
       " 39.67377937989262,\n",
       " 39.67368848373055,\n",
       " 39.673598428009,\n",
       " 39.67350920495311,\n",
       " 39.673420806860165,\n",
       " 39.67333322609878,\n",
       " 39.67324645510811,\n",
       " 39.67316048639752,\n",
       " 39.67307531254558,\n",
       " 39.672990926199525,\n",
       " 39.672907320074806,\n",
       " 39.67282448695426,\n",
       " 39.6727424196876,\n",
       " 39.672661111190656,\n",
       " 39.67258055444486,\n",
       " 39.67250074249673,\n",
       " 39.67242166845706,\n",
       " 39.67234332550042,\n",
       " 39.67226570686452,\n",
       " 39.6721888058498,\n",
       " 39.672112615818676,\n",
       " 39.67203713019495,\n",
       " 39.67196234246346,\n",
       " 39.671888246169125,\n",
       " 39.67181483491679,\n",
       " 39.67174210237043,\n",
       " 39.671670042252735,\n",
       " 39.67159864834428,\n",
       " 39.67152791448359,\n",
       " 39.671457834565985,\n",
       " 39.67138840254323,\n",
       " 39.67131961242321,\n",
       " 39.671251458269204,\n",
       " 39.671183934199426,\n",
       " 39.67111703438658,\n",
       " 39.67105075305721,\n",
       " 39.670985084491555,\n",
       " 39.670920023022475,\n",
       " 39.67085556303537,\n",
       " 39.67079169896775,\n",
       " 39.670728425308376,\n",
       " 39.670665736597265,\n",
       " 39.6706036274247,\n",
       " 39.67054209243124,\n",
       " 39.67048112630694,\n",
       " 39.67042072379103,\n",
       " 39.67036087967131,\n",
       " 39.67030158878405,\n",
       " 39.670242846013096,\n",
       " 39.67018464628968,\n",
       " 39.670126984592066,\n",
       " 39.67006985594476,\n",
       " 39.670013255418475,\n",
       " 39.669957178129565,\n",
       " 39.66990161923943,\n",
       " 39.66984657395438,\n",
       " 39.669792037524935,\n",
       " 39.66973800524563,\n",
       " 39.66968447245461,\n",
       " 39.66963143453321,\n",
       " 39.66957888690521,\n",
       " 39.66952682503693,\n",
       " 39.6694752444366,\n",
       " 39.669424140654016,\n",
       " 39.66937350928021,\n",
       " 39.66932334594689,\n",
       " 39.669273646326275,\n",
       " 39.669224406130574,\n",
       " 39.66917562111168,\n",
       " 39.66912728706083,\n",
       " 39.66907939980807,\n",
       " 39.66903195522226,\n",
       " 39.66898494921016,\n",
       " 39.66893837771667,\n",
       " 39.66889223672403,\n",
       " 39.668846522251705,\n",
       " 39.668801230356095,\n",
       " 39.66875635712993,\n",
       " 39.668711898702064,\n",
       " 39.668667851237345,\n",
       " 39.66862421093591,\n",
       " 39.66858097403318,\n",
       " 39.66853813679928,\n",
       " 39.66849569553903,\n",
       " 39.66845364659123,\n",
       " 39.66841198632861,\n",
       " 39.66837071115755,\n",
       " 39.668329817517446,\n",
       " 39.66828930188086,\n",
       " 39.66824916075289,\n",
       " 39.668209390671,\n",
       " 39.668169988204625,\n",
       " 39.668130949954836,\n",
       " 39.66809227255445,\n",
       " 39.66805395266714,\n",
       " 39.66801598698755,\n",
       " 39.66797837224082,\n",
       " 39.66794110518258,\n",
       " 39.66790418259818,\n",
       " 39.66786760130302,\n",
       " 39.66783135814164,\n",
       " 39.667795449988006,\n",
       " 39.66775987374484,\n",
       " 39.66772462634367,\n",
       " 39.667689704744255,\n",
       " 39.66765510593454,\n",
       " 39.667620826930246,\n",
       " 39.66758686477491,\n",
       " 39.667553216539105,\n",
       " 39.66751987932076,\n",
       " 39.66748685024445,\n",
       " 39.667454126461514,\n",
       " 39.667421705149565,\n",
       " 39.66738958351228,\n",
       " 39.667357758779225,\n",
       " 39.667326228205546,\n",
       " 39.66729498907191,\n",
       " 39.66726403868399,\n",
       " 39.6672333743724,\n",
       " 39.6672029934925,\n",
       " 39.667172893423974,\n",
       " 39.66714307157098,\n",
       " 39.667113525361486,\n",
       " 39.6670842522472,\n",
       " 39.667055249703566,\n",
       " 39.66702651522932,\n",
       " 39.66699804634625,\n",
       " 39.666969840599194,\n",
       " 39.66694189555564,\n",
       " 39.66691420880548,\n",
       " 39.666886777961004,\n",
       " 39.66685960065649,\n",
       " 39.666832674548154,\n",
       " 39.666805997313915,\n",
       " 39.666779566653084,\n",
       " 39.66675338028625,\n",
       " 39.666727435955195,\n",
       " 39.66670173142243,\n",
       " 39.666676264471235,\n",
       " 39.666651032905406,\n",
       " 39.66662603454902,\n",
       " 39.666601267246264,\n",
       " 39.666576728861315,\n",
       " 39.666552417277956,\n",
       " 39.66652833039981,\n",
       " 39.66650446614955,\n",
       " 39.666480822469254,\n",
       " 39.66645739732,\n",
       " 39.66643418868168,\n",
       " 39.66641119455284,\n",
       " 39.666388412950724,\n",
       " 39.66636584191074,\n",
       " 39.666343479486486,\n",
       " 39.666321323749564,\n",
       " 39.66629937278937,\n",
       " ...]"
      ]
     },
     "execution_count": 9,
     "metadata": {},
     "output_type": "execute_result"
    }
   ],
   "source": [
    "len(λ_hist)\n",
    "\n",
    "λ_hist"
   ]
  },
  {
   "cell_type": "code",
   "execution_count": 10,
   "metadata": {},
   "outputs": [],
   "source": [
    "ℓ_hist=[]\n",
    "for i in range (0, len(λ_hist)):\n",
    "    ℓ_hist.append(exp_log_likelihood(ts, T, np.array([λ_hist[i] ,α_hist[i] ,β_hist[i]])))\n",
    "    "
   ]
  },
  {
   "cell_type": "code",
   "execution_count": 11,
   "metadata": {},
   "outputs": [],
   "source": [
    "df_ℓ_hist=pd.DataFrame(ℓ_hist)\n",
    "df_ℓ_hist.rename(columns = {0:'log_verosimilitud'}, inplace = True)\n",
    "df_λ_hist=pd.DataFrame(λ_hist)\n",
    "df_λ_hist.rename(columns = {0:'lambda'}, inplace = True)\n",
    "df_α_hist=pd.DataFrame(α_hist)\n",
    "df_α_hist.rename(columns = {0:'alpha'}, inplace = True)\n",
    "df_β_hist=pd.DataFrame(β_hist)\n",
    "df_β_hist.rename(columns = {0:'beta'}, inplace = True)\n",
    "pd_evolution=pd.concat([df_ℓ_hist,df_λ_hist,df_α_hist,df_β_hist], axis=1)"
   ]
  },
  {
   "cell_type": "code",
   "execution_count": 12,
   "metadata": {},
   "outputs": [
    {
     "data": {
      "text/html": [
       "<div>\n",
       "<style scoped>\n",
       "    .dataframe tbody tr th:only-of-type {\n",
       "        vertical-align: middle;\n",
       "    }\n",
       "\n",
       "    .dataframe tbody tr th {\n",
       "        vertical-align: top;\n",
       "    }\n",
       "\n",
       "    .dataframe thead th {\n",
       "        text-align: right;\n",
       "    }\n",
       "</style>\n",
       "<table border=\"1\" class=\"dataframe\">\n",
       "  <thead>\n",
       "    <tr style=\"text-align: right;\">\n",
       "      <th></th>\n",
       "      <th>log_verosimilitud</th>\n",
       "      <th>lambda</th>\n",
       "      <th>alpha</th>\n",
       "      <th>beta</th>\n",
       "    </tr>\n",
       "  </thead>\n",
       "  <tbody>\n",
       "    <tr>\n",
       "      <th>0</th>\n",
       "      <td>28760.601314</td>\n",
       "      <td>100.000000</td>\n",
       "      <td>200.000000</td>\n",
       "      <td>300.000000</td>\n",
       "    </tr>\n",
       "    <tr>\n",
       "      <th>1</th>\n",
       "      <td>34509.730172</td>\n",
       "      <td>48.462151</td>\n",
       "      <td>47.243562</td>\n",
       "      <td>300.000000</td>\n",
       "    </tr>\n",
       "    <tr>\n",
       "      <th>2</th>\n",
       "      <td>34620.076963</td>\n",
       "      <td>50.776457</td>\n",
       "      <td>32.781372</td>\n",
       "      <td>234.041362</td>\n",
       "    </tr>\n",
       "    <tr>\n",
       "      <th>3</th>\n",
       "      <td>34668.017331</td>\n",
       "      <td>52.084840</td>\n",
       "      <td>25.379837</td>\n",
       "      <td>200.202832</td>\n",
       "    </tr>\n",
       "    <tr>\n",
       "      <th>4</th>\n",
       "      <td>34693.029056</td>\n",
       "      <td>52.920978</td>\n",
       "      <td>20.923446</td>\n",
       "      <td>178.491839</td>\n",
       "    </tr>\n",
       "    <tr>\n",
       "      <th>...</th>\n",
       "      <td>...</td>\n",
       "      <td>...</td>\n",
       "      <td>...</td>\n",
       "      <td>...</td>\n",
       "    </tr>\n",
       "    <tr>\n",
       "      <th>1996</th>\n",
       "      <td>34796.543730</td>\n",
       "      <td>39.663946</td>\n",
       "      <td>3.731235</td>\n",
       "      <td>10.753744</td>\n",
       "    </tr>\n",
       "    <tr>\n",
       "      <th>1997</th>\n",
       "      <td>34796.543730</td>\n",
       "      <td>39.663946</td>\n",
       "      <td>3.731235</td>\n",
       "      <td>10.753744</td>\n",
       "    </tr>\n",
       "    <tr>\n",
       "      <th>1998</th>\n",
       "      <td>34796.543730</td>\n",
       "      <td>39.663946</td>\n",
       "      <td>3.731235</td>\n",
       "      <td>10.753744</td>\n",
       "    </tr>\n",
       "    <tr>\n",
       "      <th>1999</th>\n",
       "      <td>34796.543730</td>\n",
       "      <td>39.663946</td>\n",
       "      <td>3.731235</td>\n",
       "      <td>10.753744</td>\n",
       "    </tr>\n",
       "    <tr>\n",
       "      <th>2000</th>\n",
       "      <td>34796.543730</td>\n",
       "      <td>39.663946</td>\n",
       "      <td>3.731235</td>\n",
       "      <td>10.753744</td>\n",
       "    </tr>\n",
       "  </tbody>\n",
       "</table>\n",
       "<p>2001 rows × 4 columns</p>\n",
       "</div>"
      ],
      "text/plain": [
       "      log_verosimilitud      lambda       alpha        beta\n",
       "0          28760.601314  100.000000  200.000000  300.000000\n",
       "1          34509.730172   48.462151   47.243562  300.000000\n",
       "2          34620.076963   50.776457   32.781372  234.041362\n",
       "3          34668.017331   52.084840   25.379837  200.202832\n",
       "4          34693.029056   52.920978   20.923446  178.491839\n",
       "...                 ...         ...         ...         ...\n",
       "1996       34796.543730   39.663946    3.731235   10.753744\n",
       "1997       34796.543730   39.663946    3.731235   10.753744\n",
       "1998       34796.543730   39.663946    3.731235   10.753744\n",
       "1999       34796.543730   39.663946    3.731235   10.753744\n",
       "2000       34796.543730   39.663946    3.731235   10.753744\n",
       "\n",
       "[2001 rows x 4 columns]"
      ]
     },
     "execution_count": 12,
     "metadata": {},
     "output_type": "execute_result"
    }
   ],
   "source": [
    "pd_evolution"
   ]
  },
  {
   "cell_type": "code",
   "execution_count": 13,
   "metadata": {},
   "outputs": [],
   "source": [
    "pd_evolution.to_csv(\"D:/Hawkes Process/log_likelihood_starting_parameters sim 2020 2s param 3 2000.csv\")"
   ]
  },
  {
   "cell_type": "code",
   "execution_count": null,
   "metadata": {},
   "outputs": [],
   "source": [
    "exp_hawkes_intensity()"
   ]
  },
  {
   "cell_type": "code",
   "execution_count": null,
   "metadata": {},
   "outputs": [],
   "source": [
    "terremotos = pd.read_csv(\"D:/Hawkes Process/Sismos base de datos final2.csv\")\n",
    "terremotos.index = pd.to_datetime(terremotos.D.astype(str) + \"/\" + terremotos.M.astype(str) + \"/\" + terremotos.A.astype(str) + \" \" + terremotos.Hora, dayfirst=True)"
   ]
  },
  {
   "cell_type": "code",
   "execution_count": null,
   "metadata": {},
   "outputs": [],
   "source": [
    "terremotos.sort_index(inplace=True)\n",
    "\n",
    "# Calculate each arrival as a (fractional) number of days since the\n",
    "# beginning of the observation period\n",
    "tiempo_inter_terremoto = terremotos.index - pd.Timestamp(\"8/19/2017\")\n",
    "ts = np.array(tiempo_inter_terremoto.total_seconds() / 60 / 60 / 24)\n",
    "\n",
    "# Calculate the length of the observation period\n",
    "T = max(ts)\n",
    "𝛉=np.array([1,2,3])"
   ]
  },
  {
   "cell_type": "code",
   "execution_count": null,
   "metadata": {},
   "outputs": [],
   "source": [
    "exp_log_likelihood"
   ]
  },
  {
   "cell_type": "code",
   "execution_count": 76,
   "metadata": {},
   "outputs": [
    {
     "data": {
      "text/plain": [
       "17465.55505042898"
      ]
     },
     "execution_count": 76,
     "metadata": {},
     "output_type": "execute_result"
    }
   ],
   "source": [
    "exp_log_likelihood(ts, T, np.array([6 ,3.1 ,3.6]))"
   ]
  },
  {
   "cell_type": "code",
   "execution_count": 77,
   "metadata": {},
   "outputs": [
    {
     "data": {
      "text/plain": [
       "17467.245144920314"
      ]
     },
     "execution_count": 77,
     "metadata": {},
     "output_type": "execute_result"
    }
   ],
   "source": [
    "exp_log_likelihood(ts, T, 𝛉)"
   ]
  },
  {
   "cell_type": "code",
   "execution_count": 82,
   "metadata": {},
   "outputs": [
    {
     "data": {
      "text/plain": [
       "17467.245108342056"
      ]
     },
     "execution_count": 82,
     "metadata": {},
     "output_type": "execute_result"
    }
   ],
   "source": [
    "exp_log_likelihood(ts, T, np.array([5.476818695613594 ,3.04433744705703 ,3.569827597566426]))"
   ]
  },
  {
   "cell_type": "code",
   "execution_count": 83,
   "metadata": {},
   "outputs": [
    {
     "data": {
      "text/plain": [
       "array([5.47645282, 3.04413509, 3.56954858])"
      ]
     },
     "execution_count": 83,
     "metadata": {},
     "output_type": "execute_result"
    }
   ],
   "source": [
    "𝛉\n",
    " "
   ]
  },
  {
   "cell_type": "code",
   "execution_count": 2,
   "metadata": {},
   "outputs": [],
   "source": [
    "from statsmodels.graphics.gofplots import qqplot\n",
    "import scipy.stats as stats\n",
    "import matplotlib.pyplot as plt"
   ]
  },
  {
   "cell_type": "code",
   "execution_count": 8,
   "metadata": {},
   "outputs": [],
   "source": [
    "x =  np.random.default_rng().exponential(scale=1, size=100000)"
   ]
  },
  {
   "cell_type": "code",
   "execution_count": 9,
   "metadata": {},
   "outputs": [
    {
     "data": {
      "image/png": "[encoded data removed]",
      "text/plain": [
       "<Figure size 432x288 with 1 Axes>"
      ]
     },
     "metadata": {
      "needs_background": "light"
     },
     "output_type": "display_data"
    }
   ],
   "source": [
    "qqplot(x, dist=stats.expon, fit=False, line=\"45\")\n",
    "plt.show()"
   ]
  },
  {
   "cell_type": "code",
   "execution_count": 128,
   "metadata": {},
   "outputs": [
    {
     "data": {
      "image/png": "[encoded data removed]",
      "text/plain": [
       "<Figure size 432x288 with 1 Axes>"
      ]
     },
     "metadata": {
      "needs_background": "light"
     },
     "output_type": "display_data"
    }
   ],
   "source": [
    "tsShifted = hb.exp_hawkes_compensators(ts, 𝛉)\n",
    "iat = np.diff(np.insert(tsShifted, 0, 0))\n",
    "qqplot(iat, dist=stats.expon, fit=False, line=\"45\")\n",
    "plt.show()\n",
    "   "
   ]
  },
  {
   "cell_type": "code",
   "execution_count": 132,
   "metadata": {},
   "outputs": [
    {
     "data": {
      "text/plain": [
       "array([6.56016433e-01, 1.54113111e+00, 1.66435791e+00, ...,\n",
       "       1.11708129e+04, 1.11708256e+04, 1.11720000e+04])"
      ]
     },
     "execution_count": 132,
     "metadata": {},
     "output_type": "execute_result"
    }
   ],
   "source": [
    "hb.exp_hawkes_compensators(ts, 𝛉)"
   ]
  },
  {
   "cell_type": "code",
   "execution_count": 131,
   "metadata": {},
   "outputs": [
    {
     "data": {
      "text/plain": [
       "array([0.65601643, 0.88511467, 0.1232268 , ..., 0.36274556, 0.01263966,\n",
       "       1.17443103])"
      ]
     },
     "execution_count": 131,
     "metadata": {},
     "output_type": "execute_result"
    }
   ],
   "source": [
    "hb.exp_hawkes_compensators(ts, 𝛉)\n",
    "\n",
    "\n",
    "iat = np.diff(np.insert(tsShifted, 0, 0))\n",
    "iat"
   ]
  },
  {
   "cell_type": "code",
   "execution_count": 80,
   "metadata": {},
   "outputs": [
    {
     "data": {
      "text/plain": [
       "[3.6,\n",
       " 3.6010687081413115,\n",
       " 3.6019968954272543,\n",
       " 3.602795472964371,\n",
       " 3.6034745504309393,\n",
       " 3.604043495928966,\n",
       " 3.6045109911497066,\n",
       " 3.604885082249009,\n",
       " 3.6051732267917607,\n",
       " 3.6053823370907074,\n",
       " 3.6055188202356896,\n",
       " 3.6055886150822074,\n",
       " 3.605597226444361,\n",
       " 3.605549756715724,\n",
       " 3.605450935122105,\n",
       " 3.6053051447926148,\n",
       " 3.6051164478199187,\n",
       " 3.604888608465505,\n",
       " 3.6046251146536084,\n",
       " 3.604329197885043,\n",
       " 3.6040038516913966,\n",
       " 3.6036518487409643,\n",
       " 3.6032757566977787,\n",
       " 3.602877952927988,\n",
       " 3.6024606381398003,\n",
       " 3.6020258490365653,\n",
       " 3.601575470056279,\n",
       " 3.601111244265386,\n",
       " 3.6006347834691064,\n",
       " 3.600147577595884,\n",
       " 3.599651003409442,\n",
       " 3.5991463325973787,\n",
       " 3.5986347392817546,\n",
       " 3.5981173069939296,\n",
       " 3.597595035152356,\n",
       " 3.597068845079133,\n",
       " 3.596539585589129,\n",
       " 3.5960080381818567,\n",
       " 3.595474921865265,\n",
       " 3.5949408976373554,\n",
       " 3.594406572650417,\n",
       " 3.5938725040806196,\n",
       " 3.5933392027238376,\n",
       " 3.5928071363373273,\n",
       " 3.5922767327453546,\n",
       " 3.591748382725439,\n",
       " 3.591222442690973,\n",
       " 3.590699237184598,\n",
       " 3.5901790611955837,\n",
       " 3.5896621823139165,\n",
       " 3.589148842732445,\n",
       " 3.58863926110795,\n",
       " 3.5881336342908505,\n",
       " 3.5876321389332486,\n",
       " 3.587134932983322,\n",
       " 3.586642157074619,\n",
       " 3.5861539358170686,\n",
       " 3.5856703789971838,\n",
       " 3.585191582693458,\n",
       " 3.5847176303129493,\n",
       " 3.584248593554739,\n",
       " 3.5837845333052396,\n",
       " 3.583325500470249,\n",
       " 3.5828715367479784,\n",
       " 3.582422675347408,\n",
       " 3.5819789416557244,\n",
       " 3.581540353858346,\n",
       " 3.5811069235148802,\n",
       " 3.58067865609407,\n",
       " 3.580255551470736,\n",
       " 3.579837604387073,\n",
       " 3.579424804881244,\n",
       " 3.579017138684971,\n",
       " 3.5786145875928668,\n",
       " 3.5782171298050924,\n",
       " 3.57782474024537,\n",
       " 3.5774373908559616,\n",
       " 3.577055050871499,\n",
       " 3.5766776870726034,\n",
       " 3.5763052640213857,\n",
       " 3.575937744279542,\n",
       " 3.5755750886105337,\n",
       " 3.5752172561669107,\n",
       " 3.574864204663706,\n",
       " 3.5745158905392294,\n",
       " 3.574172269103561,\n",
       " 3.573833294676191,\n",
       " 3.5734989207131953,\n",
       " 3.5731690999248578,\n",
       " 3.5728437843842693,\n",
       " 3.5725229256277267,\n",
       " 3.572206474747373,\n",
       " 3.571894382476503,\n",
       " 3.5715865992684286,\n",
       " 3.5712830753690588,\n",
       " 3.570983760883642,\n",
       " 3.5706886058381664,\n",
       " 3.5703975602358504,\n",
       " 3.570110574108986,\n",
       " 3.569827597566426]"
      ]
     },
     "execution_count": 80,
     "metadata": {},
     "output_type": "execute_result"
    }
   ],
   "source": [
    "β_hist"
   ]
  },
  {
   "cell_type": "code",
   "execution_count": null,
   "metadata": {},
   "outputs": [],
   "source": []
  },
  {
   "cell_type": "code",
   "execution_count": null,
   "metadata": {},
   "outputs": [],
   "source": []
  },
  {
   "cell_type": "code",
   "execution_count": null,
   "metadata": {},
   "outputs": [],
   "source": []
  },
  {
   "cell_type": "code",
   "execution_count": null,
   "metadata": {},
   "outputs": [],
   "source": []
  },
  {
   "cell_type": "code",
   "execution_count": null,
   "metadata": {},
   "outputs": [],
   "source": []
  },
  {
   "cell_type": "markdown",
   "metadata": {},
   "source": [
    "# Simulación tiempos de arribo"
   ]
  },
  {
   "cell_type": "code",
   "execution_count": null,
   "metadata": {},
   "outputs": [],
   "source": []
  },
  {
   "cell_type": "code",
   "execution_count": null,
   "metadata": {},
   "outputs": [],
   "source": []
  },
  {
   "cell_type": "code",
   "execution_count": 310,
   "metadata": {},
   "outputs": [],
   "source": [
    "#terremotos = pd.read_csv(\"D:/Hawkes Process/Sismo ago-10 oct 2017 todas magnitudes.csv\")\n",
    "#terremotos = pd.read_csv(\"D:/Hawkes Process/Sismo ago-15 may 2023 magnitudes m o igual 4.csv\")\n",
    "terremotos = pd.read_csv(\"D:/Hawkes Process/Base de datos Sismos 2020 2 S.csv\")\n",
    "\n",
    "terremotos.index = pd.to_datetime(terremotos.D.astype(str) + \"/\" + terremotos.M.astype(str) + \"/\" + terremotos.A.astype(str) + \" \" + terremotos.Hora, dayfirst=True)"
   ]
  },
  {
   "cell_type": "code",
   "execution_count": 314,
   "metadata": {},
   "outputs": [],
   "source": [
    "import math\n",
    "# Calculate each arrival as a (fractional) number of days since the\n",
    "# beginning of the observation period\n",
    "#tiempo_inter_terremoto = terremotos.index - pd.Timestamp(\"8/01/2017\")\n",
    "terremotos.sort_index(inplace=True)\n",
    "\n",
    "# Calculate each arrival as a (fractional) number of days since the\n",
    "# beginning of the observation period\n",
    "tiempo_inter_terremoto = terremotos.index - pd.Timestamp(\"7/01/2020\")\n",
    "ts = np.array(tiempo_inter_terremoto.total_seconds() / 60 / 60 / 24)\n",
    "\n",
    "# Calculate the length of the observation period\n",
    "T = math.floor(max(ts))+1"
   ]
  },
  {
   "cell_type": "code",
   "execution_count": 315,
   "metadata": {},
   "outputs": [],
   "source": [
    "#𝛉1=np.array([7.2111, 6.3288,6.7116])\n",
    "\n",
    "#𝛉2=np.array([1.5653, 0.7687,0.9612])\n",
    "\n",
    "𝛉3=np.array([39.6639,3.7312,10.7537])\n",
    "T=math.floor(max(ts))+1\n"
   ]
  },
  {
   "cell_type": "code",
   "execution_count": 316,
   "metadata": {},
   "outputs": [],
   "source": [
    "my_df  = pd.DataFrame()\n",
    "for x in range(0,200):\n",
    "    simular_sismos_3=hb.exp_simulate_by_thinning(𝛉3,T)\n",
    "    tiempos_simulados_convertidos=[]\n",
    "    m_simulado=[]\n",
    "    d_simulado=[]\n",
    "    a_simulado=[]\n",
    "    fecha_simulada=[]\n",
    "    for x in range(0,len(simular_sismos_3)):\n",
    "        tiempos_simulados_convertidos.append(pd.Timestamp(\"7/01/2020\")+ datetime.timedelta(days=simular_sismos_3[x]))\n",
    "        d_simulado.append(tiempos_simulados_convertidos[x].day)\n",
    "        m_simulado.append(tiempos_simulados_convertidos[x].month)\n",
    "        a_simulado.append(tiempos_simulados_convertidos[x].year)\n",
    "        fecha_simulada.append(datetime.datetime(a_simulado[x], m_simulado[x], d_simulado[x]).date())\n",
    "    \n",
    "    t_simulados=pd.DataFrame(tiempos_simulados_convertidos)\n",
    "    t_simulados.rename(columns = {0:'t_simulados'}, inplace = True)\n",
    "    d_simulado=pd.DataFrame(d_simulado)\n",
    "    d_simulado.rename(columns = {0:'d_simulado'}, inplace = True)\n",
    "    m_simulado=pd.DataFrame(m_simulado)\n",
    "    m_simulado.rename(columns = {0:'m_simulado'}, inplace = True)\n",
    "    a_simulado=pd.DataFrame(a_simulado)\n",
    "    a_simulado.rename(columns = {0:'a_simulado'}, inplace = True)\n",
    "    fecha_simulada=pd.DataFrame(fecha_simulada)\n",
    "    fecha_simulada.rename(columns = {0:'fecha_simulada'}, inplace = True)\n",
    "    panda_simulado=pd.concat([fecha_simulada], axis=1)\n",
    "    my_df=pd.concat([my_df,panda_simulado],axis=1)\n",
    "    "
   ]
  },
  {
   "cell_type": "code",
   "execution_count": 317,
   "metadata": {},
   "outputs": [
    {
     "data": {
      "text/html": [
       "<div>\n",
       "<style scoped>\n",
       "    .dataframe tbody tr th:only-of-type {\n",
       "        vertical-align: middle;\n",
       "    }\n",
       "\n",
       "    .dataframe tbody tr th {\n",
       "        vertical-align: top;\n",
       "    }\n",
       "\n",
       "    .dataframe thead th {\n",
       "        text-align: right;\n",
       "    }\n",
       "</style>\n",
       "<table border=\"1\" class=\"dataframe\">\n",
       "  <thead>\n",
       "    <tr style=\"text-align: right;\">\n",
       "      <th></th>\n",
       "      <th>fecha_simulada</th>\n",
       "      <th>fecha_simulada</th>\n",
       "      <th>fecha_simulada</th>\n",
       "      <th>fecha_simulada</th>\n",
       "      <th>fecha_simulada</th>\n",
       "      <th>fecha_simulada</th>\n",
       "      <th>fecha_simulada</th>\n",
       "      <th>fecha_simulada</th>\n",
       "      <th>fecha_simulada</th>\n",
       "      <th>fecha_simulada</th>\n",
       "      <th>...</th>\n",
       "      <th>fecha_simulada</th>\n",
       "      <th>fecha_simulada</th>\n",
       "      <th>fecha_simulada</th>\n",
       "      <th>fecha_simulada</th>\n",
       "      <th>fecha_simulada</th>\n",
       "      <th>fecha_simulada</th>\n",
       "      <th>fecha_simulada</th>\n",
       "      <th>fecha_simulada</th>\n",
       "      <th>fecha_simulada</th>\n",
       "      <th>fecha_simulada</th>\n",
       "    </tr>\n",
       "  </thead>\n",
       "  <tbody>\n",
       "    <tr>\n",
       "      <th>0</th>\n",
       "      <td>2020-07-01</td>\n",
       "      <td>2020-07-01</td>\n",
       "      <td>2020-07-01</td>\n",
       "      <td>2020-07-01</td>\n",
       "      <td>2020-07-01</td>\n",
       "      <td>2020-07-01</td>\n",
       "      <td>2020-07-01</td>\n",
       "      <td>2020-07-01</td>\n",
       "      <td>2020-07-01</td>\n",
       "      <td>2020-07-01</td>\n",
       "      <td>...</td>\n",
       "      <td>2020-07-01</td>\n",
       "      <td>2020-07-01</td>\n",
       "      <td>2020-07-01</td>\n",
       "      <td>2020-07-01</td>\n",
       "      <td>2020-07-01</td>\n",
       "      <td>2020-07-01</td>\n",
       "      <td>2020-07-01</td>\n",
       "      <td>2020-07-01</td>\n",
       "      <td>2020-07-01</td>\n",
       "      <td>2020-07-01</td>\n",
       "    </tr>\n",
       "    <tr>\n",
       "      <th>1</th>\n",
       "      <td>2020-07-01</td>\n",
       "      <td>2020-07-01</td>\n",
       "      <td>2020-07-01</td>\n",
       "      <td>2020-07-01</td>\n",
       "      <td>2020-07-01</td>\n",
       "      <td>2020-07-01</td>\n",
       "      <td>2020-07-01</td>\n",
       "      <td>2020-07-01</td>\n",
       "      <td>2020-07-01</td>\n",
       "      <td>2020-07-01</td>\n",
       "      <td>...</td>\n",
       "      <td>2020-07-01</td>\n",
       "      <td>2020-07-01</td>\n",
       "      <td>2020-07-01</td>\n",
       "      <td>2020-07-01</td>\n",
       "      <td>2020-07-01</td>\n",
       "      <td>2020-07-01</td>\n",
       "      <td>2020-07-01</td>\n",
       "      <td>2020-07-01</td>\n",
       "      <td>2020-07-01</td>\n",
       "      <td>2020-07-01</td>\n",
       "    </tr>\n",
       "    <tr>\n",
       "      <th>2</th>\n",
       "      <td>2020-07-01</td>\n",
       "      <td>2020-07-01</td>\n",
       "      <td>2020-07-01</td>\n",
       "      <td>2020-07-01</td>\n",
       "      <td>2020-07-01</td>\n",
       "      <td>2020-07-01</td>\n",
       "      <td>2020-07-01</td>\n",
       "      <td>2020-07-01</td>\n",
       "      <td>2020-07-01</td>\n",
       "      <td>2020-07-01</td>\n",
       "      <td>...</td>\n",
       "      <td>2020-07-01</td>\n",
       "      <td>2020-07-01</td>\n",
       "      <td>2020-07-01</td>\n",
       "      <td>2020-07-01</td>\n",
       "      <td>2020-07-01</td>\n",
       "      <td>2020-07-01</td>\n",
       "      <td>2020-07-01</td>\n",
       "      <td>2020-07-01</td>\n",
       "      <td>2020-07-01</td>\n",
       "      <td>2020-07-01</td>\n",
       "    </tr>\n",
       "    <tr>\n",
       "      <th>3</th>\n",
       "      <td>2020-07-01</td>\n",
       "      <td>2020-07-01</td>\n",
       "      <td>2020-07-01</td>\n",
       "      <td>2020-07-01</td>\n",
       "      <td>2020-07-01</td>\n",
       "      <td>2020-07-01</td>\n",
       "      <td>2020-07-01</td>\n",
       "      <td>2020-07-01</td>\n",
       "      <td>2020-07-01</td>\n",
       "      <td>2020-07-01</td>\n",
       "      <td>...</td>\n",
       "      <td>2020-07-01</td>\n",
       "      <td>2020-07-01</td>\n",
       "      <td>2020-07-01</td>\n",
       "      <td>2020-07-01</td>\n",
       "      <td>2020-07-01</td>\n",
       "      <td>2020-07-01</td>\n",
       "      <td>2020-07-01</td>\n",
       "      <td>2020-07-01</td>\n",
       "      <td>2020-07-01</td>\n",
       "      <td>2020-07-01</td>\n",
       "    </tr>\n",
       "    <tr>\n",
       "      <th>4</th>\n",
       "      <td>2020-07-01</td>\n",
       "      <td>2020-07-01</td>\n",
       "      <td>2020-07-01</td>\n",
       "      <td>2020-07-01</td>\n",
       "      <td>2020-07-01</td>\n",
       "      <td>2020-07-01</td>\n",
       "      <td>2020-07-01</td>\n",
       "      <td>2020-07-01</td>\n",
       "      <td>2020-07-01</td>\n",
       "      <td>2020-07-01</td>\n",
       "      <td>...</td>\n",
       "      <td>2020-07-01</td>\n",
       "      <td>2020-07-01</td>\n",
       "      <td>2020-07-01</td>\n",
       "      <td>2020-07-01</td>\n",
       "      <td>2020-07-01</td>\n",
       "      <td>2020-07-01</td>\n",
       "      <td>2020-07-01</td>\n",
       "      <td>2020-07-01</td>\n",
       "      <td>2020-07-01</td>\n",
       "      <td>2020-07-01</td>\n",
       "    </tr>\n",
       "    <tr>\n",
       "      <th>...</th>\n",
       "      <td>...</td>\n",
       "      <td>...</td>\n",
       "      <td>...</td>\n",
       "      <td>...</td>\n",
       "      <td>...</td>\n",
       "      <td>...</td>\n",
       "      <td>...</td>\n",
       "      <td>...</td>\n",
       "      <td>...</td>\n",
       "      <td>...</td>\n",
       "      <td>...</td>\n",
       "      <td>...</td>\n",
       "      <td>...</td>\n",
       "      <td>...</td>\n",
       "      <td>...</td>\n",
       "      <td>...</td>\n",
       "      <td>...</td>\n",
       "      <td>...</td>\n",
       "      <td>...</td>\n",
       "      <td>...</td>\n",
       "      <td>...</td>\n",
       "    </tr>\n",
       "    <tr>\n",
       "      <th>11644</th>\n",
       "      <td>NaN</td>\n",
       "      <td>NaN</td>\n",
       "      <td>NaN</td>\n",
       "      <td>NaN</td>\n",
       "      <td>NaN</td>\n",
       "      <td>NaN</td>\n",
       "      <td>NaN</td>\n",
       "      <td>NaN</td>\n",
       "      <td>NaN</td>\n",
       "      <td>NaN</td>\n",
       "      <td>...</td>\n",
       "      <td>2020-12-31</td>\n",
       "      <td>NaN</td>\n",
       "      <td>NaN</td>\n",
       "      <td>NaN</td>\n",
       "      <td>NaN</td>\n",
       "      <td>NaN</td>\n",
       "      <td>NaN</td>\n",
       "      <td>NaN</td>\n",
       "      <td>NaN</td>\n",
       "      <td>NaN</td>\n",
       "    </tr>\n",
       "    <tr>\n",
       "      <th>11645</th>\n",
       "      <td>NaN</td>\n",
       "      <td>NaN</td>\n",
       "      <td>NaN</td>\n",
       "      <td>NaN</td>\n",
       "      <td>NaN</td>\n",
       "      <td>NaN</td>\n",
       "      <td>NaN</td>\n",
       "      <td>NaN</td>\n",
       "      <td>NaN</td>\n",
       "      <td>NaN</td>\n",
       "      <td>...</td>\n",
       "      <td>2020-12-31</td>\n",
       "      <td>NaN</td>\n",
       "      <td>NaN</td>\n",
       "      <td>NaN</td>\n",
       "      <td>NaN</td>\n",
       "      <td>NaN</td>\n",
       "      <td>NaN</td>\n",
       "      <td>NaN</td>\n",
       "      <td>NaN</td>\n",
       "      <td>NaN</td>\n",
       "    </tr>\n",
       "    <tr>\n",
       "      <th>11646</th>\n",
       "      <td>NaN</td>\n",
       "      <td>NaN</td>\n",
       "      <td>NaN</td>\n",
       "      <td>NaN</td>\n",
       "      <td>NaN</td>\n",
       "      <td>NaN</td>\n",
       "      <td>NaN</td>\n",
       "      <td>NaN</td>\n",
       "      <td>NaN</td>\n",
       "      <td>NaN</td>\n",
       "      <td>...</td>\n",
       "      <td>2020-12-31</td>\n",
       "      <td>NaN</td>\n",
       "      <td>NaN</td>\n",
       "      <td>NaN</td>\n",
       "      <td>NaN</td>\n",
       "      <td>NaN</td>\n",
       "      <td>NaN</td>\n",
       "      <td>NaN</td>\n",
       "      <td>NaN</td>\n",
       "      <td>NaN</td>\n",
       "    </tr>\n",
       "    <tr>\n",
       "      <th>11647</th>\n",
       "      <td>NaN</td>\n",
       "      <td>NaN</td>\n",
       "      <td>NaN</td>\n",
       "      <td>NaN</td>\n",
       "      <td>NaN</td>\n",
       "      <td>NaN</td>\n",
       "      <td>NaN</td>\n",
       "      <td>NaN</td>\n",
       "      <td>NaN</td>\n",
       "      <td>NaN</td>\n",
       "      <td>...</td>\n",
       "      <td>2020-12-31</td>\n",
       "      <td>NaN</td>\n",
       "      <td>NaN</td>\n",
       "      <td>NaN</td>\n",
       "      <td>NaN</td>\n",
       "      <td>NaN</td>\n",
       "      <td>NaN</td>\n",
       "      <td>NaN</td>\n",
       "      <td>NaN</td>\n",
       "      <td>NaN</td>\n",
       "    </tr>\n",
       "    <tr>\n",
       "      <th>11648</th>\n",
       "      <td>NaN</td>\n",
       "      <td>NaN</td>\n",
       "      <td>NaN</td>\n",
       "      <td>NaN</td>\n",
       "      <td>NaN</td>\n",
       "      <td>NaN</td>\n",
       "      <td>NaN</td>\n",
       "      <td>NaN</td>\n",
       "      <td>NaN</td>\n",
       "      <td>NaN</td>\n",
       "      <td>...</td>\n",
       "      <td>2020-12-31</td>\n",
       "      <td>NaN</td>\n",
       "      <td>NaN</td>\n",
       "      <td>NaN</td>\n",
       "      <td>NaN</td>\n",
       "      <td>NaN</td>\n",
       "      <td>NaN</td>\n",
       "      <td>NaN</td>\n",
       "      <td>NaN</td>\n",
       "      <td>NaN</td>\n",
       "    </tr>\n",
       "  </tbody>\n",
       "</table>\n",
       "<p>11649 rows × 200 columns</p>\n",
       "</div>"
      ],
      "text/plain": [
       "      fecha_simulada fecha_simulada fecha_simulada fecha_simulada  \\\n",
       "0         2020-07-01     2020-07-01     2020-07-01     2020-07-01   \n",
       "1         2020-07-01     2020-07-01     2020-07-01     2020-07-01   \n",
       "2         2020-07-01     2020-07-01     2020-07-01     2020-07-01   \n",
       "3         2020-07-01     2020-07-01     2020-07-01     2020-07-01   \n",
       "4         2020-07-01     2020-07-01     2020-07-01     2020-07-01   \n",
       "...              ...            ...            ...            ...   \n",
       "11644            NaN            NaN            NaN            NaN   \n",
       "11645            NaN            NaN            NaN            NaN   \n",
       "11646            NaN            NaN            NaN            NaN   \n",
       "11647            NaN            NaN            NaN            NaN   \n",
       "11648            NaN            NaN            NaN            NaN   \n",
       "\n",
       "      fecha_simulada fecha_simulada fecha_simulada fecha_simulada  \\\n",
       "0         2020-07-01     2020-07-01     2020-07-01     2020-07-01   \n",
       "1         2020-07-01     2020-07-01     2020-07-01     2020-07-01   \n",
       "2         2020-07-01     2020-07-01     2020-07-01     2020-07-01   \n",
       "3         2020-07-01     2020-07-01     2020-07-01     2020-07-01   \n",
       "4         2020-07-01     2020-07-01     2020-07-01     2020-07-01   \n",
       "...              ...            ...            ...            ...   \n",
       "11644            NaN            NaN            NaN            NaN   \n",
       "11645            NaN            NaN            NaN            NaN   \n",
       "11646            NaN            NaN            NaN            NaN   \n",
       "11647            NaN            NaN            NaN            NaN   \n",
       "11648            NaN            NaN            NaN            NaN   \n",
       "\n",
       "      fecha_simulada fecha_simulada  ... fecha_simulada fecha_simulada  \\\n",
       "0         2020-07-01     2020-07-01  ...     2020-07-01     2020-07-01   \n",
       "1         2020-07-01     2020-07-01  ...     2020-07-01     2020-07-01   \n",
       "2         2020-07-01     2020-07-01  ...     2020-07-01     2020-07-01   \n",
       "3         2020-07-01     2020-07-01  ...     2020-07-01     2020-07-01   \n",
       "4         2020-07-01     2020-07-01  ...     2020-07-01     2020-07-01   \n",
       "...              ...            ...  ...            ...            ...   \n",
       "11644            NaN            NaN  ...     2020-12-31            NaN   \n",
       "11645            NaN            NaN  ...     2020-12-31            NaN   \n",
       "11646            NaN            NaN  ...     2020-12-31            NaN   \n",
       "11647            NaN            NaN  ...     2020-12-31            NaN   \n",
       "11648            NaN            NaN  ...     2020-12-31            NaN   \n",
       "\n",
       "      fecha_simulada fecha_simulada fecha_simulada fecha_simulada  \\\n",
       "0         2020-07-01     2020-07-01     2020-07-01     2020-07-01   \n",
       "1         2020-07-01     2020-07-01     2020-07-01     2020-07-01   \n",
       "2         2020-07-01     2020-07-01     2020-07-01     2020-07-01   \n",
       "3         2020-07-01     2020-07-01     2020-07-01     2020-07-01   \n",
       "4         2020-07-01     2020-07-01     2020-07-01     2020-07-01   \n",
       "...              ...            ...            ...            ...   \n",
       "11644            NaN            NaN            NaN            NaN   \n",
       "11645            NaN            NaN            NaN            NaN   \n",
       "11646            NaN            NaN            NaN            NaN   \n",
       "11647            NaN            NaN            NaN            NaN   \n",
       "11648            NaN            NaN            NaN            NaN   \n",
       "\n",
       "      fecha_simulada fecha_simulada fecha_simulada fecha_simulada  \n",
       "0         2020-07-01     2020-07-01     2020-07-01     2020-07-01  \n",
       "1         2020-07-01     2020-07-01     2020-07-01     2020-07-01  \n",
       "2         2020-07-01     2020-07-01     2020-07-01     2020-07-01  \n",
       "3         2020-07-01     2020-07-01     2020-07-01     2020-07-01  \n",
       "4         2020-07-01     2020-07-01     2020-07-01     2020-07-01  \n",
       "...              ...            ...            ...            ...  \n",
       "11644            NaN            NaN            NaN            NaN  \n",
       "11645            NaN            NaN            NaN            NaN  \n",
       "11646            NaN            NaN            NaN            NaN  \n",
       "11647            NaN            NaN            NaN            NaN  \n",
       "11648            NaN            NaN            NaN            NaN  \n",
       "\n",
       "[11649 rows x 200 columns]"
      ]
     },
     "execution_count": 317,
     "metadata": {},
     "output_type": "execute_result"
    }
   ],
   "source": [
    "my_df"
   ]
  },
  {
   "cell_type": "code",
   "execution_count": 318,
   "metadata": {},
   "outputs": [],
   "source": [
    "#panda_simulado.to_csv(\"D:/Hawkes Process/Tiempos De llegada Simulados 4 grados.csv\")\n",
    "my_df.to_csv(\"D:/Hawkes Process/Tiempos De llegada Simulados 2022.csv\")\n"
   ]
  },
  {
   "cell_type": "markdown",
   "metadata": {},
   "source": [
    "# Simulación tiempos de llegada"
   ]
  },
  {
   "cell_type": "code",
   "execution_count": 5,
   "metadata": {},
   "outputs": [],
   "source": [
    "import random"
   ]
  },
  {
   "cell_type": "code",
   "execution_count": 4,
   "metadata": {},
   "outputs": [],
   "source": [
    "@njit(nogil=True)\n",
    "def exp_simulate_by_thinning(𝛉, T):\n",
    "    λ, α, β = 𝛉\n",
    "    rnd.seed(100)\n",
    "    λˣ = λ\n",
    "    times = []\n",
    "\n",
    "    t = 0\n",
    "\n",
    "    while True:\n",
    "        M = λˣ\n",
    "        Δt = rnd.exponential() / M\n",
    "        t += Δt\n",
    "        if t > T:\n",
    "            break\n",
    "\n",
    "        λˣ = λ + (λˣ - λ) * np.exp(-β * Δt)\n",
    "\n",
    "        u = M * rnd.rand()\n",
    "        if u > λˣ:\n",
    "            continue  # This potential arrival is 'thinned' out\n",
    "\n",
    "        times.append(t)\n",
    "        λˣ += α\n",
    "\n",
    "    return np.array(times)\n"
   ]
  },
  {
   "cell_type": "code",
   "execution_count": 9,
   "metadata": {},
   "outputs": [
    {
     "data": {
      "text/plain": [
       "74"
      ]
     },
     "execution_count": 9,
     "metadata": {},
     "output_type": "execute_result"
    }
   ],
   "source": [
    "\n",
    "a=exp_simulate_by_thinning(np.array([4,5,10]),10)\n",
    "len(a)"
   ]
  },
  {
   "cell_type": "code",
   "execution_count": 11,
   "metadata": {},
   "outputs": [],
   "source": [
    "pd.DataFrame(a).to_csv(\"D:/Hawkes Process/Tiempos De llegada Simulados parametros 1 alt 4 5 10.csv\")\n"
   ]
  },
  {
   "cell_type": "markdown",
   "metadata": {},
   "source": [
    "# Matriz Hessiana\n"
   ]
  },
  {
   "cell_type": "code",
   "execution_count": 198,
   "metadata": {},
   "outputs": [],
   "source": [
    "import math\n",
    "#𝛉=np.array([7.2111, 6.3288 ,6.7116])\n",
    "#𝛉=np.array([1.5653, 0.7687 ,0.9612])\n",
    "\n",
    "𝛉=np.array([39.6639, 3.7312 ,10.7537])\n"
   ]
  },
  {
   "cell_type": "code",
   "execution_count": 208,
   "metadata": {},
   "outputs": [],
   "source": [
    "#terremotos = pd.read_csv(\"D:/Hawkes Process/Sismo ago-15 may 2023 magnitudes m o igual 4.csv\")\n",
    "terremotos = pd.read_csv(\"D:/Hawkes Process/Base de datos Sismos 2020 2 S.csv\")\n",
    "\n",
    "terremotos.index = pd.to_datetime(terremotos.D.astype(str) + \"/\" + terremotos.M.astype(str) + \"/\" + terremotos.A.astype(str) + \" \" + terremotos.Hora, dayfirst=True)\n",
    "terremotos.sort_index(inplace=True)\n",
    "\n",
    "# Calculate each arrival as a (fractional) number of days since the\n",
    "# beginning of the observation period\n",
    "tiempo_inter_terremoto = terremotos.index - pd.Timestamp(\"7/01/2020\")\n",
    "ts = np.array(tiempo_inter_terremoto.total_seconds() / 60 / 60 / 24)\n",
    "\n",
    "# Calculate the length of the observation period\n",
    "T = math.floor(max(ts))+1"
   ]
  },
  {
   "cell_type": "code",
   "execution_count": 209,
   "metadata": {},
   "outputs": [],
   "source": [
    "#Entrada 1-1 de la matriz Hessiana\n",
    "def d2lambda_lambda (lambda_,vec_z_i_0): \n",
    "    res=  -1/(lambda_**2) *vec_z_i_0.sum()\n",
    "    return res"
   ]
  },
  {
   "cell_type": "code",
   "execution_count": 210,
   "metadata": {},
   "outputs": [],
   "source": [
    "#Entrada 2-2 de la matriz Hessiana\n",
    "def d2alpha_alpha(alpha, vec_z_i_j):\n",
    "    res= -1/(alpha**2)*vec_z_i_j.sum()\n",
    "    return res"
   ]
  },
  {
   "cell_type": "code",
   "execution_count": 211,
   "metadata": {},
   "outputs": [],
   "source": [
    "import math\n",
    "#Para la obtención de los términos de los sumandos de la segunda derivada parcial \n",
    "def aux_d2 (β,tiempos,key): #Key es un parámetro que sirve para especificar el cálculo\n",
    "    aux = []\n",
    "    T=math.floor(tiempos.max())+1\n",
    "    if key==1:\n",
    "        for x in range (0,len(tiempos)):\n",
    "            num= 1-np.exp(-β*(T-tiempos.iloc[x]))\n",
    "            aux.append(num)\n",
    "        aux=pd.DataFrame(aux)\n",
    "    if key==2:\n",
    "        for x in range (0,len(tiempos)):\n",
    "            num= np.exp(-β*(T-tiempos.iloc[x]))*(T-tiempos.iloc[x])\n",
    "            aux.append(num)\n",
    "        aux=pd.DataFrame(aux)\n",
    "        \n",
    "    if key==3:\n",
    "        for x in range (0,len(tiempos)):\n",
    "            num= np.exp(-β*(T-tiempos.iloc[x]))*(T-tiempos.iloc[x])**2\n",
    "            aux.append(num)\n",
    "        aux=pd.DataFrame(aux)\n",
    "    \n",
    "    return aux.sum()\n",
    "    \n"
   ]
  },
  {
   "cell_type": "code",
   "execution_count": 212,
   "metadata": {},
   "outputs": [],
   "source": [
    "#Entrada 3-3 de la matriz Hessiana\n",
    "def d2beta_beta(alpha,beta,tiempos):\n",
    "    T=tiempos.max()\n",
    "    sum1=-2*alpha/(beta**3)*aux_d2(beta,tiempos,1)\n",
    "    sum2=2*alpha/(beta**2)*aux_d2(beta,tiempos,2)\n",
    "    sum3=alpha/beta*aux_d2(beta,tiempos,3)\n",
    "    \n",
    "    res= sum1+sum2+sum3\n",
    "    return res"
   ]
  },
  {
   "cell_type": "code",
   "execution_count": 213,
   "metadata": {},
   "outputs": [],
   "source": [
    "#Entrada 1-2 y 2-1  3-1 y 1-3  por simetría de la matriz Hessiana\n",
    "def d2lambda_alpha_beta():\n",
    "    return 0\n"
   ]
  },
  {
   "cell_type": "code",
   "execution_count": 214,
   "metadata": {},
   "outputs": [],
   "source": [
    "#Entrada 2-3 y 3-2 de la matriz Hessiana por simetría\n",
    "def d2alpha_beta(beta,tiempos):\n",
    "    res=1/(beta**2)*aux_d2(beta,tiempos,1)-1/beta*aux_d2(beta,tiempos,2)\n",
    "    return res\n"
   ]
  },
  {
   "cell_type": "code",
   "execution_count": 215,
   "metadata": {},
   "outputs": [
    {
     "data": {
      "text/html": [
       "<div>\n",
       "<style scoped>\n",
       "    .dataframe tbody tr th:only-of-type {\n",
       "        vertical-align: middle;\n",
       "    }\n",
       "\n",
       "    .dataframe tbody tr th {\n",
       "        vertical-align: top;\n",
       "    }\n",
       "\n",
       "    .dataframe thead th {\n",
       "        text-align: right;\n",
       "    }\n",
       "</style>\n",
       "<table border=\"1\" class=\"dataframe\">\n",
       "  <thead>\n",
       "    <tr style=\"text-align: right;\">\n",
       "      <th></th>\n",
       "      <th>0</th>\n",
       "    </tr>\n",
       "  </thead>\n",
       "  <tbody>\n",
       "    <tr>\n",
       "      <th>0</th>\n",
       "      <td>1.000000</td>\n",
       "    </tr>\n",
       "    <tr>\n",
       "      <th>1</th>\n",
       "      <td>0.929891</td>\n",
       "    </tr>\n",
       "    <tr>\n",
       "      <th>2</th>\n",
       "      <td>0.858602</td>\n",
       "    </tr>\n",
       "    <tr>\n",
       "      <th>3</th>\n",
       "      <td>0.802191</td>\n",
       "    </tr>\n",
       "    <tr>\n",
       "      <th>4</th>\n",
       "      <td>0.765563</td>\n",
       "    </tr>\n",
       "    <tr>\n",
       "      <th>...</th>\n",
       "      <td>...</td>\n",
       "    </tr>\n",
       "    <tr>\n",
       "      <th>11167</th>\n",
       "      <td>0.617881</td>\n",
       "    </tr>\n",
       "    <tr>\n",
       "      <th>11168</th>\n",
       "      <td>0.681793</td>\n",
       "    </tr>\n",
       "    <tr>\n",
       "      <th>11169</th>\n",
       "      <td>0.655235</td>\n",
       "    </tr>\n",
       "    <tr>\n",
       "      <th>11170</th>\n",
       "      <td>0.617692</td>\n",
       "    </tr>\n",
       "    <tr>\n",
       "      <th>11171</th>\n",
       "      <td>0.629819</td>\n",
       "    </tr>\n",
       "  </tbody>\n",
       "</table>\n",
       "<p>11172 rows × 1 columns</p>\n",
       "</div>"
      ],
      "text/plain": [
       "              0\n",
       "0      1.000000\n",
       "1      0.929891\n",
       "2      0.858602\n",
       "3      0.802191\n",
       "4      0.765563\n",
       "...         ...\n",
       "11167  0.617881\n",
       "11168  0.681793\n",
       "11169  0.655235\n",
       "11170  0.617692\n",
       "11171  0.629819\n",
       "\n",
       "[11172 rows x 1 columns]"
      ]
     },
     "execution_count": 215,
     "metadata": {},
     "output_type": "execute_result"
    }
   ],
   "source": [
    "s=em_responsibilities(ts,𝛉)\n",
    "df = pd.DataFrame(s)\n",
    "df1=df[[0]]\n",
    "df1\n"
   ]
  },
  {
   "cell_type": "code",
   "execution_count": 216,
   "metadata": {},
   "outputs": [
    {
     "data": {
      "text/plain": [
       "array([1.65393519e-02, 3.71180556e-02, 3.97800926e-02, ...,\n",
       "       1.83981620e+02, 1.83981817e+02, 1.83999780e+02])"
      ]
     },
     "execution_count": 216,
     "metadata": {},
     "output_type": "execute_result"
    }
   ],
   "source": [
    "ts"
   ]
  },
  {
   "cell_type": "code",
   "execution_count": null,
   "metadata": {},
   "outputs": [],
   "source": []
  },
  {
   "cell_type": "code",
   "execution_count": 217,
   "metadata": {},
   "outputs": [],
   "source": [
    "df = pd.DataFrame(s)\n"
   ]
  },
  {
   "cell_type": "code",
   "execution_count": 218,
   "metadata": {},
   "outputs": [],
   "source": [
    "df = df.drop(0, axis=1)\n",
    "df=df.iloc[1:]"
   ]
  },
  {
   "cell_type": "code",
   "execution_count": 219,
   "metadata": {},
   "outputs": [],
   "source": [
    "df=df.to_numpy() #Volverlo vector debe ser objeto de tipo numpy"
   ]
  },
  {
   "cell_type": "code",
   "execution_count": 220,
   "metadata": {},
   "outputs": [],
   "source": [
    "#Elementos de la parte triangular inferior de la matriz con -1 porque la primera columna son los zi0\n",
    "#Elementos de la parte triangular inferior de la matriz con -1 porque la primera columna son los zi0\n",
    "lower_triangle= pd.DataFrame(df[np.tril_indices(len(ts)-1)])\n",
    "lower_triangle_index=pd.DataFrame(np.tril_indices(len(ts)-1)[0])\n",
    "lower_triangle_index.rename(columns = {0:'index'}, inplace = True)"
   ]
  },
  {
   "cell_type": "code",
   "execution_count": 221,
   "metadata": {},
   "outputs": [],
   "source": [
    "lower_triangle_index.rename(columns = {0:'index'}, inplace = True)"
   ]
  },
  {
   "cell_type": "code",
   "execution_count": 222,
   "metadata": {},
   "outputs": [],
   "source": [
    "lower_triangle_index[['index']]=lower_triangle_index[['index']]#+1"
   ]
  },
  {
   "cell_type": "code",
   "execution_count": 223,
   "metadata": {},
   "outputs": [
    {
     "data": {
      "text/html": [
       "<div>\n",
       "<style scoped>\n",
       "    .dataframe tbody tr th:only-of-type {\n",
       "        vertical-align: middle;\n",
       "    }\n",
       "\n",
       "    .dataframe tbody tr th {\n",
       "        vertical-align: top;\n",
       "    }\n",
       "\n",
       "    .dataframe thead th {\n",
       "        text-align: right;\n",
       "    }\n",
       "</style>\n",
       "<table border=\"1\" class=\"dataframe\">\n",
       "  <thead>\n",
       "    <tr style=\"text-align: right;\">\n",
       "      <th></th>\n",
       "      <th>index</th>\n",
       "    </tr>\n",
       "  </thead>\n",
       "  <tbody>\n",
       "    <tr>\n",
       "      <th>0</th>\n",
       "      <td>0</td>\n",
       "    </tr>\n",
       "    <tr>\n",
       "      <th>1</th>\n",
       "      <td>1</td>\n",
       "    </tr>\n",
       "    <tr>\n",
       "      <th>2</th>\n",
       "      <td>1</td>\n",
       "    </tr>\n",
       "    <tr>\n",
       "      <th>3</th>\n",
       "      <td>2</td>\n",
       "    </tr>\n",
       "    <tr>\n",
       "      <th>4</th>\n",
       "      <td>2</td>\n",
       "    </tr>\n",
       "    <tr>\n",
       "      <th>...</th>\n",
       "      <td>...</td>\n",
       "    </tr>\n",
       "    <tr>\n",
       "      <th>62401201</th>\n",
       "      <td>11170</td>\n",
       "    </tr>\n",
       "    <tr>\n",
       "      <th>62401202</th>\n",
       "      <td>11170</td>\n",
       "    </tr>\n",
       "    <tr>\n",
       "      <th>62401203</th>\n",
       "      <td>11170</td>\n",
       "    </tr>\n",
       "    <tr>\n",
       "      <th>62401204</th>\n",
       "      <td>11170</td>\n",
       "    </tr>\n",
       "    <tr>\n",
       "      <th>62401205</th>\n",
       "      <td>11170</td>\n",
       "    </tr>\n",
       "  </tbody>\n",
       "</table>\n",
       "<p>62401206 rows × 1 columns</p>\n",
       "</div>"
      ],
      "text/plain": [
       "          index\n",
       "0             0\n",
       "1             1\n",
       "2             1\n",
       "3             2\n",
       "4             2\n",
       "...         ...\n",
       "62401201  11170\n",
       "62401202  11170\n",
       "62401203  11170\n",
       "62401204  11170\n",
       "62401205  11170\n",
       "\n",
       "[62401206 rows x 1 columns]"
      ]
     },
     "execution_count": 223,
     "metadata": {},
     "output_type": "execute_result"
    }
   ],
   "source": [
    "\n",
    "lower_triangle_index\n"
   ]
  },
  {
   "cell_type": "code",
   "execution_count": 224,
   "metadata": {},
   "outputs": [
    {
     "data": {
      "text/html": [
       "<div>\n",
       "<style scoped>\n",
       "    .dataframe tbody tr th:only-of-type {\n",
       "        vertical-align: middle;\n",
       "    }\n",
       "\n",
       "    .dataframe tbody tr th {\n",
       "        vertical-align: top;\n",
       "    }\n",
       "\n",
       "    .dataframe thead th {\n",
       "        text-align: right;\n",
       "    }\n",
       "</style>\n",
       "<table border=\"1\" class=\"dataframe\">\n",
       "  <thead>\n",
       "    <tr style=\"text-align: right;\">\n",
       "      <th></th>\n",
       "      <th>0</th>\n",
       "      <th>index</th>\n",
       "    </tr>\n",
       "  </thead>\n",
       "  <tbody>\n",
       "    <tr>\n",
       "      <th>0</th>\n",
       "      <td>0.070109</td>\n",
       "      <td>0</td>\n",
       "    </tr>\n",
       "    <tr>\n",
       "      <th>1</th>\n",
       "      <td>0.062908</td>\n",
       "      <td>1</td>\n",
       "    </tr>\n",
       "    <tr>\n",
       "      <th>2</th>\n",
       "      <td>0.078490</td>\n",
       "      <td>1</td>\n",
       "    </tr>\n",
       "    <tr>\n",
       "      <th>3</th>\n",
       "      <td>0.056011</td>\n",
       "      <td>2</td>\n",
       "    </tr>\n",
       "    <tr>\n",
       "      <th>4</th>\n",
       "      <td>0.069884</td>\n",
       "      <td>2</td>\n",
       "    </tr>\n",
       "    <tr>\n",
       "      <th>...</th>\n",
       "      <td>...</td>\n",
       "      <td>...</td>\n",
       "    </tr>\n",
       "    <tr>\n",
       "      <th>62401201</th>\n",
       "      <td>0.025154</td>\n",
       "      <td>11170</td>\n",
       "    </tr>\n",
       "    <tr>\n",
       "      <th>62401202</th>\n",
       "      <td>0.029954</td>\n",
       "      <td>11170</td>\n",
       "    </tr>\n",
       "    <tr>\n",
       "      <th>62401203</th>\n",
       "      <td>0.045728</td>\n",
       "      <td>11170</td>\n",
       "    </tr>\n",
       "    <tr>\n",
       "      <th>62401204</th>\n",
       "      <td>0.048737</td>\n",
       "      <td>11170</td>\n",
       "    </tr>\n",
       "    <tr>\n",
       "      <th>62401205</th>\n",
       "      <td>0.048840</td>\n",
       "      <td>11170</td>\n",
       "    </tr>\n",
       "  </tbody>\n",
       "</table>\n",
       "<p>62401206 rows × 2 columns</p>\n",
       "</div>"
      ],
      "text/plain": [
       "                 0  index\n",
       "0         0.070109      0\n",
       "1         0.062908      1\n",
       "2         0.078490      1\n",
       "3         0.056011      2\n",
       "4         0.069884      2\n",
       "...            ...    ...\n",
       "62401201  0.025154  11170\n",
       "62401202  0.029954  11170\n",
       "62401203  0.045728  11170\n",
       "62401204  0.048737  11170\n",
       "62401205  0.048840  11170\n",
       "\n",
       "[62401206 rows x 2 columns]"
      ]
     },
     "execution_count": 224,
     "metadata": {},
     "output_type": "execute_result"
    }
   ],
   "source": [
    "data_final_index = pd.concat([pd.DataFrame(lower_triangle),pd.DataFrame(lower_triangle_index)], axis=1)\n",
    "data_final_index"
   ]
  },
  {
   "cell_type": "code",
   "execution_count": 225,
   "metadata": {},
   "outputs": [],
   "source": [
    "ts=pd.DataFrame(ts)\n",
    "ts['index'] = ts.index"
   ]
  },
  {
   "cell_type": "code",
   "execution_count": 226,
   "metadata": {},
   "outputs": [],
   "source": [
    "#para obtener los tiempos de cada z_i_j \n",
    "prev= data_final_index.merge(ts,how=\"left\",on=\"index\")\n",
    "result= prev[['0_y']]"
   ]
  },
  {
   "cell_type": "code",
   "execution_count": 227,
   "metadata": {},
   "outputs": [],
   "source": [
    "# Se unen los tiempos z_ij a su respectiva probabilidad\n",
    "result=pd.DataFrame(result)\n",
    "result=result.reset_index()\n",
    "result.rename(columns = {'0_y':'tiempos'}, inplace = True)\n",
    "data_final_z_i_j = pd.concat([result,lower_triangle], axis=1).drop(['index'],axis=1)\n",
    "data_final_z_i_j.rename(columns = {0:'z_ij'}, inplace = True)"
   ]
  },
  {
   "cell_type": "code",
   "execution_count": 228,
   "metadata": {},
   "outputs": [
    {
     "data": {
      "text/html": [
       "<div>\n",
       "<style scoped>\n",
       "    .dataframe tbody tr th:only-of-type {\n",
       "        vertical-align: middle;\n",
       "    }\n",
       "\n",
       "    .dataframe tbody tr th {\n",
       "        vertical-align: top;\n",
       "    }\n",
       "\n",
       "    .dataframe thead th {\n",
       "        text-align: right;\n",
       "    }\n",
       "</style>\n",
       "<table border=\"1\" class=\"dataframe\">\n",
       "  <thead>\n",
       "    <tr style=\"text-align: right;\">\n",
       "      <th></th>\n",
       "      <th>tiempos</th>\n",
       "      <th>z_ij</th>\n",
       "    </tr>\n",
       "  </thead>\n",
       "  <tbody>\n",
       "    <tr>\n",
       "      <th>0</th>\n",
       "      <td>0.016539</td>\n",
       "      <td>0.070109</td>\n",
       "    </tr>\n",
       "    <tr>\n",
       "      <th>1</th>\n",
       "      <td>0.037118</td>\n",
       "      <td>0.062908</td>\n",
       "    </tr>\n",
       "    <tr>\n",
       "      <th>2</th>\n",
       "      <td>0.037118</td>\n",
       "      <td>0.078490</td>\n",
       "    </tr>\n",
       "    <tr>\n",
       "      <th>3</th>\n",
       "      <td>0.039780</td>\n",
       "      <td>0.056011</td>\n",
       "    </tr>\n",
       "    <tr>\n",
       "      <th>4</th>\n",
       "      <td>0.039780</td>\n",
       "      <td>0.069884</td>\n",
       "    </tr>\n",
       "    <tr>\n",
       "      <th>...</th>\n",
       "      <td>...</td>\n",
       "      <td>...</td>\n",
       "    </tr>\n",
       "    <tr>\n",
       "      <th>62401201</th>\n",
       "      <td>183.981817</td>\n",
       "      <td>0.025154</td>\n",
       "    </tr>\n",
       "    <tr>\n",
       "      <th>62401202</th>\n",
       "      <td>183.981817</td>\n",
       "      <td>0.029954</td>\n",
       "    </tr>\n",
       "    <tr>\n",
       "      <th>62401203</th>\n",
       "      <td>183.981817</td>\n",
       "      <td>0.045728</td>\n",
       "    </tr>\n",
       "    <tr>\n",
       "      <th>62401204</th>\n",
       "      <td>183.981817</td>\n",
       "      <td>0.048737</td>\n",
       "    </tr>\n",
       "    <tr>\n",
       "      <th>62401205</th>\n",
       "      <td>183.981817</td>\n",
       "      <td>0.048840</td>\n",
       "    </tr>\n",
       "  </tbody>\n",
       "</table>\n",
       "<p>62401206 rows × 2 columns</p>\n",
       "</div>"
      ],
      "text/plain": [
       "             tiempos      z_ij\n",
       "0           0.016539  0.070109\n",
       "1           0.037118  0.062908\n",
       "2           0.037118  0.078490\n",
       "3           0.039780  0.056011\n",
       "4           0.039780  0.069884\n",
       "...              ...       ...\n",
       "62401201  183.981817  0.025154\n",
       "62401202  183.981817  0.029954\n",
       "62401203  183.981817  0.045728\n",
       "62401204  183.981817  0.048737\n",
       "62401205  183.981817  0.048840\n",
       "\n",
       "[62401206 rows x 2 columns]"
      ]
     },
     "execution_count": 228,
     "metadata": {},
     "output_type": "execute_result"
    }
   ],
   "source": [
    "data_final_z_i_j"
   ]
  },
  {
   "cell_type": "code",
   "execution_count": 229,
   "metadata": {},
   "outputs": [
    {
     "data": {
      "text/html": [
       "<div>\n",
       "<style scoped>\n",
       "    .dataframe tbody tr th:only-of-type {\n",
       "        vertical-align: middle;\n",
       "    }\n",
       "\n",
       "    .dataframe tbody tr th {\n",
       "        vertical-align: top;\n",
       "    }\n",
       "\n",
       "    .dataframe thead th {\n",
       "        text-align: right;\n",
       "    }\n",
       "</style>\n",
       "<table border=\"1\" class=\"dataframe\">\n",
       "  <thead>\n",
       "    <tr style=\"text-align: right;\">\n",
       "      <th></th>\n",
       "      <th>0</th>\n",
       "      <th>index</th>\n",
       "    </tr>\n",
       "  </thead>\n",
       "  <tbody>\n",
       "    <tr>\n",
       "      <th>0</th>\n",
       "      <td>0.016539</td>\n",
       "      <td>0</td>\n",
       "    </tr>\n",
       "    <tr>\n",
       "      <th>1</th>\n",
       "      <td>0.037118</td>\n",
       "      <td>1</td>\n",
       "    </tr>\n",
       "    <tr>\n",
       "      <th>2</th>\n",
       "      <td>0.039780</td>\n",
       "      <td>2</td>\n",
       "    </tr>\n",
       "    <tr>\n",
       "      <th>3</th>\n",
       "      <td>0.044259</td>\n",
       "      <td>3</td>\n",
       "    </tr>\n",
       "    <tr>\n",
       "      <th>4</th>\n",
       "      <td>0.054167</td>\n",
       "      <td>4</td>\n",
       "    </tr>\n",
       "    <tr>\n",
       "      <th>...</th>\n",
       "      <td>...</td>\n",
       "      <td>...</td>\n",
       "    </tr>\n",
       "    <tr>\n",
       "      <th>11167</th>\n",
       "      <td>183.936354</td>\n",
       "      <td>11167</td>\n",
       "    </tr>\n",
       "    <tr>\n",
       "      <th>11168</th>\n",
       "      <td>183.975694</td>\n",
       "      <td>11168</td>\n",
       "    </tr>\n",
       "    <tr>\n",
       "      <th>11169</th>\n",
       "      <td>183.981620</td>\n",
       "      <td>11169</td>\n",
       "    </tr>\n",
       "    <tr>\n",
       "      <th>11170</th>\n",
       "      <td>183.981817</td>\n",
       "      <td>11170</td>\n",
       "    </tr>\n",
       "    <tr>\n",
       "      <th>11171</th>\n",
       "      <td>183.999780</td>\n",
       "      <td>11171</td>\n",
       "    </tr>\n",
       "  </tbody>\n",
       "</table>\n",
       "<p>11172 rows × 2 columns</p>\n",
       "</div>"
      ],
      "text/plain": [
       "                0  index\n",
       "0        0.016539      0\n",
       "1        0.037118      1\n",
       "2        0.039780      2\n",
       "3        0.044259      3\n",
       "4        0.054167      4\n",
       "...           ...    ...\n",
       "11167  183.936354  11167\n",
       "11168  183.975694  11168\n",
       "11169  183.981620  11169\n",
       "11170  183.981817  11170\n",
       "11171  183.999780  11171\n",
       "\n",
       "[11172 rows x 2 columns]"
      ]
     },
     "execution_count": 229,
     "metadata": {},
     "output_type": "execute_result"
    }
   ],
   "source": [
    "ts"
   ]
  },
  {
   "cell_type": "code",
   "execution_count": 230,
   "metadata": {},
   "outputs": [
    {
     "data": {
      "text/plain": [
       "array([[0.07010948, 0.        , 0.        , ..., 0.        , 0.        ,\n",
       "        0.        ],\n",
       "       [0.06290782, 0.07848972, 0.        , ..., 0.        , 0.        ,\n",
       "        0.        ],\n",
       "       [0.05601076, 0.0698843 , 0.07191377, ..., 0.        , 0.        ,\n",
       "        0.        ],\n",
       "       ...,\n",
       "       [0.        , 0.        , 0.        , ..., 0.05783284, 0.        ,\n",
       "        0.        ],\n",
       "       [0.        , 0.        , 0.        , ..., 0.05440397, 0.05798375,\n",
       "        0.        ],\n",
       "       [0.        , 0.        , 0.        , ..., 0.04572805, 0.04873695,\n",
       "        0.04884018]])"
      ]
     },
     "execution_count": 230,
     "metadata": {},
     "output_type": "execute_result"
    }
   ],
   "source": [
    "df"
   ]
  },
  {
   "cell_type": "code",
   "execution_count": 231,
   "metadata": {},
   "outputs": [],
   "source": [
    "#Obtenemos los valores de las z_i0 (son los elementos de la diagonal y les asignamos los respectivos tiempos)\n",
    "diagonal = df1\n",
    "ts.rename(columns = {0:'tiempos'}, inplace = True)\n",
    "data_final_z_i_0 = pd.concat([ts,diagonal], axis=1)\n",
    "data_final_z_i_0.rename(columns = {0:'z_i0'}, inplace = True)"
   ]
  },
  {
   "cell_type": "code",
   "execution_count": 232,
   "metadata": {},
   "outputs": [
    {
     "data": {
      "text/html": [
       "<div>\n",
       "<style scoped>\n",
       "    .dataframe tbody tr th:only-of-type {\n",
       "        vertical-align: middle;\n",
       "    }\n",
       "\n",
       "    .dataframe tbody tr th {\n",
       "        vertical-align: top;\n",
       "    }\n",
       "\n",
       "    .dataframe thead th {\n",
       "        text-align: right;\n",
       "    }\n",
       "</style>\n",
       "<table border=\"1\" class=\"dataframe\">\n",
       "  <thead>\n",
       "    <tr style=\"text-align: right;\">\n",
       "      <th></th>\n",
       "      <th>tiempos</th>\n",
       "      <th>index</th>\n",
       "      <th>z_i0</th>\n",
       "    </tr>\n",
       "  </thead>\n",
       "  <tbody>\n",
       "    <tr>\n",
       "      <th>0</th>\n",
       "      <td>0.016539</td>\n",
       "      <td>0</td>\n",
       "      <td>1.000000</td>\n",
       "    </tr>\n",
       "    <tr>\n",
       "      <th>1</th>\n",
       "      <td>0.037118</td>\n",
       "      <td>1</td>\n",
       "      <td>0.929891</td>\n",
       "    </tr>\n",
       "    <tr>\n",
       "      <th>2</th>\n",
       "      <td>0.039780</td>\n",
       "      <td>2</td>\n",
       "      <td>0.858602</td>\n",
       "    </tr>\n",
       "    <tr>\n",
       "      <th>3</th>\n",
       "      <td>0.044259</td>\n",
       "      <td>3</td>\n",
       "      <td>0.802191</td>\n",
       "    </tr>\n",
       "    <tr>\n",
       "      <th>4</th>\n",
       "      <td>0.054167</td>\n",
       "      <td>4</td>\n",
       "      <td>0.765563</td>\n",
       "    </tr>\n",
       "    <tr>\n",
       "      <th>...</th>\n",
       "      <td>...</td>\n",
       "      <td>...</td>\n",
       "      <td>...</td>\n",
       "    </tr>\n",
       "    <tr>\n",
       "      <th>11167</th>\n",
       "      <td>183.936354</td>\n",
       "      <td>11167</td>\n",
       "      <td>0.617881</td>\n",
       "    </tr>\n",
       "    <tr>\n",
       "      <th>11168</th>\n",
       "      <td>183.975694</td>\n",
       "      <td>11168</td>\n",
       "      <td>0.681793</td>\n",
       "    </tr>\n",
       "    <tr>\n",
       "      <th>11169</th>\n",
       "      <td>183.981620</td>\n",
       "      <td>11169</td>\n",
       "      <td>0.655235</td>\n",
       "    </tr>\n",
       "    <tr>\n",
       "      <th>11170</th>\n",
       "      <td>183.981817</td>\n",
       "      <td>11170</td>\n",
       "      <td>0.617692</td>\n",
       "    </tr>\n",
       "    <tr>\n",
       "      <th>11171</th>\n",
       "      <td>183.999780</td>\n",
       "      <td>11171</td>\n",
       "      <td>0.629819</td>\n",
       "    </tr>\n",
       "  </tbody>\n",
       "</table>\n",
       "<p>11172 rows × 3 columns</p>\n",
       "</div>"
      ],
      "text/plain": [
       "          tiempos  index      z_i0\n",
       "0        0.016539      0  1.000000\n",
       "1        0.037118      1  0.929891\n",
       "2        0.039780      2  0.858602\n",
       "3        0.044259      3  0.802191\n",
       "4        0.054167      4  0.765563\n",
       "...           ...    ...       ...\n",
       "11167  183.936354  11167  0.617881\n",
       "11168  183.975694  11168  0.681793\n",
       "11169  183.981620  11169  0.655235\n",
       "11170  183.981817  11170  0.617692\n",
       "11171  183.999780  11171  0.629819\n",
       "\n",
       "[11172 rows x 3 columns]"
      ]
     },
     "execution_count": 232,
     "metadata": {},
     "output_type": "execute_result"
    }
   ],
   "source": [
    "data_final_z_i_0"
   ]
  },
  {
   "cell_type": "markdown",
   "metadata": {},
   "source": [
    "# Prueba Poisson Homogeneo"
   ]
  },
  {
   "cell_type": "code",
   "execution_count": 37,
   "metadata": {},
   "outputs": [],
   "source": [
    "#norm.ppf(.5)\n",
    "quakes = pd.read_csv(\"D:/Hawkes Process/tiempos_poisson_homogeneo.csv\")\n",
    "quakes.sort_index(inplace=True)\n",
    "ts = np.array(quakes['Tarribo'])"
   ]
  },
  {
   "cell_type": "code",
   "execution_count": 5,
   "metadata": {},
   "outputs": [],
   "source": [
    "ts\n",
    "T=max(ts)"
   ]
  },
  {
   "cell_type": "code",
   "execution_count": 6,
   "metadata": {},
   "outputs": [
    {
     "data": {
      "text/plain": [
       "array([6.58276064e-01, 9.07357546e-01, 9.26239298e-01, ...,\n",
       "       7.49800459e+03, 7.49806961e+03, 7.49967088e+03])"
      ]
     },
     "execution_count": 6,
     "metadata": {},
     "output_type": "execute_result"
    }
   ],
   "source": [
    "ts"
   ]
  },
  {
   "cell_type": "code",
   "execution_count": 13,
   "metadata": {},
   "outputs": [
    {
     "ename": "KeyboardInterrupt",
     "evalue": "",
     "output_type": "error",
     "traceback": [
      "\u001b[1;31m---------------------------------------------------------------------------\u001b[0m",
      "\u001b[1;31mKeyboardInterrupt\u001b[0m                         Traceback (most recent call last)",
      "\u001b[1;32m<ipython-input-13-4618ad2315b6>\u001b[0m in \u001b[0;36m<module>\u001b[1;34m\u001b[0m\n\u001b[0;32m     16\u001b[0m \u001b[1;33m\u001b[0m\u001b[0m\n\u001b[0;32m     17\u001b[0m     \u001b[1;31m# E step\u001b[0m\u001b[1;33m\u001b[0m\u001b[1;33m\u001b[0m\u001b[1;33m\u001b[0m\u001b[0m\n\u001b[1;32m---> 18\u001b[1;33m     \u001b[0mresp\u001b[0m \u001b[1;33m=\u001b[0m \u001b[0mem_responsibilities\u001b[0m\u001b[1;33m(\u001b[0m\u001b[0m𝐭\u001b[0m\u001b[1;33m,\u001b[0m \u001b[0m𝛉\u001b[0m\u001b[1;33m)\u001b[0m\u001b[1;33m\u001b[0m\u001b[1;33m\u001b[0m\u001b[0m\n\u001b[0m\u001b[0;32m     19\u001b[0m \u001b[1;33m\u001b[0m\u001b[0m\n\u001b[0;32m     20\u001b[0m     \u001b[1;31m# M step: Update λ\u001b[0m\u001b[1;33m\u001b[0m\u001b[1;33m\u001b[0m\u001b[1;33m\u001b[0m\u001b[0m\n",
      "\u001b[1;31mKeyboardInterrupt\u001b[0m: "
     ]
    }
   ],
   "source": [
    "t=ts\n",
    "\n",
    "λ_hist=[]\n",
    "α_hist=[]\n",
    "β_hist=[]\n",
    "\n",
    "𝛉=np.array([1.978810924,0.0001,1.533764894])\n",
    "\n",
    "λ_hist.append(𝛉[0])\n",
    "α_hist.append(𝛉[1])\n",
    "β_hist.append(𝛉[2])\n",
    "\n",
    "for i in range (0,2000):\n",
    "    λ, α, β = 𝛉\n",
    "    N = len(𝐭)\n",
    "\n",
    "    # E step\n",
    "    resp = em_responsibilities(𝐭, 𝛉)\n",
    "\n",
    "    # M step: Update λ\n",
    "    λ = np.sum(resp[:,0])/T\n",
    "\n",
    "    numer = np.sum(resp[:,1:])\n",
    "    denom = np.sum(1 - np.exp(-β*(T - 𝐭)))\n",
    "    denom2 = 0\n",
    "    for j in prange(1, N):\n",
    "        denom2 += np.sum((𝐭[j] - 𝐭[:j])*resp[j,1:j+1])\n",
    "\n",
    "    func = lambda β : β*numer/denom*(np.sum(1 - np.exp(-β*(T - 𝐭)))/β - np.sum((T - 𝐭)*np.exp(-β*(T - 𝐭))))/denom2- β\n",
    "\n",
    "    beta_initial_guess = β\n",
    "    beta_solution = fsolve(func,beta_initial_guess)\n",
    "    \n",
    "    α=beta_solution[0]*numer/denom\n",
    "    𝛉=np.array([λ,α,beta_solution[0]])\n",
    "    λ_hist.append(λ)\n",
    "    α_hist.append(α)\n",
    "    β_hist.append(β)\n",
    "    "
   ]
  },
  {
   "cell_type": "code",
   "execution_count": 14,
   "metadata": {},
   "outputs": [
    {
     "data": {
      "text/plain": [
       "[0.0001,\n",
       " 0.00010197034043613955,\n",
       " 0.00010269479214561045,\n",
       " 0.00010342386461439596,\n",
       " 0.00010415758214413167,\n",
       " 0.0001048959691921467,\n",
       " 0.00010563905037250888,\n",
       " 0.00010638685045706673,\n",
       " 0.00010713939437648856,\n",
       " 0.0001078967072212947,\n",
       " 0.00010865881424288835,\n",
       " 0.00010942574085458047,\n",
       " 0.00011019751263261363,\n",
       " 0.00011097415531717915,\n",
       " 0.00011175569481343482,\n",
       " 0.0001125421571925198,\n",
       " 0.00011333356869255891,\n",
       " 0.00011412995571966586,\n",
       " 0.0001149313448489618,\n",
       " 0.00011573776282556337,\n",
       " 0.00011654923656558065,\n",
       " 0.00011736579315712267,\n",
       " 0.00011818745986127971,\n",
       " 0.0001190142641131221,\n",
       " 0.00011984623352268935,\n",
       " 0.00012068339587597024,\n",
       " 0.00012152577913589518,\n",
       " 0.00012237341144331895,\n",
       " 0.00012322632111800243,\n",
       " 0.00012408453665959063,\n",
       " 0.00012494808674859423,\n",
       " 0.00012581700024737332,\n",
       " 0.00012669130620110157,\n",
       " 0.000127571033838751,\n",
       " 0.00012845621257406799,\n",
       " 0.00012934687200654512,\n",
       " 0.00013024304192239507]"
      ]
     },
     "execution_count": 14,
     "metadata": {},
     "output_type": "execute_result"
    }
   ],
   "source": [
    "α_hist"
   ]
  },
  {
   "cell_type": "code",
   "execution_count": 101,
   "metadata": {},
   "outputs": [],
   "source": [
    "#second and posterior runs \n",
    "v1=𝛉[0]\n",
    "v2=𝛉[1]\n",
    "v3=𝛉[2]\n",
    "\n",
    "𝛉=np.array([v1 ,v2 ,v3])\n",
    "for i in range (0,300):\n",
    "    λ, α, β = 𝛉\n",
    "    N = len(𝐭)\n",
    "\n",
    "    # E step\n",
    "    resp = em_responsibilities(𝐭, 𝛉)\n",
    "\n",
    "    # M step: Update λ\n",
    "    λ = np.sum(resp[:,0])/T\n",
    "\n",
    "    numer = np.sum(resp[:,1:])\n",
    "    denom = np.sum(1 - np.exp(-β*(T - 𝐭)))\n",
    "    denom2 = 0\n",
    "    for j in prange(1, N):\n",
    "        denom2 += np.sum((𝐭[j] - 𝐭[:j])*resp[j,1:j+1])\n",
    "\n",
    "    func = lambda β : β*numer/denom*(np.sum(1 - np.exp(-β*(T - 𝐭)))/β - np.sum((T - 𝐭)*np.exp(-β*(T - 𝐭))))/denom2- β\n",
    "\n",
    "    beta_initial_guess = β\n",
    "    beta_solution = fsolve(func,beta_initial_guess)\n",
    "    \n",
    "    α=beta_solution[0]*numer/denom\n",
    "    𝛉=np.array([λ,α,beta_solution[0]])\n",
    "    λ_hist.append(λ)\n",
    "    α_hist.append(α)\n",
    "    β_hist.append(β)\n"
   ]
  },
  {
   "cell_type": "code",
   "execution_count": 30,
   "metadata": {},
   "outputs": [
    {
     "data": {
      "text/plain": [
       "15027"
      ]
     },
     "execution_count": 30,
     "metadata": {},
     "output_type": "execute_result"
    }
   ],
   "source": [
    "len(𝐭)"
   ]
  },
  {
   "cell_type": "code",
   "execution_count": 106,
   "metadata": {},
   "outputs": [
    {
     "data": {
      "text/plain": [
       "-4582.950463734215"
      ]
     },
     "execution_count": 106,
     "metadata": {},
     "output_type": "execute_result"
    }
   ],
   "source": [
    "exp_log_likelihood(ts, T,𝛉 )"
   ]
  },
  {
   "cell_type": "code",
   "execution_count": 111,
   "metadata": {},
   "outputs": [],
   "source": [
    "λ, α, β = 𝛉\n",
    "𝐭 = ts\n",
    "N_T = len(𝐭)"
   ]
  },
  {
   "cell_type": "code",
   "execution_count": 112,
   "metadata": {},
   "outputs": [],
   "source": [
    "\n",
    "\n",
    "A = np.empty(N_T, dtype=np.float64)\n",
    "A[0] = 0\n",
    "    #funcion recursiva para calcular A[i] prara cada llegada\n",
    "    \n",
    "for i in range(1, N_T):\n",
    "    A[i] = np.exp(-β*(𝐭[i] - 𝐭[i-1])) * (1 + A[i-1])\n",
    "\n"
   ]
  },
  {
   "cell_type": "code",
   "execution_count": 113,
   "metadata": {},
   "outputs": [
    {
     "data": {
      "text/plain": [
       "array([0.        , 0.68049056, 1.63216128, ..., 0.40853749, 1.27387192,\n",
       "       0.19143803])"
      ]
     },
     "execution_count": 113,
     "metadata": {},
     "output_type": "execute_result"
    }
   ],
   "source": [
    "A"
   ]
  },
  {
   "cell_type": "code",
   "execution_count": null,
   "metadata": {},
   "outputs": [],
   "source": [
    "ℓ = -λ*T\n",
    "for i, t_i in enumerate(tiempos):\n",
    "    ℓ += np.log(λ + α * A[i]) - (α/β) * (1 - np.exp(-β*(T-t_i)))"
   ]
  },
  {
   "cell_type": "code",
   "execution_count": 31,
   "metadata": {},
   "outputs": [],
   "source": [
    "ℓ_hist=[]\n",
    "for i in range (0, len(λ_hist)):\n",
    "    ℓ_hist.append(exp_log_likelihood(ts, T, np.array([λ_hist[i] ,α_hist[i] ,β_hist[i]])))"
   ]
  },
  {
   "cell_type": "code",
   "execution_count": 32,
   "metadata": {},
   "outputs": [],
   "source": [
    "df_ℓ_hist=pd.DataFrame(ℓ_hist)\n",
    "df_ℓ_hist.rename(columns = {0:'log_verosimilitud'}, inplace = True)\n",
    "df_λ_hist=pd.DataFrame(λ_hist)\n",
    "df_λ_hist.rename(columns = {0:'lambda'}, inplace = True)\n",
    "df_α_hist=pd.DataFrame(α_hist)\n",
    "df_α_hist.rename(columns = {0:'alpha'}, inplace = True)\n",
    "df_β_hist=pd.DataFrame(β_hist)\n",
    "df_β_hist.rename(columns = {0:'beta'}, inplace = True)\n",
    "pd_evolution=pd.concat([df_ℓ_hist,df_λ_hist,df_α_hist,df_β_hist], axis=1)"
   ]
  },
  {
   "cell_type": "code",
   "execution_count": 33,
   "metadata": {},
   "outputs": [],
   "source": [
    "pd_evolution.to_csv(\"D:/Hawkes Process/log_likelihood_poisson_simulation2.csv\")"
   ]
  },
  {
   "cell_type": "code",
   "execution_count": null,
   "metadata": {},
   "outputs": [],
   "source": []
  },
  {
   "cell_type": "markdown",
   "metadata": {},
   "source": [
    "# Construcción de la matriz Hessiana"
   ]
  },
  {
   "cell_type": "code",
   "execution_count": 233,
   "metadata": {},
   "outputs": [],
   "source": [
    "lambda_=𝛉[0]\n",
    "alpha=𝛉[1]\n",
    "beta=𝛉[2]"
   ]
  },
  {
   "cell_type": "code",
   "execution_count": 234,
   "metadata": {},
   "outputs": [],
   "source": [
    "#Las Entradas de la matriz\n",
    "a11=d2lambda_lambda(lambda_,data_final_z_i_0[['z_i0']]).to_numpy() \n",
    "a12=0\n",
    "a13=0\n",
    "a21=0\n",
    "a22=d2alpha_alpha(alpha,data_final_z_i_j[['z_ij']]).to_numpy() \n",
    "a23=d2alpha_beta(beta, data_final_z_i_0[['tiempos']]).to_numpy() \n",
    "a31=0\n",
    "a32=d2alpha_beta(beta, data_final_z_i_0[['tiempos']]).to_numpy() \n",
    "a33=d2beta_beta(alpha,beta,data_final_z_i_0[['tiempos']]).to_numpy() "
   ]
  },
  {
   "cell_type": "code",
   "execution_count": 235,
   "metadata": {},
   "outputs": [],
   "source": [
    "data = np.array([\n",
    "        [a11[0], a12, a13],\n",
    "        [a21, a22[0], a23[0]],\n",
    "        [a31,a32[0],a33[0]]])"
   ]
  },
  {
   "cell_type": "code",
   "execution_count": 236,
   "metadata": {},
   "outputs": [
    {
     "data": {
      "text/plain": [
       "array([[  -4.63898514,    0.        ,    0.        ],\n",
       "       [   0.        , -278.25553487,   96.48788317],\n",
       "       [   0.        ,   96.48788317,  -66.9166163 ]])"
      ]
     },
     "execution_count": 236,
     "metadata": {},
     "output_type": "execute_result"
    }
   ],
   "source": [
    "data"
   ]
  },
  {
   "cell_type": "code",
   "execution_count": 38,
   "metadata": {},
   "outputs": [],
   "source": [
    "@njit()\n",
    "def ozaki_recursion(𝐭, 𝛉, n):\n",
    "    \"\"\"\n",
    "    Calculate sum_{j=1}^{i-1} t_j^n * exp(-β * (t_i - t_j)) recursively\n",
    "    \"\"\"\n",
    "    λ, α, β = 𝛉\n",
    "    N_T = len(𝐭)\n",
    "\n",
    "    A_n = np.empty(N_T, dtype=np.float64)\n",
    "    A_n[0] = 0\n",
    "    for i in range(1, N_T):\n",
    "        A_n[i] = np.exp(-β*(𝐭[i] - 𝐭[i-1])) * (𝐭[i-1]**n + A_n[i-1])\n",
    "\n",
    "    return A_n"
   ]
  },
  {
   "cell_type": "code",
   "execution_count": 94,
   "metadata": {},
   "outputs": [],
   "source": [
    "@njit()\n",
    "def hess_exp_log_likelihood(ℋ_T, T, theta):\n",
    "    λ=theta[0]\n",
    "    \n",
    "    α=theta[1]\n",
    "    β = theta[2]\n",
    "\n",
    "    𝐭 = ℋ_T\n",
    "    N_T = len(𝐭)\n",
    "\n",
    "    A = ozaki_recursion(𝐭, theta, 0)\n",
    "    A_1 = ozaki_recursion(𝐭, theta, 1)\n",
    "    A_2 = ozaki_recursion(𝐭, theta, 2)\n",
    "\n",
    "    # B is sum (t_i - t_j) * exp(- ...)\n",
    "    # C is sum (t_i - t_j)**2 * exp(- ...)\n",
    "    B = np.empty(N_T, dtype=np.float64)\n",
    "    C = np.empty(N_T, dtype=np.float64)\n",
    "    B[0] = 0\n",
    "    C[0] = 0\n",
    "\n",
    "    for i in range(1, N_T):\n",
    "        B[i] = 𝐭[i] * A[i] - A_1[i]\n",
    "        C[i] = 𝐭[i]**2 * A[i] - 2*𝐭[i]*A_1[i] + A_2[i]\n",
    "\n",
    "    d2ℓdα2 = 0\n",
    "    d2ℓdαdβ = 0\n",
    "    d2ℓdβ2 = 0\n",
    "\n",
    "    d2ℓdλ2 = 0\n",
    "    d2ℓdαdλ = 0\n",
    "    d2ℓdβdλ = 0\n",
    "\n",
    "    for i, t_i in enumerate(ℋ_T):\n",
    "        d2ℓdα2 += - ( A[i] / (λ + α * A[i]) )**2\n",
    "        d2ℓdαdβ += - ( (1/β) * (T - t_i) * np.exp(-β*(T-t_i)) \\\n",
    "                     + (1/β**2) * (np.exp(-β*(T-t_i))-1) ) \\\n",
    "                   + ( -B[i]/(λ + α * A[i]) + (α * A[i] * B[i]) / (λ + α * A[i])**2 )\n",
    "\n",
    "        d2ℓdβ2 += α * ( (1/β) * (T - t_i)**2 * np.exp(-β*(T-t_i)) + \\\n",
    "                        (2/β**2) * (T - t_i) * np.exp(-β*(T-t_i)) + \\\n",
    "                        (2/β**3) * (np.exp(-β*(T-t_i)) - 1) ) + \\\n",
    "                  ( α*C[i] / (λ + α * A[i]) - (α*B[i] / (λ + α * A[i]))**2 )\n",
    "\n",
    "\n",
    "        d2ℓdλ2 += -1 / (λ + α * A[i])**2\n",
    "        d2ℓdαdλ += -A[i] / (λ + α * A[i])**2\n",
    "        d2ℓdβdλ += α * B[i] / (λ + α * A[i])**2\n",
    "\n",
    "    H = np.empty((3,3), dtype=np.float64)\n",
    "    H[0,0] = d2ℓdλ2\n",
    "    H[1,1] = d2ℓdα2\n",
    "    H[2,2] = d2ℓdβ2\n",
    "    H[0,1] = H[1,0] = d2ℓdαdλ\n",
    "    H[0,2] = H[2,0] = d2ℓdβdλ\n",
    "    H[1,2] = H[2,1] = d2ℓdαdβ\n",
    "    return H"
   ]
  },
  {
   "cell_type": "code",
   "execution_count": 95,
   "metadata": {},
   "outputs": [
    {
     "ename": "TypingError",
     "evalue": "Failed in nopython mode pipeline (step: nopython frontend)\n\u001b[1m\u001b[1mnon-precise type pyobject\u001b[0m\n\u001b[0m\u001b[1mDuring: typing of argument at <ipython-input-38-2d8589ebd0c2> (6)\u001b[0m\n\u001b[1m\nFile \"<ipython-input-38-2d8589ebd0c2>\", line 6:\u001b[0m\n\u001b[1mdef ozaki_recursion(𝐭, 𝛉, n):\n    <source elided>\n    \"\"\"\n\u001b[1m    λ, α, β = 𝛉\n\u001b[0m    \u001b[1m^\u001b[0m\u001b[0m\n\nThis error may have been caused by the following argument(s):\n- argument 0: \u001b[1mcannot determine Numba type of <class 'pandas.core.frame.DataFrame'>\u001b[0m\n\nThis error may have been caused by the following argument(s):\n- argument 0: \u001b[1mcannot determine Numba type of <class 'pandas.core.frame.DataFrame'>\u001b[0m\n",
     "output_type": "error",
     "traceback": [
      "\u001b[1;31m---------------------------------------------------------------------------\u001b[0m",
      "\u001b[1;31mTypingError\u001b[0m                               Traceback (most recent call last)",
      "\u001b[1;32m<ipython-input-95-f1c9390023d4>\u001b[0m in \u001b[0;36m<module>\u001b[1;34m\u001b[0m\n\u001b[0;32m      1\u001b[0m \u001b[0mtheta\u001b[0m\u001b[1;33m=\u001b[0m\u001b[0m𝛉\u001b[0m\u001b[1;33m\u001b[0m\u001b[1;33m\u001b[0m\u001b[0m\n\u001b[1;32m----> 2\u001b[1;33m \u001b[0mhess_exp_log_likelihood\u001b[0m\u001b[1;33m(\u001b[0m\u001b[0mts\u001b[0m\u001b[1;33m,\u001b[0m \u001b[0mT\u001b[0m\u001b[1;33m,\u001b[0m \u001b[0m𝛉\u001b[0m\u001b[1;33m)\u001b[0m\u001b[1;33m\u001b[0m\u001b[1;33m\u001b[0m\u001b[0m\n\u001b[0m\u001b[0;32m      3\u001b[0m \u001b[0m𝛉\u001b[0m\u001b[1;33m[\u001b[0m\u001b[1;36m0\u001b[0m\u001b[1;33m]\u001b[0m\u001b[1;33m\u001b[0m\u001b[1;33m\u001b[0m\u001b[0m\n",
      "\u001b[1;32m<ipython-input-94-85fbd27cff52>\u001b[0m in \u001b[0;36mhess_exp_log_likelihood\u001b[1;34m(H_T, T, theta)\u001b[0m\n\u001b[0;32m      8\u001b[0m     \u001b[0mN_T\u001b[0m \u001b[1;33m=\u001b[0m \u001b[0mlen\u001b[0m\u001b[1;33m(\u001b[0m\u001b[0m𝐭\u001b[0m\u001b[1;33m)\u001b[0m\u001b[1;33m\u001b[0m\u001b[1;33m\u001b[0m\u001b[0m\n\u001b[0;32m      9\u001b[0m \u001b[1;33m\u001b[0m\u001b[0m\n\u001b[1;32m---> 10\u001b[1;33m     \u001b[0mA\u001b[0m \u001b[1;33m=\u001b[0m \u001b[0mozaki_recursion\u001b[0m\u001b[1;33m(\u001b[0m\u001b[0m𝐭\u001b[0m\u001b[1;33m,\u001b[0m \u001b[0mtheta\u001b[0m\u001b[1;33m,\u001b[0m \u001b[1;36m0\u001b[0m\u001b[1;33m)\u001b[0m\u001b[1;33m\u001b[0m\u001b[1;33m\u001b[0m\u001b[0m\n\u001b[0m\u001b[0;32m     11\u001b[0m     \u001b[0mA_1\u001b[0m \u001b[1;33m=\u001b[0m \u001b[0mozaki_recursion\u001b[0m\u001b[1;33m(\u001b[0m\u001b[0m𝐭\u001b[0m\u001b[1;33m,\u001b[0m \u001b[0mtheta\u001b[0m\u001b[1;33m,\u001b[0m \u001b[1;36m1\u001b[0m\u001b[1;33m)\u001b[0m\u001b[1;33m\u001b[0m\u001b[1;33m\u001b[0m\u001b[0m\n\u001b[0;32m     12\u001b[0m     \u001b[0mA_2\u001b[0m \u001b[1;33m=\u001b[0m \u001b[0mozaki_recursion\u001b[0m\u001b[1;33m(\u001b[0m\u001b[0m𝐭\u001b[0m\u001b[1;33m,\u001b[0m \u001b[0mtheta\u001b[0m\u001b[1;33m,\u001b[0m \u001b[1;36m2\u001b[0m\u001b[1;33m)\u001b[0m\u001b[1;33m\u001b[0m\u001b[1;33m\u001b[0m\u001b[0m\n",
      "\u001b[1;32mD:\\CENTRO COVID\\Anaconda\\lib\\site-packages\\numba\\core\\dispatcher.py\u001b[0m in \u001b[0;36m_compile_for_args\u001b[1;34m(self, *args, **kws)\u001b[0m\n\u001b[0;32m    413\u001b[0m                 \u001b[0me\u001b[0m\u001b[1;33m.\u001b[0m\u001b[0mpatch_message\u001b[0m\u001b[1;33m(\u001b[0m\u001b[0mmsg\u001b[0m\u001b[1;33m)\u001b[0m\u001b[1;33m\u001b[0m\u001b[1;33m\u001b[0m\u001b[0m\n\u001b[0;32m    414\u001b[0m \u001b[1;33m\u001b[0m\u001b[0m\n\u001b[1;32m--> 415\u001b[1;33m             \u001b[0merror_rewrite\u001b[0m\u001b[1;33m(\u001b[0m\u001b[0me\u001b[0m\u001b[1;33m,\u001b[0m \u001b[1;34m'typing'\u001b[0m\u001b[1;33m)\u001b[0m\u001b[1;33m\u001b[0m\u001b[1;33m\u001b[0m\u001b[0m\n\u001b[0m\u001b[0;32m    416\u001b[0m         \u001b[1;32mexcept\u001b[0m \u001b[0merrors\u001b[0m\u001b[1;33m.\u001b[0m\u001b[0mUnsupportedError\u001b[0m \u001b[1;32mas\u001b[0m \u001b[0me\u001b[0m\u001b[1;33m:\u001b[0m\u001b[1;33m\u001b[0m\u001b[1;33m\u001b[0m\u001b[0m\n\u001b[0;32m    417\u001b[0m             \u001b[1;31m# Something unsupported is present in the user code, add help info\u001b[0m\u001b[1;33m\u001b[0m\u001b[1;33m\u001b[0m\u001b[1;33m\u001b[0m\u001b[0m\n",
      "\u001b[1;32mD:\\CENTRO COVID\\Anaconda\\lib\\site-packages\\numba\\core\\dispatcher.py\u001b[0m in \u001b[0;36merror_rewrite\u001b[1;34m(e, issue_type)\u001b[0m\n\u001b[0;32m    356\u001b[0m                 \u001b[1;32mraise\u001b[0m \u001b[0me\u001b[0m\u001b[1;33m\u001b[0m\u001b[1;33m\u001b[0m\u001b[0m\n\u001b[0;32m    357\u001b[0m             \u001b[1;32melse\u001b[0m\u001b[1;33m:\u001b[0m\u001b[1;33m\u001b[0m\u001b[1;33m\u001b[0m\u001b[0m\n\u001b[1;32m--> 358\u001b[1;33m                 \u001b[0mreraise\u001b[0m\u001b[1;33m(\u001b[0m\u001b[0mtype\u001b[0m\u001b[1;33m(\u001b[0m\u001b[0me\u001b[0m\u001b[1;33m)\u001b[0m\u001b[1;33m,\u001b[0m \u001b[0me\u001b[0m\u001b[1;33m,\u001b[0m \u001b[1;32mNone\u001b[0m\u001b[1;33m)\u001b[0m\u001b[1;33m\u001b[0m\u001b[1;33m\u001b[0m\u001b[0m\n\u001b[0m\u001b[0;32m    359\u001b[0m \u001b[1;33m\u001b[0m\u001b[0m\n\u001b[0;32m    360\u001b[0m         \u001b[0margtypes\u001b[0m \u001b[1;33m=\u001b[0m \u001b[1;33m[\u001b[0m\u001b[1;33m]\u001b[0m\u001b[1;33m\u001b[0m\u001b[1;33m\u001b[0m\u001b[0m\n",
      "\u001b[1;32mD:\\CENTRO COVID\\Anaconda\\lib\\site-packages\\numba\\core\\utils.py\u001b[0m in \u001b[0;36mreraise\u001b[1;34m(tp, value, tb)\u001b[0m\n\u001b[0;32m     78\u001b[0m         \u001b[0mvalue\u001b[0m \u001b[1;33m=\u001b[0m \u001b[0mtp\u001b[0m\u001b[1;33m(\u001b[0m\u001b[1;33m)\u001b[0m\u001b[1;33m\u001b[0m\u001b[1;33m\u001b[0m\u001b[0m\n\u001b[0;32m     79\u001b[0m     \u001b[1;32mif\u001b[0m \u001b[0mvalue\u001b[0m\u001b[1;33m.\u001b[0m\u001b[0m__traceback__\u001b[0m \u001b[1;32mis\u001b[0m \u001b[1;32mnot\u001b[0m \u001b[0mtb\u001b[0m\u001b[1;33m:\u001b[0m\u001b[1;33m\u001b[0m\u001b[1;33m\u001b[0m\u001b[0m\n\u001b[1;32m---> 80\u001b[1;33m         \u001b[1;32mraise\u001b[0m \u001b[0mvalue\u001b[0m\u001b[1;33m.\u001b[0m\u001b[0mwith_traceback\u001b[0m\u001b[1;33m(\u001b[0m\u001b[0mtb\u001b[0m\u001b[1;33m)\u001b[0m\u001b[1;33m\u001b[0m\u001b[1;33m\u001b[0m\u001b[0m\n\u001b[0m\u001b[0;32m     81\u001b[0m     \u001b[1;32mraise\u001b[0m \u001b[0mvalue\u001b[0m\u001b[1;33m\u001b[0m\u001b[1;33m\u001b[0m\u001b[0m\n\u001b[0;32m     82\u001b[0m \u001b[1;33m\u001b[0m\u001b[0m\n",
      "\u001b[1;31mTypingError\u001b[0m: Failed in nopython mode pipeline (step: nopython frontend)\n\u001b[1m\u001b[1mnon-precise type pyobject\u001b[0m\n\u001b[0m\u001b[1mDuring: typing of argument at <ipython-input-38-2d8589ebd0c2> (6)\u001b[0m\n\u001b[1m\nFile \"<ipython-input-38-2d8589ebd0c2>\", line 6:\u001b[0m\n\u001b[1mdef ozaki_recursion(𝐭, 𝛉, n):\n    <source elided>\n    \"\"\"\n\u001b[1m    λ, α, β = 𝛉\n\u001b[0m    \u001b[1m^\u001b[0m\u001b[0m\n\nThis error may have been caused by the following argument(s):\n- argument 0: \u001b[1mcannot determine Numba type of <class 'pandas.core.frame.DataFrame'>\u001b[0m\n\nThis error may have been caused by the following argument(s):\n- argument 0: \u001b[1mcannot determine Numba type of <class 'pandas.core.frame.DataFrame'>\u001b[0m\n"
     ]
    }
   ],
   "source": [
    "theta=𝛉\n",
    "hess_exp_log_likelihood(ts, T, 𝛉)\n",
    "𝛉[0]"
   ]
  },
  {
   "cell_type": "code",
   "execution_count": 237,
   "metadata": {},
   "outputs": [
    {
     "data": {
      "text/plain": [
       "array([[  -4.63898514,    0.        ,    0.        ],\n",
       "       [   0.        , -278.25553487,   96.48788317],\n",
       "       [   0.        ,   96.48788317,  -66.9166163 ]])"
      ]
     },
     "execution_count": 237,
     "metadata": {},
     "output_type": "execute_result"
    }
   ],
   "source": [
    "data"
   ]
  },
  {
   "cell_type": "code",
   "execution_count": 134,
   "metadata": {},
   "outputs": [
    {
     "data": {
      "text/plain": [
       "1.5653"
      ]
     },
     "execution_count": 134,
     "metadata": {},
     "output_type": "execute_result"
    }
   ],
   "source": [
    "𝛉[0]"
   ]
  },
  {
   "cell_type": "code",
   "execution_count": 194,
   "metadata": {},
   "outputs": [],
   "source": [
    "data=np.matrix(data)"
   ]
  },
  {
   "cell_type": "code",
   "execution_count": 238,
   "metadata": {},
   "outputs": [
    {
     "data": {
      "text/plain": [
       "array([[0.46428912, 0.        , 0.        ],\n",
       "       [0.        , 0.08477972, 0.10180319],\n",
       "       [0.        , 0.10180319, 0.17288085]])"
      ]
     },
     "execution_count": 238,
     "metadata": {},
     "output_type": "execute_result"
    }
   ],
   "source": [
    "#La Matriz de Varianzas y Covarianzas\n",
    "np.sqrt(np.linalg.inv(data)*-1)"
   ]
  },
  {
   "cell_type": "code",
   "execution_count": 239,
   "metadata": {},
   "outputs": [
    {
     "data": {
      "text/plain": [
       "array([[0.21556439, 0.        , 0.        ],\n",
       "       [0.        , 0.0071876 , 0.01036389],\n",
       "       [0.        , 0.01036389, 0.02988779]])"
      ]
     },
     "execution_count": 239,
     "metadata": {},
     "output_type": "execute_result"
    }
   ],
   "source": [
    "np.linalg.inv(data)*-1"
   ]
  },
  {
   "cell_type": "code",
   "execution_count": 240,
   "metadata": {},
   "outputs": [
    {
     "data": {
      "text/plain": [
       "11172"
      ]
     },
     "execution_count": 240,
     "metadata": {},
     "output_type": "execute_result"
    }
   ],
   "source": [
    "len(ts)"
   ]
  },
  {
   "cell_type": "markdown",
   "metadata": {},
   "source": [
    "# Bondad de Ajuste"
   ]
  },
  {
   "cell_type": "code",
   "execution_count": 25,
   "metadata": {},
   "outputs": [],
   "source": [
    "from statsmodels.graphics.gofplots import qqplot\n",
    "import scipy.stats as stats\n",
    "import matplotlib.pyplot as plt"
   ]
  },
  {
   "cell_type": "code",
   "execution_count": 23,
   "metadata": {},
   "outputs": [],
   "source": [
    "𝛉1=np.array([7.21107992,6.328792109,6.711594306])\n",
    "terremotos = pd.read_csv(\"D:/Hawkes Process/Sismo ago-10 oct 2017 todas magnitudes.csv\")\n",
    "\n",
    "#terremotos = pd.read_csv(\"D:/Hawkes Process/Sismos base de datos final sismos mayores a 3.9.csv\")\n",
    "terremotos.index = pd.to_datetime(terremotos.D.astype(str) + \"/\" + terremotos.M.astype(str) + \"/\" + terremotos.A.astype(str) + \" \" + terremotos.Hora, dayfirst=True)"
   ]
  },
  {
   "cell_type": "code",
   "execution_count": 24,
   "metadata": {},
   "outputs": [
    {
     "data": {
      "text/html": [
       "<div>\n",
       "<style scoped>\n",
       "    .dataframe tbody tr th:only-of-type {\n",
       "        vertical-align: middle;\n",
       "    }\n",
       "\n",
       "    .dataframe tbody tr th {\n",
       "        vertical-align: top;\n",
       "    }\n",
       "\n",
       "    .dataframe thead th {\n",
       "        text-align: right;\n",
       "    }\n",
       "</style>\n",
       "<table border=\"1\" class=\"dataframe\">\n",
       "  <thead>\n",
       "    <tr style=\"text-align: right;\">\n",
       "      <th></th>\n",
       "      <th>Fecha</th>\n",
       "      <th>Hora</th>\n",
       "      <th>Magnitud</th>\n",
       "      <th>Latitud</th>\n",
       "      <th>Longitud</th>\n",
       "      <th>Profundidad</th>\n",
       "      <th>Referencia de localizacion</th>\n",
       "      <th>Fecha UTC</th>\n",
       "      <th>Hora UTC</th>\n",
       "      <th>Estatus</th>\n",
       "      <th>M</th>\n",
       "      <th>D</th>\n",
       "      <th>A</th>\n",
       "    </tr>\n",
       "  </thead>\n",
       "  <tbody>\n",
       "    <tr>\n",
       "      <th>2017-08-01 00:03:11</th>\n",
       "      <td>2017-08-01</td>\n",
       "      <td>00:03:11</td>\n",
       "      <td>3.3</td>\n",
       "      <td>18.1278</td>\n",
       "      <td>-103.2190</td>\n",
       "      <td>15.0</td>\n",
       "      <td>72 km al SUR de COALCOMAN, MICH</td>\n",
       "      <td>01/08/2017</td>\n",
       "      <td>05:03:11</td>\n",
       "      <td>revisado</td>\n",
       "      <td>8</td>\n",
       "      <td>1</td>\n",
       "      <td>2017</td>\n",
       "    </tr>\n",
       "    <tr>\n",
       "      <th>2017-08-01 00:26:21</th>\n",
       "      <td>2017-08-01</td>\n",
       "      <td>00:26:21</td>\n",
       "      <td>3.9</td>\n",
       "      <td>14.6192</td>\n",
       "      <td>-93.2925</td>\n",
       "      <td>15.4</td>\n",
       "      <td>101 km al SUROESTE de MAPASTEPEC, CHIS</td>\n",
       "      <td>01/08/2017</td>\n",
       "      <td>05:26:21</td>\n",
       "      <td>revisado</td>\n",
       "      <td>8</td>\n",
       "      <td>1</td>\n",
       "      <td>2017</td>\n",
       "    </tr>\n",
       "    <tr>\n",
       "      <th>2017-08-01 01:31:28</th>\n",
       "      <td>2017-08-01</td>\n",
       "      <td>01:31:28</td>\n",
       "      <td>3.7</td>\n",
       "      <td>16.0733</td>\n",
       "      <td>-97.5217</td>\n",
       "      <td>13.1</td>\n",
       "      <td>12 km al NOROESTE de RIO GRANDE, OAX</td>\n",
       "      <td>01/08/2017</td>\n",
       "      <td>06:31:28</td>\n",
       "      <td>revisado</td>\n",
       "      <td>8</td>\n",
       "      <td>1</td>\n",
       "      <td>2017</td>\n",
       "    </tr>\n",
       "    <tr>\n",
       "      <th>2017-08-01 01:47:13</th>\n",
       "      <td>2017-08-01</td>\n",
       "      <td>01:47:13</td>\n",
       "      <td>3.8</td>\n",
       "      <td>15.5057</td>\n",
       "      <td>-93.3508</td>\n",
       "      <td>90.8</td>\n",
       "      <td>25 km al SUROESTE de PIJIJIAPAN, CHIS</td>\n",
       "      <td>01/08/2017</td>\n",
       "      <td>06:47:13</td>\n",
       "      <td>revisado</td>\n",
       "      <td>8</td>\n",
       "      <td>1</td>\n",
       "      <td>2017</td>\n",
       "    </tr>\n",
       "    <tr>\n",
       "      <th>2017-08-01 02:27:43</th>\n",
       "      <td>2017-08-01</td>\n",
       "      <td>02:27:43</td>\n",
       "      <td>3.8</td>\n",
       "      <td>16.3813</td>\n",
       "      <td>-98.2295</td>\n",
       "      <td>20.0</td>\n",
       "      <td>19 km al OESTE de PINOTEPA NACIONAL, OAX</td>\n",
       "      <td>01/08/2017</td>\n",
       "      <td>07:27:43</td>\n",
       "      <td>revisado</td>\n",
       "      <td>8</td>\n",
       "      <td>1</td>\n",
       "      <td>2017</td>\n",
       "    </tr>\n",
       "    <tr>\n",
       "      <th>...</th>\n",
       "      <td>...</td>\n",
       "      <td>...</td>\n",
       "      <td>...</td>\n",
       "      <td>...</td>\n",
       "      <td>...</td>\n",
       "      <td>...</td>\n",
       "      <td>...</td>\n",
       "      <td>...</td>\n",
       "      <td>...</td>\n",
       "      <td>...</td>\n",
       "      <td>...</td>\n",
       "      <td>...</td>\n",
       "      <td>...</td>\n",
       "    </tr>\n",
       "    <tr>\n",
       "      <th>2017-10-10 23:22:01</th>\n",
       "      <td>2017-10-10</td>\n",
       "      <td>23:22:01</td>\n",
       "      <td>3.6</td>\n",
       "      <td>16.4822</td>\n",
       "      <td>-94.9965</td>\n",
       "      <td>27.2</td>\n",
       "      <td>6 km al NORESTE de JUCHITAN DE ZARAGOZA, OAX</td>\n",
       "      <td>11/10/2017</td>\n",
       "      <td>04:22:01</td>\n",
       "      <td>revisado</td>\n",
       "      <td>10</td>\n",
       "      <td>10</td>\n",
       "      <td>2017</td>\n",
       "    </tr>\n",
       "    <tr>\n",
       "      <th>2017-10-10 23:27:41</th>\n",
       "      <td>2017-10-10</td>\n",
       "      <td>23:27:41</td>\n",
       "      <td>3.9</td>\n",
       "      <td>15.2203</td>\n",
       "      <td>-94.3027</td>\n",
       "      <td>12.7</td>\n",
       "      <td>112 km al SUROESTE de TONALA, CHIS</td>\n",
       "      <td>11/10/2017</td>\n",
       "      <td>04:27:41</td>\n",
       "      <td>revisado</td>\n",
       "      <td>10</td>\n",
       "      <td>10</td>\n",
       "      <td>2017</td>\n",
       "    </tr>\n",
       "    <tr>\n",
       "      <th>2017-10-10 23:39:47</th>\n",
       "      <td>2017-10-10</td>\n",
       "      <td>23:39:47</td>\n",
       "      <td>3.7</td>\n",
       "      <td>16.3737</td>\n",
       "      <td>-95.1383</td>\n",
       "      <td>62.0</td>\n",
       "      <td>11 km al NORESTE de S BLAS ATEMPA, OAX</td>\n",
       "      <td>11/10/2017</td>\n",
       "      <td>04:39:47</td>\n",
       "      <td>revisado</td>\n",
       "      <td>10</td>\n",
       "      <td>10</td>\n",
       "      <td>2017</td>\n",
       "    </tr>\n",
       "    <tr>\n",
       "      <th>2017-10-10 23:44:27</th>\n",
       "      <td>2017-10-10</td>\n",
       "      <td>23:44:27</td>\n",
       "      <td>4.3</td>\n",
       "      <td>15.1285</td>\n",
       "      <td>-94.4115</td>\n",
       "      <td>16.1</td>\n",
       "      <td>127 km al SUROESTE de TONALA, CHIS</td>\n",
       "      <td>11/10/2017</td>\n",
       "      <td>04:44:27</td>\n",
       "      <td>revisado</td>\n",
       "      <td>10</td>\n",
       "      <td>10</td>\n",
       "      <td>2017</td>\n",
       "    </tr>\n",
       "    <tr>\n",
       "      <th>2017-10-10 09:32:01</th>\n",
       "      <td>2017-10-10</td>\n",
       "      <td>09:32:01</td>\n",
       "      <td>3.6</td>\n",
       "      <td>19.3410</td>\n",
       "      <td>-104.5490</td>\n",
       "      <td>65.2</td>\n",
       "      <td>12 km al NORTE de CIHUATLAN, JAL</td>\n",
       "      <td>10/10/2017</td>\n",
       "      <td>14:32:01</td>\n",
       "      <td>revisado</td>\n",
       "      <td>10</td>\n",
       "      <td>10</td>\n",
       "      <td>2017</td>\n",
       "    </tr>\n",
       "  </tbody>\n",
       "</table>\n",
       "<p>8546 rows × 13 columns</p>\n",
       "</div>"
      ],
      "text/plain": [
       "                          Fecha      Hora  Magnitud  Latitud  Longitud  \\\n",
       "2017-08-01 00:03:11  2017-08-01  00:03:11       3.3  18.1278 -103.2190   \n",
       "2017-08-01 00:26:21  2017-08-01  00:26:21       3.9  14.6192  -93.2925   \n",
       "2017-08-01 01:31:28  2017-08-01  01:31:28       3.7  16.0733  -97.5217   \n",
       "2017-08-01 01:47:13  2017-08-01  01:47:13       3.8  15.5057  -93.3508   \n",
       "2017-08-01 02:27:43  2017-08-01  02:27:43       3.8  16.3813  -98.2295   \n",
       "...                         ...       ...       ...      ...       ...   \n",
       "2017-10-10 23:22:01  2017-10-10  23:22:01       3.6  16.4822  -94.9965   \n",
       "2017-10-10 23:27:41  2017-10-10  23:27:41       3.9  15.2203  -94.3027   \n",
       "2017-10-10 23:39:47  2017-10-10  23:39:47       3.7  16.3737  -95.1383   \n",
       "2017-10-10 23:44:27  2017-10-10  23:44:27       4.3  15.1285  -94.4115   \n",
       "2017-10-10 09:32:01  2017-10-10  09:32:01       3.6  19.3410 -104.5490   \n",
       "\n",
       "                     Profundidad  \\\n",
       "2017-08-01 00:03:11         15.0   \n",
       "2017-08-01 00:26:21         15.4   \n",
       "2017-08-01 01:31:28         13.1   \n",
       "2017-08-01 01:47:13         90.8   \n",
       "2017-08-01 02:27:43         20.0   \n",
       "...                          ...   \n",
       "2017-10-10 23:22:01         27.2   \n",
       "2017-10-10 23:27:41         12.7   \n",
       "2017-10-10 23:39:47         62.0   \n",
       "2017-10-10 23:44:27         16.1   \n",
       "2017-10-10 09:32:01         65.2   \n",
       "\n",
       "                                       Referencia de localizacion   Fecha UTC  \\\n",
       "2017-08-01 00:03:11               72 km al SUR de COALCOMAN, MICH  01/08/2017   \n",
       "2017-08-01 00:26:21        101 km al SUROESTE de MAPASTEPEC, CHIS  01/08/2017   \n",
       "2017-08-01 01:31:28          12 km al NOROESTE de RIO GRANDE, OAX  01/08/2017   \n",
       "2017-08-01 01:47:13         25 km al SUROESTE de PIJIJIAPAN, CHIS  01/08/2017   \n",
       "2017-08-01 02:27:43      19 km al OESTE de PINOTEPA NACIONAL, OAX  01/08/2017   \n",
       "...                                                           ...         ...   \n",
       "2017-10-10 23:22:01  6 km al NORESTE de JUCHITAN DE ZARAGOZA, OAX  11/10/2017   \n",
       "2017-10-10 23:27:41            112 km al SUROESTE de TONALA, CHIS  11/10/2017   \n",
       "2017-10-10 23:39:47        11 km al NORESTE de S BLAS ATEMPA, OAX  11/10/2017   \n",
       "2017-10-10 23:44:27            127 km al SUROESTE de TONALA, CHIS  11/10/2017   \n",
       "2017-10-10 09:32:01              12 km al NORTE de CIHUATLAN, JAL  10/10/2017   \n",
       "\n",
       "                     Hora UTC   Estatus   M   D     A  \n",
       "2017-08-01 00:03:11  05:03:11  revisado   8   1  2017  \n",
       "2017-08-01 00:26:21  05:26:21  revisado   8   1  2017  \n",
       "2017-08-01 01:31:28  06:31:28  revisado   8   1  2017  \n",
       "2017-08-01 01:47:13  06:47:13  revisado   8   1  2017  \n",
       "2017-08-01 02:27:43  07:27:43  revisado   8   1  2017  \n",
       "...                       ...       ...  ..  ..   ...  \n",
       "2017-10-10 23:22:01  04:22:01  revisado  10  10  2017  \n",
       "2017-10-10 23:27:41  04:27:41  revisado  10  10  2017  \n",
       "2017-10-10 23:39:47  04:39:47  revisado  10  10  2017  \n",
       "2017-10-10 23:44:27  04:44:27  revisado  10  10  2017  \n",
       "2017-10-10 09:32:01  14:32:01  revisado  10  10  2017  \n",
       "\n",
       "[8546 rows x 13 columns]"
      ]
     },
     "execution_count": 24,
     "metadata": {},
     "output_type": "execute_result"
    }
   ],
   "source": [
    "terremotos"
   ]
  },
  {
   "cell_type": "code",
   "execution_count": 25,
   "metadata": {
    "scrolled": true
   },
   "outputs": [
    {
     "data": {
      "image/png": "[encoded data removed]",
      "text/plain": [
       "<Figure size 432x288 with 1 Axes>"
      ]
     },
     "metadata": {
      "needs_background": "light"
     },
     "output_type": "display_data"
    }
   ],
   "source": [
    "terremotos.sort_index(inplace=True)\n",
    "\n",
    "# Calculate each arrival as a (fractional) number of days since the\n",
    "# beginning of the observation period\n",
    "tiempo_inter_terremoto = terremotos.index - pd.Timestamp(\"08/01/2017\")\n",
    "ts = np.array(tiempo_inter_terremoto.total_seconds() / 60 / 60 / 24)\n",
    "\n",
    "# Calculate the length of the observation period\n",
    "T = pd.Timestamp(\"10/11/2017\")- pd.Timestamp(\"08/01/2017\")\n",
    "tsShifted = hb.exp_hawkes_compensators(ts, 𝛉1)\n",
    "iat = np.diff(np.insert(tsShifted, 0, 0))\n",
    "qqplot(iat, dist=stats.expon, fit=False, line=\"45\")\n",
    "plt.show()"
   ]
  },
  {
   "cell_type": "code",
   "execution_count": 26,
   "metadata": {},
   "outputs": [
    {
     "data": {
      "text/plain": [
       "<AxesSubplot:xlabel='F_k', ylabel='F_k+1'>"
      ]
     },
     "execution_count": 26,
     "metadata": {},
     "output_type": "execute_result"
    },
    {
     "data": {
      "image/png": "[encoded data removed]",
      "text/plain": [
       "<Figure size 432x288 with 1 Axes>"
      ]
     },
     "metadata": {
      "needs_background": "light"
     },
     "output_type": "display_data"
    }
   ],
   "source": [
    "a=pd.DataFrame(((1-np.exp(-iat))))\n",
    "a.rename(columns = {0:'F_k+1'}, inplace = True)\n",
    "b=pd.DataFrame(((1-np.exp(-iat))[0:5000-1]))\n",
    "b.rename(columns = {0:'F_k'}, inplace = True)\n",
    "df=pd.concat([a,b],axis=1)\n",
    "df.plot.scatter(x='F_k',\n",
    "                      y='F_k+1',\n",
    "                      c='DarkBlue')"
   ]
  },
  {
   "cell_type": "code",
   "execution_count": 27,
   "metadata": {},
   "outputs": [],
   "source": [
    "a.to_csv(\"D:/Hawkes Process/Interarrival 2017.csv\", index = None)\n"
   ]
  },
  {
   "cell_type": "code",
   "execution_count": 33,
   "metadata": {},
   "outputs": [
    {
     "data": {
      "text/html": [
       "<div>\n",
       "<style scoped>\n",
       "    .dataframe tbody tr th:only-of-type {\n",
       "        vertical-align: middle;\n",
       "    }\n",
       "\n",
       "    .dataframe tbody tr th {\n",
       "        vertical-align: top;\n",
       "    }\n",
       "\n",
       "    .dataframe thead th {\n",
       "        text-align: right;\n",
       "    }\n",
       "</style>\n",
       "<table border=\"1\" class=\"dataframe\">\n",
       "  <thead>\n",
       "    <tr style=\"text-align: right;\">\n",
       "      <th></th>\n",
       "      <th>F_k+1</th>\n",
       "    </tr>\n",
       "  </thead>\n",
       "  <tbody>\n",
       "    <tr>\n",
       "      <th>0</th>\n",
       "      <td>0.999851</td>\n",
       "    </tr>\n",
       "    <tr>\n",
       "      <th>1</th>\n",
       "      <td>0.999995</td>\n",
       "    </tr>\n",
       "    <tr>\n",
       "      <th>2</th>\n",
       "      <td>1.000000</td>\n",
       "    </tr>\n",
       "    <tr>\n",
       "      <th>3</th>\n",
       "      <td>0.999826</td>\n",
       "    </tr>\n",
       "    <tr>\n",
       "      <th>4</th>\n",
       "      <td>0.954225</td>\n",
       "    </tr>\n",
       "    <tr>\n",
       "      <th>...</th>\n",
       "      <td>...</td>\n",
       "    </tr>\n",
       "    <tr>\n",
       "      <th>16490</th>\n",
       "      <td>0.999988</td>\n",
       "    </tr>\n",
       "    <tr>\n",
       "      <th>16491</th>\n",
       "      <td>1.000000</td>\n",
       "    </tr>\n",
       "    <tr>\n",
       "      <th>16492</th>\n",
       "      <td>0.995568</td>\n",
       "    </tr>\n",
       "    <tr>\n",
       "      <th>16493</th>\n",
       "      <td>0.999999</td>\n",
       "    </tr>\n",
       "    <tr>\n",
       "      <th>16494</th>\n",
       "      <td>0.781532</td>\n",
       "    </tr>\n",
       "  </tbody>\n",
       "</table>\n",
       "<p>16495 rows × 1 columns</p>\n",
       "</div>"
      ],
      "text/plain": [
       "          F_k+1\n",
       "0      0.999851\n",
       "1      0.999995\n",
       "2      1.000000\n",
       "3      0.999826\n",
       "4      0.954225\n",
       "...         ...\n",
       "16490  0.999988\n",
       "16491  1.000000\n",
       "16492  0.995568\n",
       "16493  0.999999\n",
       "16494  0.781532\n",
       "\n",
       "[16495 rows x 1 columns]"
      ]
     },
     "execution_count": 33,
     "metadata": {},
     "output_type": "execute_result"
    }
   ],
   "source": [
    "a"
   ]
  },
  {
   "cell_type": "code",
   "execution_count": null,
   "metadata": {},
   "outputs": [],
   "source": []
  },
  {
   "cell_type": "markdown",
   "metadata": {},
   "source": [
    "# Test pruebas de ajuste\n"
   ]
  },
  {
   "cell_type": "code",
   "execution_count": 4,
   "metadata": {},
   "outputs": [],
   "source": [
    "def poisson_compensator (ts, lambda_):\n",
    "    lambda_tot=[]\n",
    "    for x in range(0,len(ts)):\n",
    "        lambda_tot.append(lambda_*ts[x])\n",
    "    return lambda_tot\n"
   ]
  },
  {
   "cell_type": "code",
   "execution_count": 11,
   "metadata": {},
   "outputs": [],
   "source": [
    "#terremotos = pd.read_csv(\"D:/Hawkes Process/Sismo ago-10 oct 2017 todas magnitudes.csv\")\n",
    "#terremotos = pd.read_csv(\"D:/Hawkes Process/Base de datos Sismos 2020 2 S.csv\")\n",
    "terremotos = pd.read_csv(\"D:/Hawkes Process/Sismo ago-15 may 2023 magnitudes m o igual 4.csv\")\n",
    "terremotos.index = pd.to_datetime(terremotos.D.astype(str) + \"/\" + terremotos.M.astype(str) + \"/\" + terremotos.A.astype(str) + \" \" + terremotos.Hora, dayfirst=True)"
   ]
  },
  {
   "cell_type": "code",
   "execution_count": 12,
   "metadata": {},
   "outputs": [
    {
     "data": {
      "text/html": [
       "<div>\n",
       "<style scoped>\n",
       "    .dataframe tbody tr th:only-of-type {\n",
       "        vertical-align: middle;\n",
       "    }\n",
       "\n",
       "    .dataframe tbody tr th {\n",
       "        vertical-align: top;\n",
       "    }\n",
       "\n",
       "    .dataframe thead th {\n",
       "        text-align: right;\n",
       "    }\n",
       "</style>\n",
       "<table border=\"1\" class=\"dataframe\">\n",
       "  <thead>\n",
       "    <tr style=\"text-align: right;\">\n",
       "      <th></th>\n",
       "      <th>Fecha</th>\n",
       "      <th>Hora</th>\n",
       "      <th>Magnitud</th>\n",
       "      <th>Latitud</th>\n",
       "      <th>Longitud</th>\n",
       "      <th>Profundidad</th>\n",
       "      <th>Referencia de localizacion</th>\n",
       "      <th>Fecha UTC</th>\n",
       "      <th>Hora UTC</th>\n",
       "      <th>Estatus</th>\n",
       "      <th>M</th>\n",
       "      <th>D</th>\n",
       "      <th>A</th>\n",
       "      <th>Estado</th>\n",
       "      <th>Unnamed: 14</th>\n",
       "      <th>Unnamed: 15</th>\n",
       "    </tr>\n",
       "  </thead>\n",
       "  <tbody>\n",
       "    <tr>\n",
       "      <th>2017-08-01 05:19:48</th>\n",
       "      <td>2017-08-01</td>\n",
       "      <td>05:19:48</td>\n",
       "      <td>4.0</td>\n",
       "      <td>16.3550</td>\n",
       "      <td>-98.2318</td>\n",
       "      <td>14.0</td>\n",
       "      <td>19 km al OESTE de PINOTEPA NACIONAL, OAX</td>\n",
       "      <td>01/08/2017</td>\n",
       "      <td>10:19:48</td>\n",
       "      <td>revisado</td>\n",
       "      <td>8</td>\n",
       "      <td>1</td>\n",
       "      <td>2017</td>\n",
       "      <td>OAX</td>\n",
       "      <td>36.0</td>\n",
       "      <td>40.0</td>\n",
       "    </tr>\n",
       "    <tr>\n",
       "      <th>2017-08-01 12:29:03</th>\n",
       "      <td>2017-08-01</td>\n",
       "      <td>12:29:03</td>\n",
       "      <td>4.0</td>\n",
       "      <td>17.9332</td>\n",
       "      <td>-100.4660</td>\n",
       "      <td>51.0</td>\n",
       "      <td>46 km al SUROESTE de ARCELIA, GRO</td>\n",
       "      <td>01/08/2017</td>\n",
       "      <td>17:29:03</td>\n",
       "      <td>revisado</td>\n",
       "      <td>8</td>\n",
       "      <td>1</td>\n",
       "      <td>2017</td>\n",
       "      <td>GRO</td>\n",
       "      <td>NaN</td>\n",
       "      <td>NaN</td>\n",
       "    </tr>\n",
       "    <tr>\n",
       "      <th>2017-08-02 06:25:48</th>\n",
       "      <td>2017-08-02</td>\n",
       "      <td>06:25:48</td>\n",
       "      <td>4.0</td>\n",
       "      <td>19.4290</td>\n",
       "      <td>-105.5840</td>\n",
       "      <td>15.6</td>\n",
       "      <td>109 km al OESTE de CIHUATLAN, JAL</td>\n",
       "      <td>02/08/2017</td>\n",
       "      <td>11:25:48</td>\n",
       "      <td>revisado</td>\n",
       "      <td>8</td>\n",
       "      <td>2</td>\n",
       "      <td>2017</td>\n",
       "      <td>JAL</td>\n",
       "      <td>NaN</td>\n",
       "      <td>NaN</td>\n",
       "    </tr>\n",
       "    <tr>\n",
       "      <th>2017-08-02 11:28:44</th>\n",
       "      <td>2017-08-02</td>\n",
       "      <td>11:28:44</td>\n",
       "      <td>4.2</td>\n",
       "      <td>16.2737</td>\n",
       "      <td>-98.0757</td>\n",
       "      <td>13.4</td>\n",
       "      <td>8 km al SUROESTE de PINOTEPA NACIONAL, OAX</td>\n",
       "      <td>02/08/2017</td>\n",
       "      <td>16:28:44</td>\n",
       "      <td>revisado</td>\n",
       "      <td>8</td>\n",
       "      <td>2</td>\n",
       "      <td>2017</td>\n",
       "      <td>OAX</td>\n",
       "      <td>NaN</td>\n",
       "      <td>NaN</td>\n",
       "    </tr>\n",
       "    <tr>\n",
       "      <th>2017-08-02 13:13:10</th>\n",
       "      <td>2017-08-02</td>\n",
       "      <td>13:13:10</td>\n",
       "      <td>4.1</td>\n",
       "      <td>18.2557</td>\n",
       "      <td>-100.8980</td>\n",
       "      <td>57.6</td>\n",
       "      <td>27 km al SUROESTE de CD ALTAMIRANO, GRO</td>\n",
       "      <td>02/08/2017</td>\n",
       "      <td>18:13:10</td>\n",
       "      <td>revisado</td>\n",
       "      <td>8</td>\n",
       "      <td>2</td>\n",
       "      <td>2017</td>\n",
       "      <td>GRO</td>\n",
       "      <td>NaN</td>\n",
       "      <td>NaN</td>\n",
       "    </tr>\n",
       "    <tr>\n",
       "      <th>...</th>\n",
       "      <td>...</td>\n",
       "      <td>...</td>\n",
       "      <td>...</td>\n",
       "      <td>...</td>\n",
       "      <td>...</td>\n",
       "      <td>...</td>\n",
       "      <td>...</td>\n",
       "      <td>...</td>\n",
       "      <td>...</td>\n",
       "      <td>...</td>\n",
       "      <td>...</td>\n",
       "      <td>...</td>\n",
       "      <td>...</td>\n",
       "      <td>...</td>\n",
       "      <td>...</td>\n",
       "      <td>...</td>\n",
       "    </tr>\n",
       "    <tr>\n",
       "      <th>2023-05-13 08:04:50</th>\n",
       "      <td>2023-05-13</td>\n",
       "      <td>08:04:50</td>\n",
       "      <td>4.0</td>\n",
       "      <td>18.2200</td>\n",
       "      <td>-103.4600</td>\n",
       "      <td>15.0</td>\n",
       "      <td>69 km al SUROESTE de COALCOMAN, MICH</td>\n",
       "      <td>13/05/2023</td>\n",
       "      <td>14:04:50</td>\n",
       "      <td>verificado</td>\n",
       "      <td>5</td>\n",
       "      <td>13</td>\n",
       "      <td>2023</td>\n",
       "      <td>MICH</td>\n",
       "      <td>NaN</td>\n",
       "      <td>NaN</td>\n",
       "    </tr>\n",
       "    <tr>\n",
       "      <th>2023-05-14 07:17:09</th>\n",
       "      <td>2023-05-14</td>\n",
       "      <td>07:17:09</td>\n",
       "      <td>4.1</td>\n",
       "      <td>17.1900</td>\n",
       "      <td>-94.0300</td>\n",
       "      <td>169.3</td>\n",
       "      <td>64 km al NOROESTE de CINTALAPA, CHIS</td>\n",
       "      <td>14/05/2023</td>\n",
       "      <td>13:17:09</td>\n",
       "      <td>verificado</td>\n",
       "      <td>5</td>\n",
       "      <td>14</td>\n",
       "      <td>2023</td>\n",
       "      <td>CHIS</td>\n",
       "      <td>NaN</td>\n",
       "      <td>NaN</td>\n",
       "    </tr>\n",
       "    <tr>\n",
       "      <th>2023-05-14 10:24:24</th>\n",
       "      <td>2023-05-14</td>\n",
       "      <td>10:24:24</td>\n",
       "      <td>4.1</td>\n",
       "      <td>14.0200</td>\n",
       "      <td>-92.7100</td>\n",
       "      <td>12.9</td>\n",
       "      <td>94 km al SUROESTE de CD HIDALGO, CHIS</td>\n",
       "      <td>14/05/2023</td>\n",
       "      <td>16:24:24</td>\n",
       "      <td>verificado</td>\n",
       "      <td>5</td>\n",
       "      <td>14</td>\n",
       "      <td>2023</td>\n",
       "      <td>CHIS</td>\n",
       "      <td>NaN</td>\n",
       "      <td>NaN</td>\n",
       "    </tr>\n",
       "    <tr>\n",
       "      <th>2023-05-14 18:54:48</th>\n",
       "      <td>2023-05-14</td>\n",
       "      <td>18:54:48</td>\n",
       "      <td>4.3</td>\n",
       "      <td>14.5900</td>\n",
       "      <td>-93.2100</td>\n",
       "      <td>17.2</td>\n",
       "      <td>100 km al SUROESTE de MAPASTEPEC, CHIS</td>\n",
       "      <td>15/05/2023</td>\n",
       "      <td>00:54:48</td>\n",
       "      <td>verificado</td>\n",
       "      <td>5</td>\n",
       "      <td>14</td>\n",
       "      <td>2023</td>\n",
       "      <td>CHIS</td>\n",
       "      <td>NaN</td>\n",
       "      <td>NaN</td>\n",
       "    </tr>\n",
       "    <tr>\n",
       "      <th>2023-05-14 19:45:55</th>\n",
       "      <td>2023-05-14</td>\n",
       "      <td>19:45:55</td>\n",
       "      <td>4.0</td>\n",
       "      <td>15.9800</td>\n",
       "      <td>-96.5200</td>\n",
       "      <td>52.6</td>\n",
       "      <td>27 km al NORTE de S PEDRO POCHUTLA, OAX</td>\n",
       "      <td>15/05/2023</td>\n",
       "      <td>01:45:55</td>\n",
       "      <td>verificado</td>\n",
       "      <td>5</td>\n",
       "      <td>14</td>\n",
       "      <td>2023</td>\n",
       "      <td>OAX</td>\n",
       "      <td>NaN</td>\n",
       "      <td>NaN</td>\n",
       "    </tr>\n",
       "  </tbody>\n",
       "</table>\n",
       "<p>16495 rows × 16 columns</p>\n",
       "</div>"
      ],
      "text/plain": [
       "                          Fecha      Hora  Magnitud  Latitud  Longitud  \\\n",
       "2017-08-01 05:19:48  2017-08-01  05:19:48       4.0  16.3550  -98.2318   \n",
       "2017-08-01 12:29:03  2017-08-01  12:29:03       4.0  17.9332 -100.4660   \n",
       "2017-08-02 06:25:48  2017-08-02  06:25:48       4.0  19.4290 -105.5840   \n",
       "2017-08-02 11:28:44  2017-08-02  11:28:44       4.2  16.2737  -98.0757   \n",
       "2017-08-02 13:13:10  2017-08-02  13:13:10       4.1  18.2557 -100.8980   \n",
       "...                         ...       ...       ...      ...       ...   \n",
       "2023-05-13 08:04:50  2023-05-13  08:04:50       4.0  18.2200 -103.4600   \n",
       "2023-05-14 07:17:09  2023-05-14  07:17:09       4.1  17.1900  -94.0300   \n",
       "2023-05-14 10:24:24  2023-05-14  10:24:24       4.1  14.0200  -92.7100   \n",
       "2023-05-14 18:54:48  2023-05-14  18:54:48       4.3  14.5900  -93.2100   \n",
       "2023-05-14 19:45:55  2023-05-14  19:45:55       4.0  15.9800  -96.5200   \n",
       "\n",
       "                     Profundidad                  Referencia de localizacion  \\\n",
       "2017-08-01 05:19:48         14.0    19 km al OESTE de PINOTEPA NACIONAL, OAX   \n",
       "2017-08-01 12:29:03         51.0           46 km al SUROESTE de ARCELIA, GRO   \n",
       "2017-08-02 06:25:48         15.6           109 km al OESTE de CIHUATLAN, JAL   \n",
       "2017-08-02 11:28:44         13.4  8 km al SUROESTE de PINOTEPA NACIONAL, OAX   \n",
       "2017-08-02 13:13:10         57.6     27 km al SUROESTE de CD ALTAMIRANO, GRO   \n",
       "...                          ...                                         ...   \n",
       "2023-05-13 08:04:50         15.0       69 km al SUROESTE de COALCOMAN, MICH    \n",
       "2023-05-14 07:17:09        169.3       64 km al NOROESTE de CINTALAPA, CHIS    \n",
       "2023-05-14 10:24:24         12.9      94 km al SUROESTE de CD HIDALGO, CHIS    \n",
       "2023-05-14 18:54:48         17.2     100 km al SUROESTE de MAPASTEPEC, CHIS    \n",
       "2023-05-14 19:45:55         52.6    27 km al NORTE de S PEDRO POCHUTLA, OAX    \n",
       "\n",
       "                      Fecha UTC  Hora UTC     Estatus  M   D     A Estado  \\\n",
       "2017-08-01 05:19:48  01/08/2017  10:19:48    revisado  8   1  2017    OAX   \n",
       "2017-08-01 12:29:03  01/08/2017  17:29:03    revisado  8   1  2017    GRO   \n",
       "2017-08-02 06:25:48  02/08/2017  11:25:48    revisado  8   2  2017    JAL   \n",
       "2017-08-02 11:28:44  02/08/2017  16:28:44    revisado  8   2  2017    OAX   \n",
       "2017-08-02 13:13:10  02/08/2017  18:13:10    revisado  8   2  2017    GRO   \n",
       "...                         ...       ...         ... ..  ..   ...    ...   \n",
       "2023-05-13 08:04:50  13/05/2023  14:04:50  verificado  5  13  2023  MICH    \n",
       "2023-05-14 07:17:09  14/05/2023  13:17:09  verificado  5  14  2023  CHIS    \n",
       "2023-05-14 10:24:24  14/05/2023  16:24:24  verificado  5  14  2023  CHIS    \n",
       "2023-05-14 18:54:48  15/05/2023  00:54:48  verificado  5  14  2023  CHIS    \n",
       "2023-05-14 19:45:55  15/05/2023  01:45:55  verificado  5  14  2023   OAX    \n",
       "\n",
       "                     Unnamed: 14  Unnamed: 15  \n",
       "2017-08-01 05:19:48         36.0         40.0  \n",
       "2017-08-01 12:29:03          NaN          NaN  \n",
       "2017-08-02 06:25:48          NaN          NaN  \n",
       "2017-08-02 11:28:44          NaN          NaN  \n",
       "2017-08-02 13:13:10          NaN          NaN  \n",
       "...                          ...          ...  \n",
       "2023-05-13 08:04:50          NaN          NaN  \n",
       "2023-05-14 07:17:09          NaN          NaN  \n",
       "2023-05-14 10:24:24          NaN          NaN  \n",
       "2023-05-14 18:54:48          NaN          NaN  \n",
       "2023-05-14 19:45:55          NaN          NaN  \n",
       "\n",
       "[16495 rows x 16 columns]"
      ]
     },
     "execution_count": 12,
     "metadata": {},
     "output_type": "execute_result"
    }
   ],
   "source": [
    "terremotos.sort_index(inplace=True)\n",
    "terremotos"
   ]
  },
  {
   "cell_type": "code",
   "execution_count": 13,
   "metadata": {},
   "outputs": [],
   "source": [
    "terremotos.sort_index(inplace=True)\n",
    "\n",
    "# Calculate each arrival as a (fractional) number of days since the\n",
    "# beginning of the observation period\n",
    "tiempo_inter_terremoto = terremotos.index - pd.Timestamp(\"8/01/2017\")\n",
    "ts = np.array(tiempo_inter_terremoto.total_seconds() / 60 / 60 / 24)\n",
    "\n",
    "# Calculate the length of the observation period\n",
    "T = pd.Timestamp(\"5/15/2023\")- pd.Timestamp(\"8/01/2017\")"
   ]
  },
  {
   "cell_type": "code",
   "execution_count": 14,
   "metadata": {},
   "outputs": [
    {
     "data": {
      "image/png": "[encoded data removed]",
      "text/plain": [
       "<Figure size 432x288 with 1 Axes>"
      ]
     },
     "metadata": {
      "needs_background": "light"
     },
     "output_type": "display_data"
    }
   ],
   "source": [
    "ts = np.array(tiempo_inter_terremoto.total_seconds() / 60 / 60 / 24)\n",
    "iat = np.diff(np.insert(ts, 0, 0))\n",
    "\n",
    "a=1/sum(iat)*len(ts)\n",
    "tsShifted = poisson_compensator(ts, a)\n",
    "iat = np.diff(np.insert(tsShifted, 0, 0))\n",
    "qqplot(iat, dist=stats.expon, fit=False, line=\"45\")\n",
    "plt.show()"
   ]
  },
  {
   "cell_type": "code",
   "execution_count": 46,
   "metadata": {},
   "outputs": [
    {
     "data": {
      "text/plain": [
       "2113"
      ]
     },
     "execution_count": 46,
     "metadata": {},
     "output_type": "execute_result"
    }
   ],
   "source": [
    "T.days"
   ]
  },
  {
   "cell_type": "code",
   "execution_count": 47,
   "metadata": {},
   "outputs": [
    {
     "data": {
      "text/plain": [
       "17401.37653942171"
      ]
     },
     "execution_count": 47,
     "metadata": {},
     "output_type": "execute_result"
    }
   ],
   "source": [
    "np.log(a)*len(ts)-a*T.days"
   ]
  },
  {
   "cell_type": "code",
   "execution_count": 38,
   "metadata": {},
   "outputs": [
    {
     "data": {
      "text/plain": [
       "60.717463870761215"
      ]
     },
     "execution_count": 38,
     "metadata": {},
     "output_type": "execute_result"
    }
   ],
   "source": [
    "a"
   ]
  },
  {
   "cell_type": "code",
   "execution_count": 120,
   "metadata": {},
   "outputs": [
    {
     "data": {
      "text/plain": [
       "<AxesSubplot:xlabel='F_k', ylabel='F_k+1'>"
      ]
     },
     "execution_count": 120,
     "metadata": {},
     "output_type": "execute_result"
    },
    {
     "data": {
      "image/png": "[encoded data removed]",
      "text/plain": [
       "<Figure size 432x288 with 1 Axes>"
      ]
     },
     "metadata": {
      "needs_background": "light"
     },
     "output_type": "display_data"
    }
   ],
   "source": [
    "a=pd.DataFrame(((1-np.exp(-iat))[1:5000]))\n",
    "a.rename(columns = {0:'F_k+1'}, inplace = True)\n",
    "b=pd.DataFrame(((1-np.exp(-iat))[0:5000-1]))\n",
    "b.rename(columns = {0:'F_k'}, inplace = True)\n",
    "df=pd.concat([a,b],axis=1)\n",
    "df.plot.scatter(x='F_k',\n",
    "                      y='F_k+1',\n",
    "                      c='DarkBlue')"
   ]
  },
  {
   "cell_type": "code",
   "execution_count": 100,
   "metadata": {},
   "outputs": [
    {
     "data": {
      "text/html": [
       "<div>\n",
       "<style scoped>\n",
       "    .dataframe tbody tr th:only-of-type {\n",
       "        vertical-align: middle;\n",
       "    }\n",
       "\n",
       "    .dataframe tbody tr th {\n",
       "        vertical-align: top;\n",
       "    }\n",
       "\n",
       "    .dataframe thead th {\n",
       "        text-align: right;\n",
       "    }\n",
       "</style>\n",
       "<table border=\"1\" class=\"dataframe\">\n",
       "  <thead>\n",
       "    <tr style=\"text-align: right;\">\n",
       "      <th></th>\n",
       "      <th>F_k+1</th>\n",
       "      <th>F_k</th>\n",
       "    </tr>\n",
       "  </thead>\n",
       "  <tbody>\n",
       "    <tr>\n",
       "      <th>0</th>\n",
       "      <td>0.587333</td>\n",
       "      <td>0.481086</td>\n",
       "    </tr>\n",
       "    <tr>\n",
       "      <th>1</th>\n",
       "      <td>0.115937</td>\n",
       "      <td>0.587333</td>\n",
       "    </tr>\n",
       "    <tr>\n",
       "      <th>2</th>\n",
       "      <td>0.199519</td>\n",
       "      <td>0.115937</td>\n",
       "    </tr>\n",
       "    <tr>\n",
       "      <th>3</th>\n",
       "      <td>0.405450</td>\n",
       "      <td>0.199519</td>\n",
       "    </tr>\n",
       "    <tr>\n",
       "      <th>4</th>\n",
       "      <td>0.383709</td>\n",
       "      <td>0.405450</td>\n",
       "    </tr>\n",
       "    <tr>\n",
       "      <th>...</th>\n",
       "      <td>...</td>\n",
       "      <td>...</td>\n",
       "    </tr>\n",
       "    <tr>\n",
       "      <th>1994</th>\n",
       "      <td>0.220249</td>\n",
       "      <td>0.262383</td>\n",
       "    </tr>\n",
       "    <tr>\n",
       "      <th>1995</th>\n",
       "      <td>0.094946</td>\n",
       "      <td>0.220249</td>\n",
       "    </tr>\n",
       "    <tr>\n",
       "      <th>1996</th>\n",
       "      <td>0.367245</td>\n",
       "      <td>0.094946</td>\n",
       "    </tr>\n",
       "    <tr>\n",
       "      <th>1997</th>\n",
       "      <td>0.171872</td>\n",
       "      <td>0.367245</td>\n",
       "    </tr>\n",
       "    <tr>\n",
       "      <th>1998</th>\n",
       "      <td>0.459513</td>\n",
       "      <td>0.171872</td>\n",
       "    </tr>\n",
       "  </tbody>\n",
       "</table>\n",
       "<p>1999 rows × 2 columns</p>\n",
       "</div>"
      ],
      "text/plain": [
       "         F_k+1       F_k\n",
       "0     0.587333  0.481086\n",
       "1     0.115937  0.587333\n",
       "2     0.199519  0.115937\n",
       "3     0.405450  0.199519\n",
       "4     0.383709  0.405450\n",
       "...        ...       ...\n",
       "1994  0.220249  0.262383\n",
       "1995  0.094946  0.220249\n",
       "1996  0.367245  0.094946\n",
       "1997  0.171872  0.367245\n",
       "1998  0.459513  0.171872\n",
       "\n",
       "[1999 rows x 2 columns]"
      ]
     },
     "execution_count": 100,
     "metadata": {},
     "output_type": "execute_result"
    }
   ],
   "source": [
    "df"
   ]
  },
  {
   "cell_type": "code",
   "execution_count": 101,
   "metadata": {},
   "outputs": [
    {
     "data": {
      "text/plain": [
       "<AxesSubplot:xlabel='F_k', ylabel='F_k+1'>"
      ]
     },
     "execution_count": 101,
     "metadata": {},
     "output_type": "execute_result"
    },
    {
     "data": {
      "image/png": "[encoded data removed]",
      "text/plain": [
       "<Figure size 432x288 with 1 Axes>"
      ]
     },
     "metadata": {
      "needs_background": "light"
     },
     "output_type": "display_data"
    }
   ],
   "source": []
  },
  {
   "cell_type": "code",
   "execution_count": 8,
   "metadata": {},
   "outputs": [
    {
     "data": {
      "text/plain": [
       "array([6.56016433e-01, 1.54113110e+00, 1.66435791e+00, ...,\n",
       "       1.11708128e+04, 1.11708255e+04, 1.11719999e+04])"
      ]
     },
     "execution_count": 8,
     "metadata": {},
     "output_type": "execute_result"
    }
   ],
   "source": [
    "tsShifted"
   ]
  },
  {
   "cell_type": "code",
   "execution_count": 11,
   "metadata": {},
   "outputs": [
    {
     "data": {
      "text/plain": [
       "array([1.65393519e-02, 3.71180556e-02, 3.97800926e-02, ...,\n",
       "       1.83981620e+02, 1.83981817e+02, 1.83999780e+02])"
      ]
     },
     "execution_count": 11,
     "metadata": {},
     "output_type": "execute_result"
    }
   ],
   "source": [
    "ts"
   ]
  },
  {
   "cell_type": "markdown",
   "metadata": {},
   "source": [
    "# Test Poisson Homogeneo"
   ]
  },
  {
   "cell_type": "code",
   "execution_count": 416,
   "metadata": {},
   "outputs": [],
   "source": [
    "𝛉2=np.array([7.21109496,6.328806147,6.711610368])\n",
    "terremotos = pd.read_csv(\"D:/Hawkes Process/Sismo ago-10 oct 2017 todas magnitudes.csv\")\n",
    "\n",
    "#terremotos = pd.read_csv(\"D:/Hawkes Process/Sismos base de datos final sismos mayores a 3.9.csv\")\n",
    "terremotos.index = pd.to_datetime(terremotos.D.astype(str) + \"/\" + terremotos.M.astype(str) + \"/\" + terremotos.A.astype(str) + \" \" + terremotos.Hora, dayfirst=True)"
   ]
  },
  {
   "cell_type": "code",
   "execution_count": 417,
   "metadata": {},
   "outputs": [],
   "source": [
    "terremotos.sort_index(inplace=True)\n",
    "\n",
    "# Calculate each arrival as a (fractional) number of days since the\n",
    "# beginning of the observation period\n",
    "tiempo_inter_terremoto = terremotos.index - pd.Timestamp(\"8/01/2017\")\n",
    "ts = np.array(tiempo_inter_terremoto.total_seconds() / 60 / 60 / 24)\n",
    "\n",
    "# Calculate the length of the observation period\n",
    "T = pd.Timestamp(\"10/10/2017\")- pd.Timestamp(\"8/01/2017\")"
   ]
  },
  {
   "cell_type": "code",
   "execution_count": 418,
   "metadata": {},
   "outputs": [
    {
     "data": {
      "image/png": "[encoded data removed]",
      "text/plain": [
       "<Figure size 432x288 with 1 Axes>"
      ]
     },
     "metadata": {
      "needs_background": "light"
     },
     "output_type": "display_data"
    }
   ],
   "source": [
    "ts = np.array(tiempo_inter_terremoto.total_seconds() / 60 / 60 / 24)\n",
    "iat = np.diff(np.insert(ts, 0, 0))\n",
    "\n",
    "a=1/sum(iat)*len(ts)\n",
    "# Calculate the length of the observation period\n",
    "T = pd.Timestamp(\"10/10/2017\")- pd.Timestamp(\"08/01/2017\")\n",
    "tsShifted = poisson_compensator(ts, a)\n",
    "iat = np.diff(np.insert(tsShifted, 0, 0))\n",
    "qqplot(iat, dist=stats.expon, fit=False, line=\"45\")\n",
    "plt.show()"
   ]
  },
  {
   "cell_type": "code",
   "execution_count": 353,
   "metadata": {},
   "outputs": [
    {
     "data": {
      "text/plain": [
       "28.178891970886752"
      ]
     },
     "execution_count": 353,
     "metadata": {},
     "output_type": "execute_result"
    }
   ],
   "source": [
    "max(iat)"
   ]
  },
  {
   "cell_type": "code",
   "execution_count": 419,
   "metadata": {},
   "outputs": [
    {
     "data": {
      "text/plain": [
       "0    1.0\n",
       "dtype: float64"
      ]
     },
     "execution_count": 419,
     "metadata": {},
     "output_type": "execute_result"
    }
   ],
   "source": [
    "pd.DataFrame(iat).mean()"
   ]
  },
  {
   "cell_type": "code",
   "execution_count": 420,
   "metadata": {},
   "outputs": [],
   "source": [
    "𝛉3=np.array([1.56518564,0.768675691,0.961173259])\n",
    "terremotos = pd.read_csv(\"D:/Hawkes Process/Sismo ago-15 may 2023 magnitudes m o igual 4.csv\")\n",
    "\n",
    "#terremotos = pd.read_csv(\"D:/Hawkes Process/Sismos base de datos final sismos mayores a 3.9.csv\")\n",
    "terremotos.index = pd.to_datetime(terremotos.D.astype(str) + \"/\" + terremotos.M.astype(str) + \"/\" + terremotos.A.astype(str) + \" \" + terremotos.Hora, dayfirst=True)"
   ]
  },
  {
   "cell_type": "code",
   "execution_count": 421,
   "metadata": {},
   "outputs": [
    {
     "data": {
      "image/png": "[encoded data removed]",
      "text/plain": [
       "<Figure size 432x288 with 1 Axes>"
      ]
     },
     "metadata": {
      "needs_background": "light"
     },
     "output_type": "display_data"
    }
   ],
   "source": [
    "terremotos.sort_index(inplace=True)\n",
    "\n",
    "# Calculate each arrival as a (fractional) number of days since the\n",
    "# beginning of the observation period\n",
    "tiempo_inter_terremoto = terremotos.index - pd.Timestamp(\"8/01/2017\")\n",
    "ts = np.array(tiempo_inter_terremoto.total_seconds() / 60 / 60 / 24)\n",
    "iat = np.diff(np.insert(ts, 0, 0))\n",
    "\n",
    "a=1/sum(iat)*len(ts)\n",
    "# Calculate the length of the observation period\n",
    "T = pd.Timestamp(\"5/15/2023\")- pd.Timestamp(\"7/01/2017\")\n",
    "tsShifted = poisson_compensator(ts, a)\n",
    "iat = np.diff(np.insert(tsShifted, 0, 0))\n",
    "qqplot(iat, dist=stats.expon, fit=False, line=\"45\")\n",
    "plt.show()"
   ]
  },
  {
   "cell_type": "code",
   "execution_count": 422,
   "metadata": {},
   "outputs": [
    {
     "data": {
      "text/plain": [
       "0    1.0\n",
       "dtype: float64"
      ]
     },
     "execution_count": 422,
     "metadata": {},
     "output_type": "execute_result"
    }
   ],
   "source": [
    "pd.DataFrame(iat).mean()"
   ]
  },
  {
   "cell_type": "code",
   "execution_count": 402,
   "metadata": {},
   "outputs": [],
   "source": [
    "terremotos = pd.read_csv(\"D:/Hawkes Process/Base de datos Sismos 2020 2 S.csv\")\n",
    "\n",
    "#terremotos = pd.read_csv(\"D:/Hawkes Process/Sismos base de datos final sismos mayores a 3.9.csv\")\n",
    "terremotos.index = pd.to_datetime(terremotos.D.astype(str) + \"/\" + terremotos.M.astype(str) + \"/\" + terremotos.A.astype(str) + \" \" + terremotos.Hora, dayfirst=True)"
   ]
  },
  {
   "cell_type": "code",
   "execution_count": 403,
   "metadata": {},
   "outputs": [
    {
     "data": {
      "image/png": "[encoded data removed]",
      "text/plain": [
       "<Figure size 432x288 with 1 Axes>"
      ]
     },
     "metadata": {
      "needs_background": "light"
     },
     "output_type": "display_data"
    }
   ],
   "source": [
    "terremotos.sort_index(inplace=True)\n",
    "\n",
    "# Calculate each arrival as a (fractional) number of days since the\n",
    "# beginning of the observation period\n",
    "tiempo_inter_terremoto = terremotos.index - pd.Timestamp(\"7/01/2020\")\n",
    "ts = np.array(tiempo_inter_terremoto.total_seconds() / 60 / 60 / 24)\n",
    "iat = np.diff(np.insert(ts, 0, 0))\n",
    "\n",
    "a=1/sum(iat)*len(ts)\n",
    "# Calculate the length of the observation period\n",
    "T = pd.Timestamp(\"1/1/2021\")- pd.Timestamp(\"7/01/2020\")\n",
    "tsShifted = poisson_compensator(ts, a)\n",
    "iat = np.diff(np.insert(tsShifted, 0, 0))\n",
    "qqplot(iat, dist=stats.expon, fit=False, line=\"45\")\n",
    "plt.show()"
   ]
  },
  {
   "cell_type": "code",
   "execution_count": 381,
   "metadata": {},
   "outputs": [
    {
     "data": {
      "text/plain": [
       "array([1.0042275 , 1.2494867 , 0.16163214, ..., 0.35980719, 0.01194672,\n",
       "       1.09066555])"
      ]
     },
     "execution_count": 381,
     "metadata": {},
     "output_type": "execute_result"
    }
   ],
   "source": [
    "iat"
   ]
  },
  {
   "cell_type": "code",
   "execution_count": null,
   "metadata": {},
   "outputs": [],
   "source": []
  },
  {
   "cell_type": "code",
   "execution_count": 405,
   "metadata": {},
   "outputs": [],
   "source": [
    "tsShifted.sort()"
   ]
  },
  {
   "cell_type": "code",
   "execution_count": 406,
   "metadata": {},
   "outputs": [],
   "source": [
    "s=pd.DataFrame(tsShifted)"
   ]
  },
  {
   "cell_type": "code",
   "execution_count": 392,
   "metadata": {},
   "outputs": [],
   "source": [
    "pd.DataFrame(s).to_csv(\"D:/Hawkes Process/prueba.csv\")"
   ]
  },
  {
   "cell_type": "code",
   "execution_count": 400,
   "metadata": {},
   "outputs": [
    {
     "data": {
      "text/plain": [
       "120.38450683764991"
      ]
     },
     "execution_count": 400,
     "metadata": {},
     "output_type": "execute_result"
    }
   ],
   "source": [
    "a"
   ]
  },
  {
   "cell_type": "code",
   "execution_count": 407,
   "metadata": {},
   "outputs": [
    {
     "data": {
      "text/plain": [
       "0    5740.225422\n",
       "dtype: float64"
      ]
     },
     "execution_count": 407,
     "metadata": {},
     "output_type": "execute_result"
    }
   ],
   "source": [
    "s.mean()"
   ]
  },
  {
   "cell_type": "code",
   "execution_count": 409,
   "metadata": {},
   "outputs": [],
   "source": [
    "iat = np.diff(np.insert(tsShifted, 0, 0))"
   ]
  },
  {
   "cell_type": "code",
   "execution_count": 412,
   "metadata": {},
   "outputs": [
    {
     "data": {
      "text/plain": [
       "0    1.0\n",
       "dtype: float64"
      ]
     },
     "execution_count": 412,
     "metadata": {},
     "output_type": "execute_result"
    }
   ],
   "source": [
    "pd.DataFrame(iat).mean()"
   ]
  },
  {
   "cell_type": "code",
   "execution_count": 413,
   "metadata": {},
   "outputs": [
    {
     "data": {
      "text/plain": [
       "array([1.0042275 , 1.2494867 , 0.16163214, ..., 0.35980719, 0.01194672,\n",
       "       1.09066555])"
      ]
     },
     "execution_count": 413,
     "metadata": {},
     "output_type": "execute_result"
    }
   ],
   "source": [
    "iat"
   ]
  },
  {
   "cell_type": "markdown",
   "metadata": {},
   "source": [
    "# Intervalo Empírico Poisson Homogéneo"
   ]
  },
  {
   "cell_type": "code",
   "execution_count": 474,
   "metadata": {},
   "outputs": [],
   "source": [
    "import scipy.stats as stats\n",
    "import matplotlib.pyplot as plt\n",
    "import numpy as np"
   ]
  },
  {
   "cell_type": "code",
   "execution_count": 475,
   "metadata": {},
   "outputs": [],
   "source": [
    "\n"
   ]
  },
  {
   "cell_type": "code",
   "execution_count": 476,
   "metadata": {},
   "outputs": [],
   "source": []
  },
  {
   "cell_type": "code",
   "execution_count": 477,
   "metadata": {},
   "outputs": [],
   "source": []
  },
  {
   "cell_type": "code",
   "execution_count": 486,
   "metadata": {},
   "outputs": [],
   "source": [
    "def poisson_homogeneo(T,lambda_) :\n",
    "    k=0\n",
    "    Tarribo=[]\n",
    "    Tarribo.append(np.random.exponential(scale=1/lambda_, size=None))\n",
    "    while Tarribo[k]< T:\n",
    "        Tarribo.append(Tarribo[k]+ np.random.exponential(scale=1/lambda_, size=None) )\n",
    "        k=k+1\n",
    "    return(Tarribo)"
   ]
  },
  {
   "cell_type": "code",
   "execution_count": 500,
   "metadata": {},
   "outputs": [],
   "source": [
    "my_df  = pd.DataFrame()\n",
    "lambda_=120.3845 #Base de datos 1\n",
    "#lambda_= 7.807 #Base de datos 2\n",
    "#lambda_= 60.7174 # Base de datos 3\n",
    "\n",
    "T = pd.Timestamp(\"10/11/2017\")- pd.Timestamp(\"8/01/2017\")\n",
    "#T = pd.Timestamp(\"05/15/2023\")-pd.Timestamp(\"8/01/2017\")\n",
    "#T = pd.Timestamp(\"1/1/2021\")- pd.Timestamp(\"7/01/2020\")\n",
    "T = float(T.days)\n",
    "for x in range(0,200):\n",
    "    \n",
    "    simular_sismos_3=poisson_homogeneo(T,lambda_)\n",
    "    tiempos_simulados_convertidos=[]\n",
    "    m_simulado=[]\n",
    "    d_simulado=[]\n",
    "    a_simulado=[]\n",
    "    fecha_simulada=[]\n",
    "    for x in range(0,len(simular_sismos_3)):\n",
    "        tiempos_simulados_convertidos.append(pd.Timestamp(\"8/01/2017\")+ datetime.timedelta(days=simular_sismos_3[x]))\n",
    "        d_simulado.append(tiempos_simulados_convertidos[x].day)\n",
    "        m_simulado.append(tiempos_simulados_convertidos[x].month)\n",
    "        a_simulado.append(tiempos_simulados_convertidos[x].year)\n",
    "        fecha_simulada.append(datetime.datetime(a_simulado[x], m_simulado[x], d_simulado[x]).date())\n",
    "    \n",
    "    t_simulados=pd.DataFrame(tiempos_simulados_convertidos)\n",
    "    t_simulados.rename(columns = {0:'t_simulados'}, inplace = True)\n",
    "    d_simulado=pd.DataFrame(d_simulado)\n",
    "    d_simulado.rename(columns = {0:'d_simulado'}, inplace = True)\n",
    "    m_simulado=pd.DataFrame(m_simulado)\n",
    "    m_simulado.rename(columns = {0:'m_simulado'}, inplace = True)\n",
    "    a_simulado=pd.DataFrame(a_simulado)\n",
    "    a_simulado.rename(columns = {0:'a_simulado'}, inplace = True)\n",
    "    fecha_simulada=pd.DataFrame(fecha_simulada)\n",
    "    fecha_simulada.rename(columns = {0:'fecha_simulada'}, inplace = True)\n",
    "    panda_simulado=pd.concat([fecha_simulada], axis=1)\n",
    "    my_df=pd.concat([my_df,panda_simulado],axis=1)"
   ]
  },
  {
   "cell_type": "code",
   "execution_count": 485,
   "metadata": {},
   "outputs": [
    {
     "ename": "IndexError",
     "evalue": "list index out of range",
     "output_type": "error",
     "traceback": [
      "\u001b[1;31m---------------------------------------------------------------------------\u001b[0m",
      "\u001b[1;31mIndexError\u001b[0m                                Traceback (most recent call last)",
      "\u001b[1;32m<ipython-input-485-90c457f93057>\u001b[0m in \u001b[0;36m<module>\u001b[1;34m\u001b[0m\n\u001b[1;32m----> 1\u001b[1;33m \u001b[0msimular_sismos_3\u001b[0m\u001b[1;33m=\u001b[0m\u001b[0mpoisson_homogeneo\u001b[0m\u001b[1;33m(\u001b[0m\u001b[0mT\u001b[0m\u001b[1;33m,\u001b[0m\u001b[0mlambda_\u001b[0m\u001b[1;33m)\u001b[0m\u001b[1;33m\u001b[0m\u001b[1;33m\u001b[0m\u001b[0m\n\u001b[0m\u001b[0;32m      2\u001b[0m \u001b[1;33m\u001b[0m\u001b[0m\n",
      "\u001b[1;32m<ipython-input-483-1a994762609a>\u001b[0m in \u001b[0;36mpoisson_homogeneo\u001b[1;34m(T, lambda_)\u001b[0m\n\u001b[0;32m      2\u001b[0m     \u001b[0mk\u001b[0m\u001b[1;33m=\u001b[0m\u001b[1;36m0\u001b[0m\u001b[1;33m\u001b[0m\u001b[1;33m\u001b[0m\u001b[0m\n\u001b[0;32m      3\u001b[0m     \u001b[0mTarribo\u001b[0m\u001b[1;33m=\u001b[0m\u001b[1;33m[\u001b[0m\u001b[1;33m]\u001b[0m\u001b[1;33m\u001b[0m\u001b[1;33m\u001b[0m\u001b[0m\n\u001b[1;32m----> 4\u001b[1;33m     \u001b[1;32mwhile\u001b[0m \u001b[0mTarribo\u001b[0m\u001b[1;33m[\u001b[0m\u001b[0mk\u001b[0m\u001b[1;33m]\u001b[0m\u001b[1;33m<\u001b[0m \u001b[0mT\u001b[0m\u001b[1;33m:\u001b[0m\u001b[1;33m\u001b[0m\u001b[1;33m\u001b[0m\u001b[0m\n\u001b[0m\u001b[0;32m      5\u001b[0m         \u001b[0mTarribo\u001b[0m\u001b[1;33m.\u001b[0m\u001b[0mappend\u001b[0m\u001b[1;33m(\u001b[0m\u001b[0mTarribo\u001b[0m\u001b[1;33m[\u001b[0m\u001b[0mk\u001b[0m\u001b[1;33m]\u001b[0m\u001b[1;33m+\u001b[0m \u001b[0mnp\u001b[0m\u001b[1;33m.\u001b[0m\u001b[0mrandom\u001b[0m\u001b[1;33m.\u001b[0m\u001b[0mexponential\u001b[0m\u001b[1;33m(\u001b[0m\u001b[0mscale\u001b[0m\u001b[1;33m=\u001b[0m\u001b[1;36m1\u001b[0m\u001b[1;33m/\u001b[0m\u001b[0mlambda_\u001b[0m\u001b[1;33m,\u001b[0m \u001b[0msize\u001b[0m\u001b[1;33m=\u001b[0m\u001b[1;32mNone\u001b[0m\u001b[1;33m)\u001b[0m \u001b[1;33m)\u001b[0m\u001b[1;33m\u001b[0m\u001b[1;33m\u001b[0m\u001b[0m\n\u001b[0;32m      6\u001b[0m         \u001b[0mk\u001b[0m\u001b[1;33m=\u001b[0m\u001b[0mk\u001b[0m\u001b[1;33m+\u001b[0m\u001b[1;36m1\u001b[0m\u001b[1;33m\u001b[0m\u001b[1;33m\u001b[0m\u001b[0m\n",
      "\u001b[1;31mIndexError\u001b[0m: list index out of range"
     ]
    }
   ],
   "source": [
    "simular_sismos_3=poisson_homogeneo(T,lambda_)\n",
    "        "
   ]
  },
  {
   "cell_type": "code",
   "execution_count": 494,
   "metadata": {},
   "outputs": [
    {
     "data": {
      "text/html": [
       "<div>\n",
       "<style scoped>\n",
       "    .dataframe tbody tr th:only-of-type {\n",
       "        vertical-align: middle;\n",
       "    }\n",
       "\n",
       "    .dataframe tbody tr th {\n",
       "        vertical-align: top;\n",
       "    }\n",
       "\n",
       "    .dataframe thead th {\n",
       "        text-align: right;\n",
       "    }\n",
       "</style>\n",
       "<table border=\"1\" class=\"dataframe\">\n",
       "  <thead>\n",
       "    <tr style=\"text-align: right;\">\n",
       "      <th></th>\n",
       "      <th>fecha_simulada</th>\n",
       "      <th>fecha_simulada</th>\n",
       "      <th>fecha_simulada</th>\n",
       "      <th>fecha_simulada</th>\n",
       "      <th>fecha_simulada</th>\n",
       "      <th>fecha_simulada</th>\n",
       "      <th>fecha_simulada</th>\n",
       "      <th>fecha_simulada</th>\n",
       "      <th>fecha_simulada</th>\n",
       "      <th>fecha_simulada</th>\n",
       "      <th>...</th>\n",
       "      <th>fecha_simulada</th>\n",
       "      <th>fecha_simulada</th>\n",
       "      <th>fecha_simulada</th>\n",
       "      <th>fecha_simulada</th>\n",
       "      <th>fecha_simulada</th>\n",
       "      <th>fecha_simulada</th>\n",
       "      <th>fecha_simulada</th>\n",
       "      <th>fecha_simulada</th>\n",
       "      <th>fecha_simulada</th>\n",
       "      <th>fecha_simulada</th>\n",
       "    </tr>\n",
       "  </thead>\n",
       "  <tbody>\n",
       "    <tr>\n",
       "      <th>0</th>\n",
       "      <td>2020-07-01</td>\n",
       "      <td>2020-07-01</td>\n",
       "      <td>2020-07-01</td>\n",
       "      <td>2020-07-01</td>\n",
       "      <td>2020-07-01</td>\n",
       "      <td>2020-07-01</td>\n",
       "      <td>2020-07-01</td>\n",
       "      <td>2020-07-01</td>\n",
       "      <td>2020-07-01</td>\n",
       "      <td>2020-07-01</td>\n",
       "      <td>...</td>\n",
       "      <td>2020-07-01</td>\n",
       "      <td>2020-07-01</td>\n",
       "      <td>2020-07-01</td>\n",
       "      <td>2020-07-01</td>\n",
       "      <td>2020-07-01</td>\n",
       "      <td>2020-07-01</td>\n",
       "      <td>2020-07-01</td>\n",
       "      <td>2020-07-01</td>\n",
       "      <td>2020-07-01</td>\n",
       "      <td>2020-07-01</td>\n",
       "    </tr>\n",
       "    <tr>\n",
       "      <th>1</th>\n",
       "      <td>2020-07-01</td>\n",
       "      <td>2020-07-01</td>\n",
       "      <td>2020-07-01</td>\n",
       "      <td>2020-07-01</td>\n",
       "      <td>2020-07-01</td>\n",
       "      <td>2020-07-01</td>\n",
       "      <td>2020-07-01</td>\n",
       "      <td>2020-07-01</td>\n",
       "      <td>2020-07-01</td>\n",
       "      <td>2020-07-01</td>\n",
       "      <td>...</td>\n",
       "      <td>2020-07-01</td>\n",
       "      <td>2020-07-01</td>\n",
       "      <td>2020-07-01</td>\n",
       "      <td>2020-07-01</td>\n",
       "      <td>2020-07-01</td>\n",
       "      <td>2020-07-01</td>\n",
       "      <td>2020-07-01</td>\n",
       "      <td>2020-07-01</td>\n",
       "      <td>2020-07-01</td>\n",
       "      <td>2020-07-01</td>\n",
       "    </tr>\n",
       "    <tr>\n",
       "      <th>2</th>\n",
       "      <td>2020-07-01</td>\n",
       "      <td>2020-07-01</td>\n",
       "      <td>2020-07-01</td>\n",
       "      <td>2020-07-01</td>\n",
       "      <td>2020-07-01</td>\n",
       "      <td>2020-07-01</td>\n",
       "      <td>2020-07-01</td>\n",
       "      <td>2020-07-01</td>\n",
       "      <td>2020-07-01</td>\n",
       "      <td>2020-07-01</td>\n",
       "      <td>...</td>\n",
       "      <td>2020-07-01</td>\n",
       "      <td>2020-07-01</td>\n",
       "      <td>2020-07-01</td>\n",
       "      <td>2020-07-01</td>\n",
       "      <td>2020-07-01</td>\n",
       "      <td>2020-07-01</td>\n",
       "      <td>2020-07-01</td>\n",
       "      <td>2020-07-01</td>\n",
       "      <td>2020-07-01</td>\n",
       "      <td>2020-07-01</td>\n",
       "    </tr>\n",
       "    <tr>\n",
       "      <th>3</th>\n",
       "      <td>2020-07-01</td>\n",
       "      <td>2020-07-01</td>\n",
       "      <td>2020-07-01</td>\n",
       "      <td>2020-07-01</td>\n",
       "      <td>2020-07-01</td>\n",
       "      <td>2020-07-01</td>\n",
       "      <td>2020-07-01</td>\n",
       "      <td>2020-07-01</td>\n",
       "      <td>2020-07-01</td>\n",
       "      <td>2020-07-01</td>\n",
       "      <td>...</td>\n",
       "      <td>2020-07-01</td>\n",
       "      <td>2020-07-01</td>\n",
       "      <td>2020-07-01</td>\n",
       "      <td>2020-07-01</td>\n",
       "      <td>2020-07-01</td>\n",
       "      <td>2020-07-01</td>\n",
       "      <td>2020-07-01</td>\n",
       "      <td>2020-07-01</td>\n",
       "      <td>2020-07-01</td>\n",
       "      <td>2020-07-01</td>\n",
       "    </tr>\n",
       "    <tr>\n",
       "      <th>4</th>\n",
       "      <td>2020-07-01</td>\n",
       "      <td>2020-07-01</td>\n",
       "      <td>2020-07-01</td>\n",
       "      <td>2020-07-01</td>\n",
       "      <td>2020-07-01</td>\n",
       "      <td>2020-07-01</td>\n",
       "      <td>2020-07-01</td>\n",
       "      <td>2020-07-01</td>\n",
       "      <td>2020-07-01</td>\n",
       "      <td>2020-07-01</td>\n",
       "      <td>...</td>\n",
       "      <td>2020-07-01</td>\n",
       "      <td>2020-07-01</td>\n",
       "      <td>2020-07-01</td>\n",
       "      <td>2020-07-01</td>\n",
       "      <td>2020-07-01</td>\n",
       "      <td>2020-07-01</td>\n",
       "      <td>2020-07-01</td>\n",
       "      <td>2020-07-01</td>\n",
       "      <td>2020-07-01</td>\n",
       "      <td>2020-07-01</td>\n",
       "    </tr>\n",
       "    <tr>\n",
       "      <th>...</th>\n",
       "      <td>...</td>\n",
       "      <td>...</td>\n",
       "      <td>...</td>\n",
       "      <td>...</td>\n",
       "      <td>...</td>\n",
       "      <td>...</td>\n",
       "      <td>...</td>\n",
       "      <td>...</td>\n",
       "      <td>...</td>\n",
       "      <td>...</td>\n",
       "      <td>...</td>\n",
       "      <td>...</td>\n",
       "      <td>...</td>\n",
       "      <td>...</td>\n",
       "      <td>...</td>\n",
       "      <td>...</td>\n",
       "      <td>...</td>\n",
       "      <td>...</td>\n",
       "      <td>...</td>\n",
       "      <td>...</td>\n",
       "      <td>...</td>\n",
       "    </tr>\n",
       "    <tr>\n",
       "      <th>8798</th>\n",
       "      <td>NaN</td>\n",
       "      <td>NaN</td>\n",
       "      <td>NaN</td>\n",
       "      <td>NaN</td>\n",
       "      <td>NaN</td>\n",
       "      <td>NaN</td>\n",
       "      <td>NaN</td>\n",
       "      <td>NaN</td>\n",
       "      <td>NaN</td>\n",
       "      <td>NaN</td>\n",
       "      <td>...</td>\n",
       "      <td>NaN</td>\n",
       "      <td>NaN</td>\n",
       "      <td>NaN</td>\n",
       "      <td>NaN</td>\n",
       "      <td>NaN</td>\n",
       "      <td>NaN</td>\n",
       "      <td>NaN</td>\n",
       "      <td>NaN</td>\n",
       "      <td>NaN</td>\n",
       "      <td>NaN</td>\n",
       "    </tr>\n",
       "    <tr>\n",
       "      <th>8799</th>\n",
       "      <td>NaN</td>\n",
       "      <td>NaN</td>\n",
       "      <td>NaN</td>\n",
       "      <td>NaN</td>\n",
       "      <td>NaN</td>\n",
       "      <td>NaN</td>\n",
       "      <td>NaN</td>\n",
       "      <td>NaN</td>\n",
       "      <td>NaN</td>\n",
       "      <td>NaN</td>\n",
       "      <td>...</td>\n",
       "      <td>NaN</td>\n",
       "      <td>NaN</td>\n",
       "      <td>NaN</td>\n",
       "      <td>NaN</td>\n",
       "      <td>NaN</td>\n",
       "      <td>NaN</td>\n",
       "      <td>NaN</td>\n",
       "      <td>NaN</td>\n",
       "      <td>NaN</td>\n",
       "      <td>NaN</td>\n",
       "    </tr>\n",
       "    <tr>\n",
       "      <th>8800</th>\n",
       "      <td>NaN</td>\n",
       "      <td>NaN</td>\n",
       "      <td>NaN</td>\n",
       "      <td>NaN</td>\n",
       "      <td>NaN</td>\n",
       "      <td>NaN</td>\n",
       "      <td>NaN</td>\n",
       "      <td>NaN</td>\n",
       "      <td>NaN</td>\n",
       "      <td>NaN</td>\n",
       "      <td>...</td>\n",
       "      <td>NaN</td>\n",
       "      <td>NaN</td>\n",
       "      <td>NaN</td>\n",
       "      <td>NaN</td>\n",
       "      <td>NaN</td>\n",
       "      <td>NaN</td>\n",
       "      <td>NaN</td>\n",
       "      <td>NaN</td>\n",
       "      <td>NaN</td>\n",
       "      <td>NaN</td>\n",
       "    </tr>\n",
       "    <tr>\n",
       "      <th>8801</th>\n",
       "      <td>NaN</td>\n",
       "      <td>NaN</td>\n",
       "      <td>NaN</td>\n",
       "      <td>NaN</td>\n",
       "      <td>NaN</td>\n",
       "      <td>NaN</td>\n",
       "      <td>NaN</td>\n",
       "      <td>NaN</td>\n",
       "      <td>NaN</td>\n",
       "      <td>NaN</td>\n",
       "      <td>...</td>\n",
       "      <td>NaN</td>\n",
       "      <td>NaN</td>\n",
       "      <td>NaN</td>\n",
       "      <td>NaN</td>\n",
       "      <td>NaN</td>\n",
       "      <td>NaN</td>\n",
       "      <td>NaN</td>\n",
       "      <td>NaN</td>\n",
       "      <td>NaN</td>\n",
       "      <td>NaN</td>\n",
       "    </tr>\n",
       "    <tr>\n",
       "      <th>8802</th>\n",
       "      <td>NaN</td>\n",
       "      <td>NaN</td>\n",
       "      <td>NaN</td>\n",
       "      <td>NaN</td>\n",
       "      <td>NaN</td>\n",
       "      <td>NaN</td>\n",
       "      <td>NaN</td>\n",
       "      <td>NaN</td>\n",
       "      <td>NaN</td>\n",
       "      <td>NaN</td>\n",
       "      <td>...</td>\n",
       "      <td>NaN</td>\n",
       "      <td>NaN</td>\n",
       "      <td>NaN</td>\n",
       "      <td>NaN</td>\n",
       "      <td>NaN</td>\n",
       "      <td>NaN</td>\n",
       "      <td>NaN</td>\n",
       "      <td>NaN</td>\n",
       "      <td>NaN</td>\n",
       "      <td>NaN</td>\n",
       "    </tr>\n",
       "  </tbody>\n",
       "</table>\n",
       "<p>8803 rows × 200 columns</p>\n",
       "</div>"
      ],
      "text/plain": [
       "     fecha_simulada fecha_simulada fecha_simulada fecha_simulada  \\\n",
       "0        2020-07-01     2020-07-01     2020-07-01     2020-07-01   \n",
       "1        2020-07-01     2020-07-01     2020-07-01     2020-07-01   \n",
       "2        2020-07-01     2020-07-01     2020-07-01     2020-07-01   \n",
       "3        2020-07-01     2020-07-01     2020-07-01     2020-07-01   \n",
       "4        2020-07-01     2020-07-01     2020-07-01     2020-07-01   \n",
       "...             ...            ...            ...            ...   \n",
       "8798            NaN            NaN            NaN            NaN   \n",
       "8799            NaN            NaN            NaN            NaN   \n",
       "8800            NaN            NaN            NaN            NaN   \n",
       "8801            NaN            NaN            NaN            NaN   \n",
       "8802            NaN            NaN            NaN            NaN   \n",
       "\n",
       "     fecha_simulada fecha_simulada fecha_simulada fecha_simulada  \\\n",
       "0        2020-07-01     2020-07-01     2020-07-01     2020-07-01   \n",
       "1        2020-07-01     2020-07-01     2020-07-01     2020-07-01   \n",
       "2        2020-07-01     2020-07-01     2020-07-01     2020-07-01   \n",
       "3        2020-07-01     2020-07-01     2020-07-01     2020-07-01   \n",
       "4        2020-07-01     2020-07-01     2020-07-01     2020-07-01   \n",
       "...             ...            ...            ...            ...   \n",
       "8798            NaN            NaN            NaN            NaN   \n",
       "8799            NaN            NaN            NaN            NaN   \n",
       "8800            NaN            NaN            NaN            NaN   \n",
       "8801            NaN            NaN            NaN            NaN   \n",
       "8802            NaN            NaN            NaN            NaN   \n",
       "\n",
       "     fecha_simulada fecha_simulada  ... fecha_simulada fecha_simulada  \\\n",
       "0        2020-07-01     2020-07-01  ...     2020-07-01     2020-07-01   \n",
       "1        2020-07-01     2020-07-01  ...     2020-07-01     2020-07-01   \n",
       "2        2020-07-01     2020-07-01  ...     2020-07-01     2020-07-01   \n",
       "3        2020-07-01     2020-07-01  ...     2020-07-01     2020-07-01   \n",
       "4        2020-07-01     2020-07-01  ...     2020-07-01     2020-07-01   \n",
       "...             ...            ...  ...            ...            ...   \n",
       "8798            NaN            NaN  ...            NaN            NaN   \n",
       "8799            NaN            NaN  ...            NaN            NaN   \n",
       "8800            NaN            NaN  ...            NaN            NaN   \n",
       "8801            NaN            NaN  ...            NaN            NaN   \n",
       "8802            NaN            NaN  ...            NaN            NaN   \n",
       "\n",
       "     fecha_simulada fecha_simulada fecha_simulada fecha_simulada  \\\n",
       "0        2020-07-01     2020-07-01     2020-07-01     2020-07-01   \n",
       "1        2020-07-01     2020-07-01     2020-07-01     2020-07-01   \n",
       "2        2020-07-01     2020-07-01     2020-07-01     2020-07-01   \n",
       "3        2020-07-01     2020-07-01     2020-07-01     2020-07-01   \n",
       "4        2020-07-01     2020-07-01     2020-07-01     2020-07-01   \n",
       "...             ...            ...            ...            ...   \n",
       "8798            NaN            NaN            NaN            NaN   \n",
       "8799            NaN            NaN            NaN            NaN   \n",
       "8800            NaN            NaN            NaN            NaN   \n",
       "8801            NaN            NaN            NaN            NaN   \n",
       "8802            NaN            NaN            NaN            NaN   \n",
       "\n",
       "     fecha_simulada fecha_simulada fecha_simulada fecha_simulada  \n",
       "0        2020-07-01     2020-07-01     2020-07-01     2020-07-01  \n",
       "1        2020-07-01     2020-07-01     2020-07-01     2020-07-01  \n",
       "2        2020-07-01     2020-07-01     2020-07-01     2020-07-01  \n",
       "3        2020-07-01     2020-07-01     2020-07-01     2020-07-01  \n",
       "4        2020-07-01     2020-07-01     2020-07-01     2020-07-01  \n",
       "...             ...            ...            ...            ...  \n",
       "8798            NaN            NaN            NaN            NaN  \n",
       "8799            NaN            NaN            NaN            NaN  \n",
       "8800            NaN            NaN            NaN            NaN  \n",
       "8801            NaN            NaN            NaN            NaN  \n",
       "8802            NaN            NaN            NaN            NaN  \n",
       "\n",
       "[8803 rows x 200 columns]"
      ]
     },
     "execution_count": 494,
     "metadata": {},
     "output_type": "execute_result"
    }
   ],
   "source": [
    "my_df"
   ]
  },
  {
   "cell_type": "code",
   "execution_count": 501,
   "metadata": {},
   "outputs": [],
   "source": [
    "my_df.to_csv(\"D:/Hawkes Process/Simulacion_Poisson_Homogeneo_base1.csv\")"
   ]
  },
  {
   "cell_type": "code",
   "execution_count": null,
   "metadata": {},
   "outputs": [],
   "source": []
  }
 ],
 "metadata": {
  "kernelspec": {
   "display_name": "Python 3",
   "language": "python",
   "name": "python3"
  },
  "language_info": {
   "codemirror_mode": {
    "name": "ipython",
    "version": 3
   },
   "file_extension": ".py",
   "mimetype": "text/x-python",
   "name": "python",
   "nbconvert_exporter": "python",
   "pygments_lexer": "ipython3",
   "version": "3.8.5"
  }
 },
 "nbformat": 4,
 "nbformat_minor": 4
}
